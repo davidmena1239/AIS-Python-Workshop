{
  "nbformat": 4,
  "nbformat_minor": 0,
  "metadata": {
    "colab": {
      "name": "Python Workshop #2 (Fall 2021)",
      "provenance": [],
      "authorship_tag": "ABX9TyMrLaRofnf4ciqI2lOTJ7lQ",
      "include_colab_link": true
    },
    "kernelspec": {
      "name": "python3",
      "display_name": "Python 3"
    },
    "language_info": {
      "name": "python"
    }
  },
  "cells": [
    {
      "cell_type": "markdown",
      "metadata": {
        "id": "view-in-github",
        "colab_type": "text"
      },
      "source": [
        "<a href=\"https://colab.research.google.com/github/davidmena1239/AIS-Python-Workshop/blob/main/Python_Workshop_2_(Fall_2021).ipynb\" target=\"_parent\"><img src=\"https://colab.research.google.com/assets/colab-badge.svg\" alt=\"Open In Colab\"/></a>"
      ]
    },
    {
      "cell_type": "markdown",
      "metadata": {
        "id": "gk-PYrhZRm1j"
      },
      "source": [
        "#Lesson 1 - NumPy (Numerical Python)"
      ]
    },
    {
      "cell_type": "code",
      "metadata": {
        "id": "Cu3Jzl2YRkAG"
      },
      "source": [
        "import numpy as np "
      ],
      "execution_count": 8,
      "outputs": []
    },
    {
      "cell_type": "code",
      "metadata": {
        "colab": {
          "base_uri": "https://localhost:8080/"
        },
        "id": "XdZQmJ5s4v15",
        "outputId": "af5c13db-1507-431f-c2df-be4cacb6ed85"
      },
      "source": [
        "#Making arrays is simple in Numpy, we just type np.array\n",
        "\n",
        "np.array([1, 2, 3, 4])"
      ],
      "execution_count": 9,
      "outputs": [
        {
          "output_type": "execute_result",
          "data": {
            "text/plain": [
              "array([1, 2, 3, 4])"
            ]
          },
          "metadata": {},
          "execution_count": 9
        }
      ]
    },
    {
      "cell_type": "code",
      "metadata": {
        "colab": {
          "base_uri": "https://localhost:8080/"
        },
        "id": "KJT9eNTU4wV1",
        "outputId": "d44b20c1-78a5-41c7-a1c6-6e271a51414e"
      },
      "source": [
        "#We can set it to a variable\n",
        "\n",
        "a = np.array([1, 2, 3, 4])\n",
        "\n",
        "print(type(a))\n",
        "\n",
        "print(a)"
      ],
      "execution_count": 10,
      "outputs": [
        {
          "output_type": "stream",
          "name": "stdout",
          "text": [
            "<class 'numpy.ndarray'>\n",
            "[1 2 3 4]\n"
          ]
        }
      ]
    },
    {
      "cell_type": "code",
      "metadata": {
        "colab": {
          "base_uri": "https://localhost:8080/"
        },
        "id": "3DRT0AaR4wYl",
        "outputId": "4e4b7988-8f7d-4492-f2e1-7b609819701f"
      },
      "source": [
        "#We can use indexing and slicing to get elements from it like a list \n",
        "\n",
        "print(a[0])\n",
        "\n",
        "print(a[-1])\n",
        "\n",
        "print(a[0], a[1], a[2], a[3])\n",
        "\n",
        "print(a[1:3])"
      ],
      "execution_count": 11,
      "outputs": [
        {
          "output_type": "stream",
          "name": "stdout",
          "text": [
            "1\n",
            "4\n",
            "1 2 3 4\n",
            "[2 3]\n"
          ]
        }
      ]
    },
    {
      "cell_type": "code",
      "metadata": {
        "colab": {
          "base_uri": "https://localhost:8080/"
        },
        "id": "NRR0LoJrHIxw",
        "outputId": "e4d07c5f-bd02-4762-a7f2-62545dfad475"
      },
      "source": [
        "#can change elements in the array\n",
        "\n",
        "a[1] = 8\n",
        "print(a)"
      ],
      "execution_count": 12,
      "outputs": [
        {
          "output_type": "stream",
          "name": "stdout",
          "text": [
            "[1 8 3 4]\n"
          ]
        }
      ]
    },
    {
      "cell_type": "code",
      "metadata": {
        "colab": {
          "base_uri": "https://localhost:8080/"
        },
        "id": "De26LuNW4wbb",
        "outputId": "d5a84125-5429-4b47-8701-c6c3ad33df4b"
      },
      "source": [
        "#2 dimensional arrays\n",
        "\n",
        "b = np.array([\n",
        "    [1, 2, 3],\n",
        "    [4, 5, 6],\n",
        "])\n",
        "\n",
        "print(b)"
      ],
      "execution_count": 13,
      "outputs": [
        {
          "output_type": "stream",
          "name": "stdout",
          "text": [
            "[[1 2 3]\n",
            " [4 5 6]]\n"
          ]
        }
      ]
    },
    {
      "cell_type": "code",
      "metadata": {
        "colab": {
          "base_uri": "https://localhost:8080/"
        },
        "id": "8NCvifCq4wec",
        "outputId": "723da45d-328d-467b-cb1f-b7f835d5a540"
      },
      "source": [
        "#.shape shows you the number of rows and columns in an array, respectively\n",
        "\n",
        "b.shape"
      ],
      "execution_count": 14,
      "outputs": [
        {
          "output_type": "execute_result",
          "data": {
            "text/plain": [
              "(2, 3)"
            ]
          },
          "metadata": {},
          "execution_count": 14
        }
      ]
    },
    {
      "cell_type": "code",
      "metadata": {
        "id": "JSjrtsOV4whZ"
      },
      "source": [
        "# This is a multi dimensional array. We can go thorugh it with index and slicing\n",
        "\n",
        "c = np.array([\n",
        "#.   0. 1. 2\n",
        "    [1, 2, 3], # 0\n",
        "    [4, 5, 6], # 1\n",
        "    [7, 8, 9]  # 2\n",
        "])"
      ],
      "execution_count": 15,
      "outputs": []
    },
    {
      "cell_type": "code",
      "metadata": {
        "colab": {
          "base_uri": "https://localhost:8080/"
        },
        "id": "HEe7XRpa4wkE",
        "outputId": "ab2944de-697b-419a-e52b-f02a53867f06"
      },
      "source": [
        "#The index goes by rows, then columns. \n",
        "\n",
        "print(c[1]) #will give the row at index 1"
      ],
      "execution_count": 16,
      "outputs": [
        {
          "output_type": "stream",
          "name": "stdout",
          "text": [
            "[4 5 6]\n"
          ]
        }
      ]
    },
    {
      "cell_type": "code",
      "metadata": {
        "colab": {
          "base_uri": "https://localhost:8080/"
        },
        "id": "6jIGzv854wm-",
        "outputId": "cec98fd8-22ff-4ef6-f677-096605696269"
      },
      "source": [
        "print(c[1][0]) #will give us the element from row index 1, column index 0\n",
        "\n",
        "print(c[1, 0]) #Does the same thing as above. "
      ],
      "execution_count": 17,
      "outputs": [
        {
          "output_type": "stream",
          "name": "stdout",
          "text": [
            "4\n",
            "4\n"
          ]
        }
      ]
    },
    {
      "cell_type": "code",
      "metadata": {
        "colab": {
          "base_uri": "https://localhost:8080/"
        },
        "id": "0lv0WqjK4wqV",
        "outputId": "02f0e3ce-1db6-4a34-90bd-c95bcaac0f6a"
      },
      "source": [
        "#Slicing lets us get the first 2 rows\n",
        "\n",
        "c[0:2]"
      ],
      "execution_count": 18,
      "outputs": [
        {
          "output_type": "execute_result",
          "data": {
            "text/plain": [
              "array([[1, 2, 3],\n",
              "       [4, 5, 6]])"
            ]
          },
          "metadata": {},
          "execution_count": 18
        }
      ]
    },
    {
      "cell_type": "code",
      "metadata": {
        "colab": {
          "base_uri": "https://localhost:8080/"
        },
        "id": "R8S-S_ue4wtC",
        "outputId": "dd3307d0-0e4d-4114-9786-d17c107f9a14"
      },
      "source": [
        "#We can slice through both dimensions. \n",
        "\n",
        "c[:, :2]"
      ],
      "execution_count": 19,
      "outputs": [
        {
          "output_type": "execute_result",
          "data": {
            "text/plain": [
              "array([[1, 2],\n",
              "       [4, 5],\n",
              "       [7, 8]])"
            ]
          },
          "metadata": {},
          "execution_count": 19
        }
      ]
    },
    {
      "cell_type": "code",
      "metadata": {
        "colab": {
          "base_uri": "https://localhost:8080/"
        },
        "id": "dt36qT8d4wv5",
        "outputId": "21e5783b-2911-466f-a14c-8cbd59fd72ee"
      },
      "source": [
        "#can see statistics of an array with numpy\n",
        "\n",
        "a = np.array([1, 2, 3, 4])\n",
        "print(a)\n",
        "\n",
        "print(a.sum())\n",
        "\n",
        "print(a.mean())\n",
        "\n",
        "print(a.std())"
      ],
      "execution_count": 20,
      "outputs": [
        {
          "output_type": "stream",
          "name": "stdout",
          "text": [
            "[1 2 3 4]\n",
            "10\n",
            "2.5\n",
            "1.118033988749895\n"
          ]
        }
      ]
    },
    {
      "cell_type": "code",
      "metadata": {
        "colab": {
          "base_uri": "https://localhost:8080/"
        },
        "id": "M7pmoSmv4wy8",
        "outputId": "e006c9cc-6070-4ce4-b65f-a65bb64babe8"
      },
      "source": [
        "#we can also do it for multi dimensional arrays\n",
        "b = np.array([\n",
        "    [1, 2, 3],\n",
        "    [4, 5, 6],\n",
        "    [7, 8, 9]\n",
        "])\n",
        "\n",
        "print(b)\n",
        "\n",
        "print(b.sum())\n",
        "\n",
        "#Axis = 0 is referring to the columns and axis = 1 refers to the rows\n",
        "print(b.sum(axis = 0))\n",
        "print(b.sum(axis = 1))"
      ],
      "execution_count": 21,
      "outputs": [
        {
          "output_type": "stream",
          "name": "stdout",
          "text": [
            "[[1 2 3]\n",
            " [4 5 6]\n",
            " [7 8 9]]\n",
            "45\n",
            "[12 15 18]\n",
            "[ 6 15 24]\n"
          ]
        }
      ]
    },
    {
      "cell_type": "markdown",
      "metadata": {
        "id": "g8r9dx78SxZf"
      },
      "source": [
        "#Lesson 2 - Pandas Series"
      ]
    },
    {
      "cell_type": "code",
      "metadata": {
        "id": "Q1o-UWXlSvEI"
      },
      "source": [
        "#People usually import numpy along with pandas because sometimes you will need to create an array using numpy that can then be passed to pandas.\n",
        "\n",
        "import numpy as np\n",
        "import pandas as pd"
      ],
      "execution_count": 22,
      "outputs": []
    },
    {
      "cell_type": "code",
      "metadata": {
        "colab": {
          "base_uri": "https://localhost:8080/"
        },
        "id": "VRi83SczZdcP",
        "outputId": "41f237c3-c555-4544-eff3-cd3168baac21"
      },
      "source": [
        "#Pandas series can be made from lists, dictionaries, numbers, or you can just put in the values yourself. For the sake of the tutorial, we'll make our own values. \n",
        "#The S in Series has to be capitalized in order for it to work.\n",
        "\n",
        "ages = pd.Series([33, 12, 20, 43, 27, 8, 55])\n",
        "\n",
        "print(type(ages))\n",
        "\n",
        "print(ages)"
      ],
      "execution_count": 23,
      "outputs": [
        {
          "output_type": "stream",
          "name": "stdout",
          "text": [
            "<class 'pandas.core.series.Series'>\n",
            "0    33\n",
            "1    12\n",
            "2    20\n",
            "3    43\n",
            "4    27\n",
            "5     8\n",
            "6    55\n",
            "dtype: int64\n"
          ]
        }
      ]
    },
    {
      "cell_type": "code",
      "metadata": {
        "colab": {
          "base_uri": "https://localhost:8080/"
        },
        "id": "1AvbomDptRok",
        "outputId": "1da44f76-e99b-41ce-8930-e5bd23e0950f"
      },
      "source": [
        "#The ages series has no name, but we can change this\n",
        "\n",
        "print(ages.name)"
      ],
      "execution_count": 24,
      "outputs": [
        {
          "output_type": "stream",
          "name": "stdout",
          "text": [
            "None\n"
          ]
        }
      ]
    },
    {
      "cell_type": "code",
      "metadata": {
        "colab": {
          "base_uri": "https://localhost:8080/"
        },
        "id": "xe1y04KjZdgC",
        "outputId": "84f2533f-4659-41bf-ffe2-a3749c9b6b53"
      },
      "source": [
        "#We can name the series to make it more specific\n",
        "\n",
        "ages.name = \"Ages of David's family members\"\n",
        "print(ages)"
      ],
      "execution_count": 25,
      "outputs": [
        {
          "output_type": "stream",
          "name": "stdout",
          "text": [
            "0    33\n",
            "1    12\n",
            "2    20\n",
            "3    43\n",
            "4    27\n",
            "5     8\n",
            "6    55\n",
            "Name: Ages of David's family members, dtype: int64\n"
          ]
        }
      ]
    },
    {
      "cell_type": "code",
      "metadata": {
        "colab": {
          "base_uri": "https://localhost:8080/"
        },
        "id": "JbMyUeJQU6jl",
        "outputId": "19260f08-ff66-4108-ee2f-bbf74ef80128"
      },
      "source": [
        "print(ages.name)"
      ],
      "execution_count": 26,
      "outputs": [
        {
          "output_type": "stream",
          "name": "stdout",
          "text": [
            "Ages of David's family members\n"
          ]
        }
      ]
    },
    {
      "cell_type": "code",
      "metadata": {
        "colab": {
          "base_uri": "https://localhost:8080/"
        },
        "id": "szPUh0sEZdmX",
        "outputId": "345f7290-9d32-406b-c3e2-d82a7d4f1652"
      },
      "source": [
        "#We can use some of the same functions we used with NumPy arrays, some of these don't use parenthesis\n",
        "#dtype will return the data type in the series\n",
        "\n",
        "ages.dtype"
      ],
      "execution_count": 27,
      "outputs": [
        {
          "output_type": "execute_result",
          "data": {
            "text/plain": [
              "dtype('int64')"
            ]
          },
          "metadata": {},
          "execution_count": 27
        }
      ]
    },
    {
      "cell_type": "code",
      "metadata": {
        "colab": {
          "base_uri": "https://localhost:8080/"
        },
        "id": "Eobo6DpGZdpY",
        "outputId": "a50e99a0-40ae-4feb-ce5f-8c81d9b58d19"
      },
      "source": [
        "ages.shape"
      ],
      "execution_count": 28,
      "outputs": [
        {
          "output_type": "execute_result",
          "data": {
            "text/plain": [
              "(7,)"
            ]
          },
          "metadata": {},
          "execution_count": 28
        }
      ]
    },
    {
      "cell_type": "code",
      "metadata": {
        "colab": {
          "base_uri": "https://localhost:8080/"
        },
        "id": "jaPx4GXLZdsL",
        "outputId": "d8dbedb5-2a79-4c43-e124-6f71b9a0aa80"
      },
      "source": [
        "#.size returns the number of elements in the series\n",
        "\n",
        "ages.size"
      ],
      "execution_count": 29,
      "outputs": [
        {
          "output_type": "execute_result",
          "data": {
            "text/plain": [
              "7"
            ]
          },
          "metadata": {},
          "execution_count": 29
        }
      ]
    },
    {
      "cell_type": "code",
      "metadata": {
        "colab": {
          "base_uri": "https://localhost:8080/"
        },
        "id": "Xsgjivvu99vc",
        "outputId": "7be9c9d5-8158-460d-b072-af866410bd69"
      },
      "source": [
        "#Statistics of the series\n",
        "\n",
        "print(ages.sum())\n",
        "\n",
        "print(ages.mean())\n",
        "\n",
        "print(ages.std())"
      ],
      "execution_count": 30,
      "outputs": [
        {
          "output_type": "stream",
          "name": "stdout",
          "text": [
            "198\n",
            "28.285714285714285\n",
            "16.829678999853066\n"
          ]
        }
      ]
    },
    {
      "cell_type": "code",
      "metadata": {
        "colab": {
          "base_uri": "https://localhost:8080/"
        },
        "id": "YwRYmkTcZduy",
        "outputId": "ba26d626-d4ab-4e58-e0be-7ea8cce2d4c0"
      },
      "source": [
        "#We can access elements by indexing, however, it’s considered good practice to use special index attributes called loc and iloc when indexing with Pandas.\n",
        "\n",
        "print(ages[0])\n",
        "\n",
        "print(ages.iloc[6])"
      ],
      "execution_count": 31,
      "outputs": [
        {
          "output_type": "stream",
          "name": "stdout",
          "text": [
            "33\n",
            "55\n"
          ]
        }
      ]
    },
    {
      "cell_type": "code",
      "metadata": {
        "colab": {
          "base_uri": "https://localhost:8080/"
        },
        "id": "vIhT8b7-JWOL",
        "outputId": "643edfc0-64aa-4486-e6e6-9fd92eff6bd8"
      },
      "source": [
        "#I put this here as a reference\n",
        "\n",
        "print(ages)"
      ],
      "execution_count": 32,
      "outputs": [
        {
          "output_type": "stream",
          "name": "stdout",
          "text": [
            "0    33\n",
            "1    12\n",
            "2    20\n",
            "3    43\n",
            "4    27\n",
            "5     8\n",
            "6    55\n",
            "Name: Ages of David's family members, dtype: int64\n"
          ]
        }
      ]
    },
    {
      "cell_type": "code",
      "metadata": {
        "colab": {
          "base_uri": "https://localhost:8080/"
        },
        "id": "Q50CjpPevAe2",
        "outputId": "79fe20ad-65ff-4f6c-e9d3-02aa88e80dcd"
      },
      "source": [
        "#We can define the index with their own names if we use .index\n",
        "#The new indexes match the values in the series in order. So the first index name you put will match to the first value in the series.\n",
        "\n",
        "ages.index = [\"Ivana\", \"Gabby\", \"Jared\", \"Franklin\", \"Carlie\", \"Max\", \"Josefina\"]\n",
        "\n",
        "print(ages)"
      ],
      "execution_count": 33,
      "outputs": [
        {
          "output_type": "stream",
          "name": "stdout",
          "text": [
            "Ivana       33\n",
            "Gabby       12\n",
            "Jared       20\n",
            "Franklin    43\n",
            "Carlie      27\n",
            "Max          8\n",
            "Josefina    55\n",
            "Name: Ages of David's family members, dtype: int64\n"
          ]
        }
      ]
    },
    {
      "cell_type": "code",
      "metadata": {
        "colab": {
          "base_uri": "https://localhost:8080/"
        },
        "id": "kOvU7fBzvAo_",
        "outputId": "96b45596-c50d-4f8c-cb8a-88920f172300"
      },
      "source": [
        "#Now we can access the elements with the new indexes by using .loc\n",
        "\n",
        "print(ages.loc[\"Jared\"])\n",
        "\n",
        "print(ages.loc[\"Franklin\"])"
      ],
      "execution_count": 34,
      "outputs": [
        {
          "output_type": "stream",
          "name": "stdout",
          "text": [
            "20\n",
            "43\n"
          ]
        }
      ]
    },
    {
      "cell_type": "code",
      "metadata": {
        "colab": {
          "base_uri": "https://localhost:8080/"
        },
        "id": "j2oDvHLAvAsJ",
        "outputId": "46074618-0b31-4f70-947d-56787b99db97"
      },
      "source": [
        "#We can still use regular indexing to get the elements by sequential position with .iloc\n",
        "\n",
        "print(ages.iloc[2])\n",
        "\n",
        "print(ages.iloc[4])\n",
        "\n",
        "#We can use negative indexing with this too\n",
        "print(ages.iloc[-1])"
      ],
      "execution_count": 35,
      "outputs": [
        {
          "output_type": "stream",
          "name": "stdout",
          "text": [
            "20\n",
            "27\n",
            "55\n"
          ]
        }
      ]
    },
    {
      "cell_type": "code",
      "metadata": {
        "colab": {
          "base_uri": "https://localhost:8080/"
        },
        "id": "1nOfMCpfvA1i",
        "outputId": "0dea8067-5c96-4142-e3ea-9fe849a2ded8"
      },
      "source": [
        "#Slicing with .iloc works the same as it does in lists and arrays. It will get the values up to but NOT including the value after the colon.\n",
        "\n",
        "print(ages.iloc[0:3])"
      ],
      "execution_count": 36,
      "outputs": [
        {
          "output_type": "stream",
          "name": "stdout",
          "text": [
            "Ivana    33\n",
            "Gabby    12\n",
            "Jared    20\n",
            "Name: Ages of David's family members, dtype: int64\n"
          ]
        }
      ]
    },
    {
      "cell_type": "code",
      "metadata": {
        "colab": {
          "base_uri": "https://localhost:8080/"
        },
        "id": "9CKTYNN8vA4n",
        "outputId": "bd585a24-c730-4e4f-c81d-5915de6aec2e"
      },
      "source": [
        "#Slicing with .loc works the same for the most part. The only difference is that slicing with .loc will get the values up to AND including the value after the colon.\n",
        "\n",
        "print(ages.loc[\"Ivana\":\"Franklin\"])"
      ],
      "execution_count": 37,
      "outputs": [
        {
          "output_type": "stream",
          "name": "stdout",
          "text": [
            "Ivana       33\n",
            "Gabby       12\n",
            "Jared       20\n",
            "Franklin    43\n",
            "Name: Ages of David's family members, dtype: int64\n"
          ]
        }
      ]
    },
    {
      "cell_type": "code",
      "metadata": {
        "colab": {
          "base_uri": "https://localhost:8080/"
        },
        "id": "q1XkN3BrBs6b",
        "outputId": "45e04966-dba8-4585-f1e0-f79dc89ec8a6"
      },
      "source": [
        "#Another example:\n",
        "\n",
        "print(ages.loc[\"Jared\":\"Max\"])"
      ],
      "execution_count": 38,
      "outputs": [
        {
          "output_type": "stream",
          "name": "stdout",
          "text": [
            "Jared       20\n",
            "Franklin    43\n",
            "Carlie      27\n",
            "Max          8\n",
            "Name: Ages of David's family members, dtype: int64\n"
          ]
        }
      ]
    },
    {
      "cell_type": "code",
      "metadata": {
        "colab": {
          "base_uri": "https://localhost:8080/"
        },
        "id": "qOR29uFVvA71",
        "outputId": "5ecc2f98-6126-4a98-dcd0-3a7806c09d08"
      },
      "source": [
        "#Can change values in a series like in lists\n",
        "\n",
        "ages.loc[\"Jared\"] = 21\n",
        "print(ages)"
      ],
      "execution_count": 39,
      "outputs": [
        {
          "output_type": "stream",
          "name": "stdout",
          "text": [
            "Ivana       33\n",
            "Gabby       12\n",
            "Jared       21\n",
            "Franklin    43\n",
            "Carlie      27\n",
            "Max          8\n",
            "Josefina    55\n",
            "Name: Ages of David's family members, dtype: int64\n"
          ]
        }
      ]
    },
    {
      "cell_type": "code",
      "metadata": {
        "colab": {
          "base_uri": "https://localhost:8080/"
        },
        "id": "53EU_ac6vA-x",
        "outputId": "8f471517-ab3e-4c98-92c6-016a22882694"
      },
      "source": [
        "ages.iloc[-1] = 56\n",
        "print(ages)"
      ],
      "execution_count": 40,
      "outputs": [
        {
          "output_type": "stream",
          "name": "stdout",
          "text": [
            "Ivana       33\n",
            "Gabby       12\n",
            "Jared       21\n",
            "Franklin    43\n",
            "Carlie      27\n",
            "Max          8\n",
            "Josefina    56\n",
            "Name: Ages of David's family members, dtype: int64\n"
          ]
        }
      ]
    },
    {
      "cell_type": "markdown",
      "metadata": {
        "id": "b4Ex8KAuG7gr"
      },
      "source": [
        "#Lesson 3 - Pandas Dataframes\n"
      ]
    },
    {
      "cell_type": "code",
      "metadata": {
        "colab": {
          "resources": {
            "http://localhost:8080/nbextensions/google.colab/files.js": {
              "data": "Ly8gQ29weXJpZ2h0IDIwMTcgR29vZ2xlIExMQwovLwovLyBMaWNlbnNlZCB1bmRlciB0aGUgQXBhY2hlIExpY2Vuc2UsIFZlcnNpb24gMi4wICh0aGUgIkxpY2Vuc2UiKTsKLy8geW91IG1heSBub3QgdXNlIHRoaXMgZmlsZSBleGNlcHQgaW4gY29tcGxpYW5jZSB3aXRoIHRoZSBMaWNlbnNlLgovLyBZb3UgbWF5IG9idGFpbiBhIGNvcHkgb2YgdGhlIExpY2Vuc2UgYXQKLy8KLy8gICAgICBodHRwOi8vd3d3LmFwYWNoZS5vcmcvbGljZW5zZXMvTElDRU5TRS0yLjAKLy8KLy8gVW5sZXNzIHJlcXVpcmVkIGJ5IGFwcGxpY2FibGUgbGF3IG9yIGFncmVlZCB0byBpbiB3cml0aW5nLCBzb2Z0d2FyZQovLyBkaXN0cmlidXRlZCB1bmRlciB0aGUgTGljZW5zZSBpcyBkaXN0cmlidXRlZCBvbiBhbiAiQVMgSVMiIEJBU0lTLAovLyBXSVRIT1VUIFdBUlJBTlRJRVMgT1IgQ09ORElUSU9OUyBPRiBBTlkgS0lORCwgZWl0aGVyIGV4cHJlc3Mgb3IgaW1wbGllZC4KLy8gU2VlIHRoZSBMaWNlbnNlIGZvciB0aGUgc3BlY2lmaWMgbGFuZ3VhZ2UgZ292ZXJuaW5nIHBlcm1pc3Npb25zIGFuZAovLyBsaW1pdGF0aW9ucyB1bmRlciB0aGUgTGljZW5zZS4KCi8qKgogKiBAZmlsZW92ZXJ2aWV3IEhlbHBlcnMgZm9yIGdvb2dsZS5jb2xhYiBQeXRob24gbW9kdWxlLgogKi8KKGZ1bmN0aW9uKHNjb3BlKSB7CmZ1bmN0aW9uIHNwYW4odGV4dCwgc3R5bGVBdHRyaWJ1dGVzID0ge30pIHsKICBjb25zdCBlbGVtZW50ID0gZG9jdW1lbnQuY3JlYXRlRWxlbWVudCgnc3BhbicpOwogIGVsZW1lbnQudGV4dENvbnRlbnQgPSB0ZXh0OwogIGZvciAoY29uc3Qga2V5IG9mIE9iamVjdC5rZXlzKHN0eWxlQXR0cmlidXRlcykpIHsKICAgIGVsZW1lbnQuc3R5bGVba2V5XSA9IHN0eWxlQXR0cmlidXRlc1trZXldOwogIH0KICByZXR1cm4gZWxlbWVudDsKfQoKLy8gTWF4IG51bWJlciBvZiBieXRlcyB3aGljaCB3aWxsIGJlIHVwbG9hZGVkIGF0IGEgdGltZS4KY29uc3QgTUFYX1BBWUxPQURfU0laRSA9IDEwMCAqIDEwMjQ7CgpmdW5jdGlvbiBfdXBsb2FkRmlsZXMoaW5wdXRJZCwgb3V0cHV0SWQpIHsKICBjb25zdCBzdGVwcyA9IHVwbG9hZEZpbGVzU3RlcChpbnB1dElkLCBvdXRwdXRJZCk7CiAgY29uc3Qgb3V0cHV0RWxlbWVudCA9IGRvY3VtZW50LmdldEVsZW1lbnRCeUlkKG91dHB1dElkKTsKICAvLyBDYWNoZSBzdGVwcyBvbiB0aGUgb3V0cHV0RWxlbWVudCB0byBtYWtlIGl0IGF2YWlsYWJsZSBmb3IgdGhlIG5leHQgY2FsbAogIC8vIHRvIHVwbG9hZEZpbGVzQ29udGludWUgZnJvbSBQeXRob24uCiAgb3V0cHV0RWxlbWVudC5zdGVwcyA9IHN0ZXBzOwoKICByZXR1cm4gX3VwbG9hZEZpbGVzQ29udGludWUob3V0cHV0SWQpOwp9CgovLyBUaGlzIGlzIHJvdWdobHkgYW4gYXN5bmMgZ2VuZXJhdG9yIChub3Qgc3VwcG9ydGVkIGluIHRoZSBicm93c2VyIHlldCksCi8vIHdoZXJlIHRoZXJlIGFyZSBtdWx0aXBsZSBhc3luY2hyb25vdXMgc3RlcHMgYW5kIHRoZSBQeXRob24gc2lkZSBpcyBnb2luZwovLyB0byBwb2xsIGZvciBjb21wbGV0aW9uIG9mIGVhY2ggc3RlcC4KLy8gVGhpcyB1c2VzIGEgUHJvbWlzZSB0byBibG9jayB0aGUgcHl0aG9uIHNpZGUgb24gY29tcGxldGlvbiBvZiBlYWNoIHN0ZXAsCi8vIHRoZW4gcGFzc2VzIHRoZSByZXN1bHQgb2YgdGhlIHByZXZpb3VzIHN0ZXAgYXMgdGhlIGlucHV0IHRvIHRoZSBuZXh0IHN0ZXAuCmZ1bmN0aW9uIF91cGxvYWRGaWxlc0NvbnRpbnVlKG91dHB1dElkKSB7CiAgY29uc3Qgb3V0cHV0RWxlbWVudCA9IGRvY3VtZW50LmdldEVsZW1lbnRCeUlkKG91dHB1dElkKTsKICBjb25zdCBzdGVwcyA9IG91dHB1dEVsZW1lbnQuc3RlcHM7CgogIGNvbnN0IG5leHQgPSBzdGVwcy5uZXh0KG91dHB1dEVsZW1lbnQubGFzdFByb21pc2VWYWx1ZSk7CiAgcmV0dXJuIFByb21pc2UucmVzb2x2ZShuZXh0LnZhbHVlLnByb21pc2UpLnRoZW4oKHZhbHVlKSA9PiB7CiAgICAvLyBDYWNoZSB0aGUgbGFzdCBwcm9taXNlIHZhbHVlIHRvIG1ha2UgaXQgYXZhaWxhYmxlIHRvIHRoZSBuZXh0CiAgICAvLyBzdGVwIG9mIHRoZSBnZW5lcmF0b3IuCiAgICBvdXRwdXRFbGVtZW50Lmxhc3RQcm9taXNlVmFsdWUgPSB2YWx1ZTsKICAgIHJldHVybiBuZXh0LnZhbHVlLnJlc3BvbnNlOwogIH0pOwp9CgovKioKICogR2VuZXJhdG9yIGZ1bmN0aW9uIHdoaWNoIGlzIGNhbGxlZCBiZXR3ZWVuIGVhY2ggYXN5bmMgc3RlcCBvZiB0aGUgdXBsb2FkCiAqIHByb2Nlc3MuCiAqIEBwYXJhbSB7c3RyaW5nfSBpbnB1dElkIEVsZW1lbnQgSUQgb2YgdGhlIGlucHV0IGZpbGUgcGlja2VyIGVsZW1lbnQuCiAqIEBwYXJhbSB7c3RyaW5nfSBvdXRwdXRJZCBFbGVtZW50IElEIG9mIHRoZSBvdXRwdXQgZGlzcGxheS4KICogQHJldHVybiB7IUl0ZXJhYmxlPCFPYmplY3Q+fSBJdGVyYWJsZSBvZiBuZXh0IHN0ZXBzLgogKi8KZnVuY3Rpb24qIHVwbG9hZEZpbGVzU3RlcChpbnB1dElkLCBvdXRwdXRJZCkgewogIGNvbnN0IGlucHV0RWxlbWVudCA9IGRvY3VtZW50LmdldEVsZW1lbnRCeUlkKGlucHV0SWQpOwogIGlucHV0RWxlbWVudC5kaXNhYmxlZCA9IGZhbHNlOwoKICBjb25zdCBvdXRwdXRFbGVtZW50ID0gZG9jdW1lbnQuZ2V0RWxlbWVudEJ5SWQob3V0cHV0SWQpOwogIG91dHB1dEVsZW1lbnQuaW5uZXJIVE1MID0gJyc7CgogIGNvbnN0IHBpY2tlZFByb21pc2UgPSBuZXcgUHJvbWlzZSgocmVzb2x2ZSkgPT4gewogICAgaW5wdXRFbGVtZW50LmFkZEV2ZW50TGlzdGVuZXIoJ2NoYW5nZScsIChlKSA9PiB7CiAgICAgIHJlc29sdmUoZS50YXJnZXQuZmlsZXMpOwogICAgfSk7CiAgfSk7CgogIGNvbnN0IGNhbmNlbCA9IGRvY3VtZW50LmNyZWF0ZUVsZW1lbnQoJ2J1dHRvbicpOwogIGlucHV0RWxlbWVudC5wYXJlbnRFbGVtZW50LmFwcGVuZENoaWxkKGNhbmNlbCk7CiAgY2FuY2VsLnRleHRDb250ZW50ID0gJ0NhbmNlbCB1cGxvYWQnOwogIGNvbnN0IGNhbmNlbFByb21pc2UgPSBuZXcgUHJvbWlzZSgocmVzb2x2ZSkgPT4gewogICAgY2FuY2VsLm9uY2xpY2sgPSAoKSA9PiB7CiAgICAgIHJlc29sdmUobnVsbCk7CiAgICB9OwogIH0pOwoKICAvLyBXYWl0IGZvciB0aGUgdXNlciB0byBwaWNrIHRoZSBmaWxlcy4KICBjb25zdCBmaWxlcyA9IHlpZWxkIHsKICAgIHByb21pc2U6IFByb21pc2UucmFjZShbcGlja2VkUHJvbWlzZSwgY2FuY2VsUHJvbWlzZV0pLAogICAgcmVzcG9uc2U6IHsKICAgICAgYWN0aW9uOiAnc3RhcnRpbmcnLAogICAgfQogIH07CgogIGNhbmNlbC5yZW1vdmUoKTsKCiAgLy8gRGlzYWJsZSB0aGUgaW5wdXQgZWxlbWVudCBzaW5jZSBmdXJ0aGVyIHBpY2tzIGFyZSBub3QgYWxsb3dlZC4KICBpbnB1dEVsZW1lbnQuZGlzYWJsZWQgPSB0cnVlOwoKICBpZiAoIWZpbGVzKSB7CiAgICByZXR1cm4gewogICAgICByZXNwb25zZTogewogICAgICAgIGFjdGlvbjogJ2NvbXBsZXRlJywKICAgICAgfQogICAgfTsKICB9CgogIGZvciAoY29uc3QgZmlsZSBvZiBmaWxlcykgewogICAgY29uc3QgbGkgPSBkb2N1bWVudC5jcmVhdGVFbGVtZW50KCdsaScpOwogICAgbGkuYXBwZW5kKHNwYW4oZmlsZS5uYW1lLCB7Zm9udFdlaWdodDogJ2JvbGQnfSkpOwogICAgbGkuYXBwZW5kKHNwYW4oCiAgICAgICAgYCgke2ZpbGUudHlwZSB8fCAnbi9hJ30pIC0gJHtmaWxlLnNpemV9IGJ5dGVzLCBgICsKICAgICAgICBgbGFzdCBtb2RpZmllZDogJHsKICAgICAgICAgICAgZmlsZS5sYXN0TW9kaWZpZWREYXRlID8gZmlsZS5sYXN0TW9kaWZpZWREYXRlLnRvTG9jYWxlRGF0ZVN0cmluZygpIDoKICAgICAgICAgICAgICAgICAgICAgICAgICAgICAgICAgICAgJ24vYSd9IC0gYCkpOwogICAgY29uc3QgcGVyY2VudCA9IHNwYW4oJzAlIGRvbmUnKTsKICAgIGxpLmFwcGVuZENoaWxkKHBlcmNlbnQpOwoKICAgIG91dHB1dEVsZW1lbnQuYXBwZW5kQ2hpbGQobGkpOwoKICAgIGNvbnN0IGZpbGVEYXRhUHJvbWlzZSA9IG5ldyBQcm9taXNlKChyZXNvbHZlKSA9PiB7CiAgICAgIGNvbnN0IHJlYWRlciA9IG5ldyBGaWxlUmVhZGVyKCk7CiAgICAgIHJlYWRlci5vbmxvYWQgPSAoZSkgPT4gewogICAgICAgIHJlc29sdmUoZS50YXJnZXQucmVzdWx0KTsKICAgICAgfTsKICAgICAgcmVhZGVyLnJlYWRBc0FycmF5QnVmZmVyKGZpbGUpOwogICAgfSk7CiAgICAvLyBXYWl0IGZvciB0aGUgZGF0YSB0byBiZSByZWFkeS4KICAgIGxldCBmaWxlRGF0YSA9IHlpZWxkIHsKICAgICAgcHJvbWlzZTogZmlsZURhdGFQcm9taXNlLAogICAgICByZXNwb25zZTogewogICAgICAgIGFjdGlvbjogJ2NvbnRpbnVlJywKICAgICAgfQogICAgfTsKCiAgICAvLyBVc2UgYSBjaHVua2VkIHNlbmRpbmcgdG8gYXZvaWQgbWVzc2FnZSBzaXplIGxpbWl0cy4gU2VlIGIvNjIxMTU2NjAuCiAgICBsZXQgcG9zaXRpb24gPSAwOwogICAgZG8gewogICAgICBjb25zdCBsZW5ndGggPSBNYXRoLm1pbihmaWxlRGF0YS5ieXRlTGVuZ3RoIC0gcG9zaXRpb24sIE1BWF9QQVlMT0FEX1NJWkUpOwogICAgICBjb25zdCBjaHVuayA9IG5ldyBVaW50OEFycmF5KGZpbGVEYXRhLCBwb3NpdGlvbiwgbGVuZ3RoKTsKICAgICAgcG9zaXRpb24gKz0gbGVuZ3RoOwoKICAgICAgY29uc3QgYmFzZTY0ID0gYnRvYShTdHJpbmcuZnJvbUNoYXJDb2RlLmFwcGx5KG51bGwsIGNodW5rKSk7CiAgICAgIHlpZWxkIHsKICAgICAgICByZXNwb25zZTogewogICAgICAgICAgYWN0aW9uOiAnYXBwZW5kJywKICAgICAgICAgIGZpbGU6IGZpbGUubmFtZSwKICAgICAgICAgIGRhdGE6IGJhc2U2NCwKICAgICAgICB9LAogICAgICB9OwoKICAgICAgbGV0IHBlcmNlbnREb25lID0gZmlsZURhdGEuYnl0ZUxlbmd0aCA9PT0gMCA/CiAgICAgICAgICAxMDAgOgogICAgICAgICAgTWF0aC5yb3VuZCgocG9zaXRpb24gLyBmaWxlRGF0YS5ieXRlTGVuZ3RoKSAqIDEwMCk7CiAgICAgIHBlcmNlbnQudGV4dENvbnRlbnQgPSBgJHtwZXJjZW50RG9uZX0lIGRvbmVgOwoKICAgIH0gd2hpbGUgKHBvc2l0aW9uIDwgZmlsZURhdGEuYnl0ZUxlbmd0aCk7CiAgfQoKICAvLyBBbGwgZG9uZS4KICB5aWVsZCB7CiAgICByZXNwb25zZTogewogICAgICBhY3Rpb246ICdjb21wbGV0ZScsCiAgICB9CiAgfTsKfQoKc2NvcGUuZ29vZ2xlID0gc2NvcGUuZ29vZ2xlIHx8IHt9OwpzY29wZS5nb29nbGUuY29sYWIgPSBzY29wZS5nb29nbGUuY29sYWIgfHwge307CnNjb3BlLmdvb2dsZS5jb2xhYi5fZmlsZXMgPSB7CiAgX3VwbG9hZEZpbGVzLAogIF91cGxvYWRGaWxlc0NvbnRpbnVlLAp9Owp9KShzZWxmKTsK",
              "ok": true,
              "headers": [
                [
                  "content-type",
                  "application/javascript"
                ]
              ],
              "status": 200,
              "status_text": ""
            }
          },
          "base_uri": "https://localhost:8080/",
          "height": 73
        },
        "id": "ZU4cGywMGKDG",
        "outputId": "7e606ca0-d59c-4391-9cf3-c7fee074eec7"
      },
      "source": [
        "#You can download the dataset with this link https://www.kaggle.com/jasminedogu/bachelorettedataset\n",
        "\n",
        "#In google colab, we can use these two lines of code to upload the csv file, this makes it easier to read it using pandas \n",
        "\n",
        "from google.colab import files\n",
        "uploaded = files.upload()"
      ],
      "execution_count": 41,
      "outputs": [
        {
          "output_type": "display_data",
          "data": {
            "text/html": [
              "\n",
              "     <input type=\"file\" id=\"files-0f78dea8-1af0-4207-bbb5-b9a9674faf1e\" name=\"files[]\" multiple disabled\n",
              "        style=\"border:none\" />\n",
              "     <output id=\"result-0f78dea8-1af0-4207-bbb5-b9a9674faf1e\">\n",
              "      Upload widget is only available when the cell has been executed in the\n",
              "      current browser session. Please rerun this cell to enable.\n",
              "      </output>\n",
              "      <script src=\"/nbextensions/google.colab/files.js\"></script> "
            ],
            "text/plain": [
              "<IPython.core.display.HTML object>"
            ]
          },
          "metadata": {}
        },
        {
          "output_type": "stream",
          "name": "stdout",
          "text": [
            "Saving BacheloretteDSFinal-Dogu.csv to BacheloretteDSFinal-Dogu.csv\n"
          ]
        }
      ]
    },
    {
      "cell_type": "code",
      "metadata": {
        "colab": {
          "base_uri": "https://localhost:8080/",
          "height": 418
        },
        "id": "_cbTd9EYCj2l",
        "outputId": "0552c943-586d-4c66-8346-d589c7f5468c"
      },
      "source": [
        "#We import the NumPy and Pandas library just as we did for the Pandas Series.\n",
        "#Side note: we only have to import numpy and pandas once at the beginning of the code, I only did it multiple times during this event for educational purposes\n",
        "\n",
        "import numpy as np\n",
        "import pandas as pd\n",
        "\n",
        "#Using the read_csv() function imports a csv file to a dataframe format.\n",
        "\n",
        "df = pd.read_csv('BacheloretteDSFinal-Dogu.csv')\n",
        "\n",
        "#If we just type 'df', python will give us the entire dataset but won't show a lot of its rows because of the amount of content in the csv file.\n",
        "\n",
        "df"
      ],
      "execution_count": 42,
      "outputs": [
        {
          "output_type": "execute_result",
          "data": {
            "text/html": [
              "<div>\n",
              "<style scoped>\n",
              "    .dataframe tbody tr th:only-of-type {\n",
              "        vertical-align: middle;\n",
              "    }\n",
              "\n",
              "    .dataframe tbody tr th {\n",
              "        vertical-align: top;\n",
              "    }\n",
              "\n",
              "    .dataframe thead th {\n",
              "        text-align: right;\n",
              "    }\n",
              "</style>\n",
              "<table border=\"1\" class=\"dataframe\">\n",
              "  <thead>\n",
              "    <tr style=\"text-align: right;\">\n",
              "      <th></th>\n",
              "      <th>Season</th>\n",
              "      <th>Name</th>\n",
              "      <th>Age</th>\n",
              "      <th>Hometown</th>\n",
              "      <th>State</th>\n",
              "      <th>College</th>\n",
              "      <th>Occupation</th>\n",
              "      <th>Win_Loss</th>\n",
              "      <th>Height (cm)</th>\n",
              "      <th>Girlfriend While on the Show?</th>\n",
              "      <th>Hair Color</th>\n",
              "      <th>Eye Color</th>\n",
              "    </tr>\n",
              "  </thead>\n",
              "  <tbody>\n",
              "    <tr>\n",
              "      <th>0</th>\n",
              "      <td>15</td>\n",
              "      <td>Jed Wyatt</td>\n",
              "      <td>25</td>\n",
              "      <td>Sevierville, Tennessee</td>\n",
              "      <td>TN</td>\n",
              "      <td>Belmont University</td>\n",
              "      <td>Singer/Songwriter</td>\n",
              "      <td>1</td>\n",
              "      <td>190.50</td>\n",
              "      <td>Yes</td>\n",
              "      <td>Brown</td>\n",
              "      <td>Brown</td>\n",
              "    </tr>\n",
              "    <tr>\n",
              "      <th>1</th>\n",
              "      <td>15</td>\n",
              "      <td>Tyler Cameron</td>\n",
              "      <td>26</td>\n",
              "      <td>Jupiter, Florida</td>\n",
              "      <td>FL</td>\n",
              "      <td>Wake Forest</td>\n",
              "      <td>General Contractor</td>\n",
              "      <td>0</td>\n",
              "      <td>187.96</td>\n",
              "      <td>No</td>\n",
              "      <td>Brown</td>\n",
              "      <td>Green</td>\n",
              "    </tr>\n",
              "    <tr>\n",
              "      <th>2</th>\n",
              "      <td>15</td>\n",
              "      <td>Peter Weber</td>\n",
              "      <td>27</td>\n",
              "      <td>Westlake Village, California</td>\n",
              "      <td>CA</td>\n",
              "      <td>Baylor University</td>\n",
              "      <td>Pilot</td>\n",
              "      <td>0</td>\n",
              "      <td>175.25</td>\n",
              "      <td>No</td>\n",
              "      <td>Brown</td>\n",
              "      <td>Brown</td>\n",
              "    </tr>\n",
              "    <tr>\n",
              "      <th>3</th>\n",
              "      <td>15</td>\n",
              "      <td>Luke Parker</td>\n",
              "      <td>24</td>\n",
              "      <td>Gainesville, Georgia</td>\n",
              "      <td>GA</td>\n",
              "      <td>Faulkner University</td>\n",
              "      <td>Import/Export Manager</td>\n",
              "      <td>0</td>\n",
              "      <td>175.00</td>\n",
              "      <td>No</td>\n",
              "      <td>Blonde</td>\n",
              "      <td>Brown</td>\n",
              "    </tr>\n",
              "    <tr>\n",
              "      <th>4</th>\n",
              "      <td>15</td>\n",
              "      <td>Garrett Powell</td>\n",
              "      <td>27</td>\n",
              "      <td>Homewood, Alabama</td>\n",
              "      <td>AL</td>\n",
              "      <td>Mississippi State University</td>\n",
              "      <td>Golf Pro</td>\n",
              "      <td>0</td>\n",
              "      <td>NaN</td>\n",
              "      <td>No</td>\n",
              "      <td>Brown</td>\n",
              "      <td>Green</td>\n",
              "    </tr>\n",
              "    <tr>\n",
              "      <th>...</th>\n",
              "      <td>...</td>\n",
              "      <td>...</td>\n",
              "      <td>...</td>\n",
              "      <td>...</td>\n",
              "      <td>...</td>\n",
              "      <td>...</td>\n",
              "      <td>...</td>\n",
              "      <td>...</td>\n",
              "      <td>...</td>\n",
              "      <td>...</td>\n",
              "      <td>...</td>\n",
              "      <td>...</td>\n",
              "    </tr>\n",
              "    <tr>\n",
              "      <th>136</th>\n",
              "      <td>11</td>\n",
              "      <td>David Cox</td>\n",
              "      <td>28</td>\n",
              "      <td>Orlando, Florida</td>\n",
              "      <td>FL</td>\n",
              "      <td>Other</td>\n",
              "      <td>Real Estate Agent</td>\n",
              "      <td>0</td>\n",
              "      <td>NaN</td>\n",
              "      <td>No</td>\n",
              "      <td>Brown</td>\n",
              "      <td>Brown</td>\n",
              "    </tr>\n",
              "    <tr>\n",
              "      <th>137</th>\n",
              "      <td>11</td>\n",
              "      <td>Joshua \"Josh\" Seiter</td>\n",
              "      <td>27</td>\n",
              "      <td>Chicago, Illinois</td>\n",
              "      <td>IL</td>\n",
              "      <td>Chicago-Kent College</td>\n",
              "      <td>Law Student/Exotic Dancer</td>\n",
              "      <td>0</td>\n",
              "      <td>187.96</td>\n",
              "      <td>No</td>\n",
              "      <td>Brown</td>\n",
              "      <td>Brown</td>\n",
              "    </tr>\n",
              "    <tr>\n",
              "      <th>138</th>\n",
              "      <td>11</td>\n",
              "      <td>Shawn Evans</td>\n",
              "      <td>31</td>\n",
              "      <td>London, Ontario</td>\n",
              "      <td>Other</td>\n",
              "      <td>Other</td>\n",
              "      <td>Amateur Sex Coach</td>\n",
              "      <td>0</td>\n",
              "      <td>NaN</td>\n",
              "      <td>No</td>\n",
              "      <td>Brown</td>\n",
              "      <td>Brown</td>\n",
              "    </tr>\n",
              "    <tr>\n",
              "      <th>139</th>\n",
              "      <td>11</td>\n",
              "      <td>Brady Toops</td>\n",
              "      <td>33</td>\n",
              "      <td>Wauseon, Ohio</td>\n",
              "      <td>OH</td>\n",
              "      <td>Other</td>\n",
              "      <td>Singer/Songwriter</td>\n",
              "      <td>0</td>\n",
              "      <td>187.96</td>\n",
              "      <td>No</td>\n",
              "      <td>Brown</td>\n",
              "      <td>Brown</td>\n",
              "    </tr>\n",
              "    <tr>\n",
              "      <th>140</th>\n",
              "      <td>11</td>\n",
              "      <td>Ryan McDill</td>\n",
              "      <td>28</td>\n",
              "      <td>Kansas City, Missouri</td>\n",
              "      <td>MO</td>\n",
              "      <td>Other</td>\n",
              "      <td>Junkyard Specialist</td>\n",
              "      <td>0</td>\n",
              "      <td>190.50</td>\n",
              "      <td>No</td>\n",
              "      <td>Brown</td>\n",
              "      <td>Blue</td>\n",
              "    </tr>\n",
              "  </tbody>\n",
              "</table>\n",
              "<p>141 rows × 12 columns</p>\n",
              "</div>"
            ],
            "text/plain": [
              "     Season                  Name  ...  Hair Color Eye Color\n",
              "0        15             Jed Wyatt  ...       Brown     Brown\n",
              "1        15         Tyler Cameron  ...       Brown     Green\n",
              "2        15           Peter Weber  ...       Brown     Brown\n",
              "3        15           Luke Parker  ...      Blonde     Brown\n",
              "4        15        Garrett Powell  ...       Brown     Green\n",
              "..      ...                   ...  ...         ...       ...\n",
              "136      11             David Cox  ...       Brown     Brown\n",
              "137      11  Joshua \"Josh\" Seiter  ...       Brown     Brown\n",
              "138      11           Shawn Evans  ...       Brown     Brown\n",
              "139      11           Brady Toops  ...       Brown     Brown\n",
              "140      11           Ryan McDill  ...       Brown      Blue\n",
              "\n",
              "[141 rows x 12 columns]"
            ]
          },
          "metadata": {},
          "execution_count": 42
        }
      ]
    },
    {
      "cell_type": "code",
      "metadata": {
        "colab": {
          "base_uri": "https://localhost:8080/",
          "height": 204
        },
        "id": "a2Q6GIf_Cj8T",
        "outputId": "6d1f2ecc-3316-4b8d-fe83-dac5db424dac"
      },
      "source": [
        "#.head() will grab the first 5 rows from the dataset and display all of their columns and values\n",
        "\n",
        "df.head()"
      ],
      "execution_count": 43,
      "outputs": [
        {
          "output_type": "execute_result",
          "data": {
            "text/html": [
              "<div>\n",
              "<style scoped>\n",
              "    .dataframe tbody tr th:only-of-type {\n",
              "        vertical-align: middle;\n",
              "    }\n",
              "\n",
              "    .dataframe tbody tr th {\n",
              "        vertical-align: top;\n",
              "    }\n",
              "\n",
              "    .dataframe thead th {\n",
              "        text-align: right;\n",
              "    }\n",
              "</style>\n",
              "<table border=\"1\" class=\"dataframe\">\n",
              "  <thead>\n",
              "    <tr style=\"text-align: right;\">\n",
              "      <th></th>\n",
              "      <th>Season</th>\n",
              "      <th>Name</th>\n",
              "      <th>Age</th>\n",
              "      <th>Hometown</th>\n",
              "      <th>State</th>\n",
              "      <th>College</th>\n",
              "      <th>Occupation</th>\n",
              "      <th>Win_Loss</th>\n",
              "      <th>Height (cm)</th>\n",
              "      <th>Girlfriend While on the Show?</th>\n",
              "      <th>Hair Color</th>\n",
              "      <th>Eye Color</th>\n",
              "    </tr>\n",
              "  </thead>\n",
              "  <tbody>\n",
              "    <tr>\n",
              "      <th>0</th>\n",
              "      <td>15</td>\n",
              "      <td>Jed Wyatt</td>\n",
              "      <td>25</td>\n",
              "      <td>Sevierville, Tennessee</td>\n",
              "      <td>TN</td>\n",
              "      <td>Belmont University</td>\n",
              "      <td>Singer/Songwriter</td>\n",
              "      <td>1</td>\n",
              "      <td>190.50</td>\n",
              "      <td>Yes</td>\n",
              "      <td>Brown</td>\n",
              "      <td>Brown</td>\n",
              "    </tr>\n",
              "    <tr>\n",
              "      <th>1</th>\n",
              "      <td>15</td>\n",
              "      <td>Tyler Cameron</td>\n",
              "      <td>26</td>\n",
              "      <td>Jupiter, Florida</td>\n",
              "      <td>FL</td>\n",
              "      <td>Wake Forest</td>\n",
              "      <td>General Contractor</td>\n",
              "      <td>0</td>\n",
              "      <td>187.96</td>\n",
              "      <td>No</td>\n",
              "      <td>Brown</td>\n",
              "      <td>Green</td>\n",
              "    </tr>\n",
              "    <tr>\n",
              "      <th>2</th>\n",
              "      <td>15</td>\n",
              "      <td>Peter Weber</td>\n",
              "      <td>27</td>\n",
              "      <td>Westlake Village, California</td>\n",
              "      <td>CA</td>\n",
              "      <td>Baylor University</td>\n",
              "      <td>Pilot</td>\n",
              "      <td>0</td>\n",
              "      <td>175.25</td>\n",
              "      <td>No</td>\n",
              "      <td>Brown</td>\n",
              "      <td>Brown</td>\n",
              "    </tr>\n",
              "    <tr>\n",
              "      <th>3</th>\n",
              "      <td>15</td>\n",
              "      <td>Luke Parker</td>\n",
              "      <td>24</td>\n",
              "      <td>Gainesville, Georgia</td>\n",
              "      <td>GA</td>\n",
              "      <td>Faulkner University</td>\n",
              "      <td>Import/Export Manager</td>\n",
              "      <td>0</td>\n",
              "      <td>175.00</td>\n",
              "      <td>No</td>\n",
              "      <td>Blonde</td>\n",
              "      <td>Brown</td>\n",
              "    </tr>\n",
              "    <tr>\n",
              "      <th>4</th>\n",
              "      <td>15</td>\n",
              "      <td>Garrett Powell</td>\n",
              "      <td>27</td>\n",
              "      <td>Homewood, Alabama</td>\n",
              "      <td>AL</td>\n",
              "      <td>Mississippi State University</td>\n",
              "      <td>Golf Pro</td>\n",
              "      <td>0</td>\n",
              "      <td>NaN</td>\n",
              "      <td>No</td>\n",
              "      <td>Brown</td>\n",
              "      <td>Green</td>\n",
              "    </tr>\n",
              "  </tbody>\n",
              "</table>\n",
              "</div>"
            ],
            "text/plain": [
              "   Season            Name  ...  Hair Color Eye Color\n",
              "0      15       Jed Wyatt  ...       Brown     Brown\n",
              "1      15   Tyler Cameron  ...       Brown     Green\n",
              "2      15     Peter Weber  ...       Brown     Brown\n",
              "3      15     Luke Parker  ...      Blonde     Brown\n",
              "4      15  Garrett Powell  ...       Brown     Green\n",
              "\n",
              "[5 rows x 12 columns]"
            ]
          },
          "metadata": {},
          "execution_count": 43
        }
      ]
    },
    {
      "cell_type": "code",
      "metadata": {
        "colab": {
          "base_uri": "https://localhost:8080/",
          "height": 358
        },
        "id": "nHR8yiDXCkE2",
        "outputId": "d982c530-9461-408d-964b-c99d19fa43b5"
      },
      "source": [
        "#We can get more than just the first 5 rows by specifying the amount as an argument\n",
        "\n",
        "df.head(10)"
      ],
      "execution_count": 44,
      "outputs": [
        {
          "output_type": "execute_result",
          "data": {
            "text/html": [
              "<div>\n",
              "<style scoped>\n",
              "    .dataframe tbody tr th:only-of-type {\n",
              "        vertical-align: middle;\n",
              "    }\n",
              "\n",
              "    .dataframe tbody tr th {\n",
              "        vertical-align: top;\n",
              "    }\n",
              "\n",
              "    .dataframe thead th {\n",
              "        text-align: right;\n",
              "    }\n",
              "</style>\n",
              "<table border=\"1\" class=\"dataframe\">\n",
              "  <thead>\n",
              "    <tr style=\"text-align: right;\">\n",
              "      <th></th>\n",
              "      <th>Season</th>\n",
              "      <th>Name</th>\n",
              "      <th>Age</th>\n",
              "      <th>Hometown</th>\n",
              "      <th>State</th>\n",
              "      <th>College</th>\n",
              "      <th>Occupation</th>\n",
              "      <th>Win_Loss</th>\n",
              "      <th>Height (cm)</th>\n",
              "      <th>Girlfriend While on the Show?</th>\n",
              "      <th>Hair Color</th>\n",
              "      <th>Eye Color</th>\n",
              "    </tr>\n",
              "  </thead>\n",
              "  <tbody>\n",
              "    <tr>\n",
              "      <th>0</th>\n",
              "      <td>15</td>\n",
              "      <td>Jed Wyatt</td>\n",
              "      <td>25</td>\n",
              "      <td>Sevierville, Tennessee</td>\n",
              "      <td>TN</td>\n",
              "      <td>Belmont University</td>\n",
              "      <td>Singer/Songwriter</td>\n",
              "      <td>1</td>\n",
              "      <td>190.50</td>\n",
              "      <td>Yes</td>\n",
              "      <td>Brown</td>\n",
              "      <td>Brown</td>\n",
              "    </tr>\n",
              "    <tr>\n",
              "      <th>1</th>\n",
              "      <td>15</td>\n",
              "      <td>Tyler Cameron</td>\n",
              "      <td>26</td>\n",
              "      <td>Jupiter, Florida</td>\n",
              "      <td>FL</td>\n",
              "      <td>Wake Forest</td>\n",
              "      <td>General Contractor</td>\n",
              "      <td>0</td>\n",
              "      <td>187.96</td>\n",
              "      <td>No</td>\n",
              "      <td>Brown</td>\n",
              "      <td>Green</td>\n",
              "    </tr>\n",
              "    <tr>\n",
              "      <th>2</th>\n",
              "      <td>15</td>\n",
              "      <td>Peter Weber</td>\n",
              "      <td>27</td>\n",
              "      <td>Westlake Village, California</td>\n",
              "      <td>CA</td>\n",
              "      <td>Baylor University</td>\n",
              "      <td>Pilot</td>\n",
              "      <td>0</td>\n",
              "      <td>175.25</td>\n",
              "      <td>No</td>\n",
              "      <td>Brown</td>\n",
              "      <td>Brown</td>\n",
              "    </tr>\n",
              "    <tr>\n",
              "      <th>3</th>\n",
              "      <td>15</td>\n",
              "      <td>Luke Parker</td>\n",
              "      <td>24</td>\n",
              "      <td>Gainesville, Georgia</td>\n",
              "      <td>GA</td>\n",
              "      <td>Faulkner University</td>\n",
              "      <td>Import/Export Manager</td>\n",
              "      <td>0</td>\n",
              "      <td>175.00</td>\n",
              "      <td>No</td>\n",
              "      <td>Blonde</td>\n",
              "      <td>Brown</td>\n",
              "    </tr>\n",
              "    <tr>\n",
              "      <th>4</th>\n",
              "      <td>15</td>\n",
              "      <td>Garrett Powell</td>\n",
              "      <td>27</td>\n",
              "      <td>Homewood, Alabama</td>\n",
              "      <td>AL</td>\n",
              "      <td>Mississippi State University</td>\n",
              "      <td>Golf Pro</td>\n",
              "      <td>0</td>\n",
              "      <td>NaN</td>\n",
              "      <td>No</td>\n",
              "      <td>Brown</td>\n",
              "      <td>Green</td>\n",
              "    </tr>\n",
              "    <tr>\n",
              "      <th>5</th>\n",
              "      <td>15</td>\n",
              "      <td>Mike Johnson</td>\n",
              "      <td>31</td>\n",
              "      <td>San Antonio, Texas</td>\n",
              "      <td>TX</td>\n",
              "      <td>NaN</td>\n",
              "      <td>Portfolio Manager</td>\n",
              "      <td>0</td>\n",
              "      <td>180.00</td>\n",
              "      <td>No</td>\n",
              "      <td>Brown</td>\n",
              "      <td>Brown</td>\n",
              "    </tr>\n",
              "    <tr>\n",
              "      <th>6</th>\n",
              "      <td>15</td>\n",
              "      <td>Connor Saeli</td>\n",
              "      <td>24</td>\n",
              "      <td>Birmingham, Michigan</td>\n",
              "      <td>MI</td>\n",
              "      <td>Souther Methodist University</td>\n",
              "      <td>Investment Analyst</td>\n",
              "      <td>0</td>\n",
              "      <td>198.00</td>\n",
              "      <td>No</td>\n",
              "      <td>Brown</td>\n",
              "      <td>Brown</td>\n",
              "    </tr>\n",
              "    <tr>\n",
              "      <th>7</th>\n",
              "      <td>15</td>\n",
              "      <td>Dustin Kendrick</td>\n",
              "      <td>30</td>\n",
              "      <td>Chicago, Illinois</td>\n",
              "      <td>IL</td>\n",
              "      <td>Northeastern Illionois University</td>\n",
              "      <td>Real Estate Broker</td>\n",
              "      <td>0</td>\n",
              "      <td>188.00</td>\n",
              "      <td>No</td>\n",
              "      <td>Brown</td>\n",
              "      <td>Brown</td>\n",
              "    </tr>\n",
              "    <tr>\n",
              "      <th>8</th>\n",
              "      <td>15</td>\n",
              "      <td>Dylan Barbour</td>\n",
              "      <td>24</td>\n",
              "      <td>San Diego, California</td>\n",
              "      <td>CA</td>\n",
              "      <td>Williams College</td>\n",
              "      <td>Tech Entrepreneur</td>\n",
              "      <td>0</td>\n",
              "      <td>180.30</td>\n",
              "      <td>No</td>\n",
              "      <td>Brown</td>\n",
              "      <td>Brown</td>\n",
              "    </tr>\n",
              "    <tr>\n",
              "      <th>9</th>\n",
              "      <td>15</td>\n",
              "      <td>Devin Harris</td>\n",
              "      <td>27</td>\n",
              "      <td>Sherman Oaks, California</td>\n",
              "      <td>CA</td>\n",
              "      <td>University of San Diego</td>\n",
              "      <td>Talent Manager</td>\n",
              "      <td>0</td>\n",
              "      <td>NaN</td>\n",
              "      <td>No</td>\n",
              "      <td>Brown</td>\n",
              "      <td>Brown</td>\n",
              "    </tr>\n",
              "  </tbody>\n",
              "</table>\n",
              "</div>"
            ],
            "text/plain": [
              "   Season             Name  ...  Hair Color Eye Color\n",
              "0      15        Jed Wyatt  ...       Brown     Brown\n",
              "1      15    Tyler Cameron  ...       Brown     Green\n",
              "2      15      Peter Weber  ...       Brown     Brown\n",
              "3      15      Luke Parker  ...      Blonde     Brown\n",
              "4      15   Garrett Powell  ...       Brown     Green\n",
              "5      15     Mike Johnson  ...       Brown     Brown\n",
              "6      15     Connor Saeli  ...       Brown     Brown\n",
              "7      15  Dustin Kendrick  ...       Brown     Brown\n",
              "8      15    Dylan Barbour  ...       Brown     Brown\n",
              "9      15     Devin Harris  ...       Brown     Brown\n",
              "\n",
              "[10 rows x 12 columns]"
            ]
          },
          "metadata": {},
          "execution_count": 44
        }
      ]
    },
    {
      "cell_type": "code",
      "metadata": {
        "colab": {
          "base_uri": "https://localhost:8080/",
          "height": 204
        },
        "id": "1vDIGKCuCj_Y",
        "outputId": "2d504c02-eed1-436c-d796-6fb33228ebba"
      },
      "source": [
        "#.tail basically does the opposite of .head() by giving us the last 5 rows in a datset\n",
        "\n",
        "df.tail()"
      ],
      "execution_count": 45,
      "outputs": [
        {
          "output_type": "execute_result",
          "data": {
            "text/html": [
              "<div>\n",
              "<style scoped>\n",
              "    .dataframe tbody tr th:only-of-type {\n",
              "        vertical-align: middle;\n",
              "    }\n",
              "\n",
              "    .dataframe tbody tr th {\n",
              "        vertical-align: top;\n",
              "    }\n",
              "\n",
              "    .dataframe thead th {\n",
              "        text-align: right;\n",
              "    }\n",
              "</style>\n",
              "<table border=\"1\" class=\"dataframe\">\n",
              "  <thead>\n",
              "    <tr style=\"text-align: right;\">\n",
              "      <th></th>\n",
              "      <th>Season</th>\n",
              "      <th>Name</th>\n",
              "      <th>Age</th>\n",
              "      <th>Hometown</th>\n",
              "      <th>State</th>\n",
              "      <th>College</th>\n",
              "      <th>Occupation</th>\n",
              "      <th>Win_Loss</th>\n",
              "      <th>Height (cm)</th>\n",
              "      <th>Girlfriend While on the Show?</th>\n",
              "      <th>Hair Color</th>\n",
              "      <th>Eye Color</th>\n",
              "    </tr>\n",
              "  </thead>\n",
              "  <tbody>\n",
              "    <tr>\n",
              "      <th>136</th>\n",
              "      <td>11</td>\n",
              "      <td>David Cox</td>\n",
              "      <td>28</td>\n",
              "      <td>Orlando, Florida</td>\n",
              "      <td>FL</td>\n",
              "      <td>Other</td>\n",
              "      <td>Real Estate Agent</td>\n",
              "      <td>0</td>\n",
              "      <td>NaN</td>\n",
              "      <td>No</td>\n",
              "      <td>Brown</td>\n",
              "      <td>Brown</td>\n",
              "    </tr>\n",
              "    <tr>\n",
              "      <th>137</th>\n",
              "      <td>11</td>\n",
              "      <td>Joshua \"Josh\" Seiter</td>\n",
              "      <td>27</td>\n",
              "      <td>Chicago, Illinois</td>\n",
              "      <td>IL</td>\n",
              "      <td>Chicago-Kent College</td>\n",
              "      <td>Law Student/Exotic Dancer</td>\n",
              "      <td>0</td>\n",
              "      <td>187.96</td>\n",
              "      <td>No</td>\n",
              "      <td>Brown</td>\n",
              "      <td>Brown</td>\n",
              "    </tr>\n",
              "    <tr>\n",
              "      <th>138</th>\n",
              "      <td>11</td>\n",
              "      <td>Shawn Evans</td>\n",
              "      <td>31</td>\n",
              "      <td>London, Ontario</td>\n",
              "      <td>Other</td>\n",
              "      <td>Other</td>\n",
              "      <td>Amateur Sex Coach</td>\n",
              "      <td>0</td>\n",
              "      <td>NaN</td>\n",
              "      <td>No</td>\n",
              "      <td>Brown</td>\n",
              "      <td>Brown</td>\n",
              "    </tr>\n",
              "    <tr>\n",
              "      <th>139</th>\n",
              "      <td>11</td>\n",
              "      <td>Brady Toops</td>\n",
              "      <td>33</td>\n",
              "      <td>Wauseon, Ohio</td>\n",
              "      <td>OH</td>\n",
              "      <td>Other</td>\n",
              "      <td>Singer/Songwriter</td>\n",
              "      <td>0</td>\n",
              "      <td>187.96</td>\n",
              "      <td>No</td>\n",
              "      <td>Brown</td>\n",
              "      <td>Brown</td>\n",
              "    </tr>\n",
              "    <tr>\n",
              "      <th>140</th>\n",
              "      <td>11</td>\n",
              "      <td>Ryan McDill</td>\n",
              "      <td>28</td>\n",
              "      <td>Kansas City, Missouri</td>\n",
              "      <td>MO</td>\n",
              "      <td>Other</td>\n",
              "      <td>Junkyard Specialist</td>\n",
              "      <td>0</td>\n",
              "      <td>190.50</td>\n",
              "      <td>No</td>\n",
              "      <td>Brown</td>\n",
              "      <td>Blue</td>\n",
              "    </tr>\n",
              "  </tbody>\n",
              "</table>\n",
              "</div>"
            ],
            "text/plain": [
              "     Season                  Name  ...  Hair Color Eye Color\n",
              "136      11             David Cox  ...       Brown     Brown\n",
              "137      11  Joshua \"Josh\" Seiter  ...       Brown     Brown\n",
              "138      11           Shawn Evans  ...       Brown     Brown\n",
              "139      11           Brady Toops  ...       Brown     Brown\n",
              "140      11           Ryan McDill  ...       Brown      Blue\n",
              "\n",
              "[5 rows x 12 columns]"
            ]
          },
          "metadata": {},
          "execution_count": 45
        }
      ]
    },
    {
      "cell_type": "code",
      "metadata": {
        "colab": {
          "base_uri": "https://localhost:8080/",
          "height": 358
        },
        "id": "vFuPbGEyCkHx",
        "outputId": "78d8c14b-ab42-4414-8b60-f70a704bce57"
      },
      "source": [
        "#We can get more than 5 rows the same way we did for .head()\n",
        "\n",
        "df.tail(10)"
      ],
      "execution_count": 46,
      "outputs": [
        {
          "output_type": "execute_result",
          "data": {
            "text/html": [
              "<div>\n",
              "<style scoped>\n",
              "    .dataframe tbody tr th:only-of-type {\n",
              "        vertical-align: middle;\n",
              "    }\n",
              "\n",
              "    .dataframe tbody tr th {\n",
              "        vertical-align: top;\n",
              "    }\n",
              "\n",
              "    .dataframe thead th {\n",
              "        text-align: right;\n",
              "    }\n",
              "</style>\n",
              "<table border=\"1\" class=\"dataframe\">\n",
              "  <thead>\n",
              "    <tr style=\"text-align: right;\">\n",
              "      <th></th>\n",
              "      <th>Season</th>\n",
              "      <th>Name</th>\n",
              "      <th>Age</th>\n",
              "      <th>Hometown</th>\n",
              "      <th>State</th>\n",
              "      <th>College</th>\n",
              "      <th>Occupation</th>\n",
              "      <th>Win_Loss</th>\n",
              "      <th>Height (cm)</th>\n",
              "      <th>Girlfriend While on the Show?</th>\n",
              "      <th>Hair Color</th>\n",
              "      <th>Eye Color</th>\n",
              "    </tr>\n",
              "  </thead>\n",
              "  <tbody>\n",
              "    <tr>\n",
              "      <th>131</th>\n",
              "      <td>11</td>\n",
              "      <td>Anthony \"Tony\" Harris</td>\n",
              "      <td>35</td>\n",
              "      <td>St. Louis, Missouri</td>\n",
              "      <td>MO</td>\n",
              "      <td>Other</td>\n",
              "      <td>Healer</td>\n",
              "      <td>0</td>\n",
              "      <td>187.96</td>\n",
              "      <td>No</td>\n",
              "      <td>Brown</td>\n",
              "      <td>Green</td>\n",
              "    </tr>\n",
              "    <tr>\n",
              "      <th>132</th>\n",
              "      <td>11</td>\n",
              "      <td>Cory Shivar</td>\n",
              "      <td>35</td>\n",
              "      <td>Seven Springs, North Carolina</td>\n",
              "      <td>NC</td>\n",
              "      <td>Other</td>\n",
              "      <td>Residential Developer</td>\n",
              "      <td>0</td>\n",
              "      <td>182.88</td>\n",
              "      <td>No</td>\n",
              "      <td>Brown</td>\n",
              "      <td>Brown</td>\n",
              "    </tr>\n",
              "    <tr>\n",
              "      <th>133</th>\n",
              "      <td>11</td>\n",
              "      <td>Daniel Finney</td>\n",
              "      <td>28</td>\n",
              "      <td>Nashville, Tennessee</td>\n",
              "      <td>TN</td>\n",
              "      <td>Other</td>\n",
              "      <td>Fashion Designer</td>\n",
              "      <td>0</td>\n",
              "      <td>190.50</td>\n",
              "      <td>No</td>\n",
              "      <td>Brown</td>\n",
              "      <td>Blue</td>\n",
              "    </tr>\n",
              "    <tr>\n",
              "      <th>134</th>\n",
              "      <td>11</td>\n",
              "      <td>Kupah James</td>\n",
              "      <td>32</td>\n",
              "      <td>Boston, Massachusetts</td>\n",
              "      <td>MA</td>\n",
              "      <td>Curry College</td>\n",
              "      <td>Entrepreneur</td>\n",
              "      <td>0</td>\n",
              "      <td>182.88</td>\n",
              "      <td>No</td>\n",
              "      <td>Brown</td>\n",
              "      <td>Brown</td>\n",
              "    </tr>\n",
              "    <tr>\n",
              "      <th>135</th>\n",
              "      <td>11</td>\n",
              "      <td>Bradley Cox</td>\n",
              "      <td>25</td>\n",
              "      <td>Duluth, Georgia</td>\n",
              "      <td>GA</td>\n",
              "      <td>Other</td>\n",
              "      <td>International Auto Shipper</td>\n",
              "      <td>0</td>\n",
              "      <td>187.96</td>\n",
              "      <td>No</td>\n",
              "      <td>Brown</td>\n",
              "      <td>Brown</td>\n",
              "    </tr>\n",
              "    <tr>\n",
              "      <th>136</th>\n",
              "      <td>11</td>\n",
              "      <td>David Cox</td>\n",
              "      <td>28</td>\n",
              "      <td>Orlando, Florida</td>\n",
              "      <td>FL</td>\n",
              "      <td>Other</td>\n",
              "      <td>Real Estate Agent</td>\n",
              "      <td>0</td>\n",
              "      <td>NaN</td>\n",
              "      <td>No</td>\n",
              "      <td>Brown</td>\n",
              "      <td>Brown</td>\n",
              "    </tr>\n",
              "    <tr>\n",
              "      <th>137</th>\n",
              "      <td>11</td>\n",
              "      <td>Joshua \"Josh\" Seiter</td>\n",
              "      <td>27</td>\n",
              "      <td>Chicago, Illinois</td>\n",
              "      <td>IL</td>\n",
              "      <td>Chicago-Kent College</td>\n",
              "      <td>Law Student/Exotic Dancer</td>\n",
              "      <td>0</td>\n",
              "      <td>187.96</td>\n",
              "      <td>No</td>\n",
              "      <td>Brown</td>\n",
              "      <td>Brown</td>\n",
              "    </tr>\n",
              "    <tr>\n",
              "      <th>138</th>\n",
              "      <td>11</td>\n",
              "      <td>Shawn Evans</td>\n",
              "      <td>31</td>\n",
              "      <td>London, Ontario</td>\n",
              "      <td>Other</td>\n",
              "      <td>Other</td>\n",
              "      <td>Amateur Sex Coach</td>\n",
              "      <td>0</td>\n",
              "      <td>NaN</td>\n",
              "      <td>No</td>\n",
              "      <td>Brown</td>\n",
              "      <td>Brown</td>\n",
              "    </tr>\n",
              "    <tr>\n",
              "      <th>139</th>\n",
              "      <td>11</td>\n",
              "      <td>Brady Toops</td>\n",
              "      <td>33</td>\n",
              "      <td>Wauseon, Ohio</td>\n",
              "      <td>OH</td>\n",
              "      <td>Other</td>\n",
              "      <td>Singer/Songwriter</td>\n",
              "      <td>0</td>\n",
              "      <td>187.96</td>\n",
              "      <td>No</td>\n",
              "      <td>Brown</td>\n",
              "      <td>Brown</td>\n",
              "    </tr>\n",
              "    <tr>\n",
              "      <th>140</th>\n",
              "      <td>11</td>\n",
              "      <td>Ryan McDill</td>\n",
              "      <td>28</td>\n",
              "      <td>Kansas City, Missouri</td>\n",
              "      <td>MO</td>\n",
              "      <td>Other</td>\n",
              "      <td>Junkyard Specialist</td>\n",
              "      <td>0</td>\n",
              "      <td>190.50</td>\n",
              "      <td>No</td>\n",
              "      <td>Brown</td>\n",
              "      <td>Blue</td>\n",
              "    </tr>\n",
              "  </tbody>\n",
              "</table>\n",
              "</div>"
            ],
            "text/plain": [
              "     Season                   Name  ...  Hair Color Eye Color\n",
              "131      11  Anthony \"Tony\" Harris  ...       Brown     Green\n",
              "132      11            Cory Shivar  ...       Brown     Brown\n",
              "133      11          Daniel Finney  ...       Brown      Blue\n",
              "134      11            Kupah James  ...       Brown     Brown\n",
              "135      11            Bradley Cox  ...       Brown     Brown\n",
              "136      11              David Cox  ...       Brown     Brown\n",
              "137      11   Joshua \"Josh\" Seiter  ...       Brown     Brown\n",
              "138      11            Shawn Evans  ...       Brown     Brown\n",
              "139      11            Brady Toops  ...       Brown     Brown\n",
              "140      11            Ryan McDill  ...       Brown      Blue\n",
              "\n",
              "[10 rows x 12 columns]"
            ]
          },
          "metadata": {},
          "execution_count": 46
        }
      ]
    },
    {
      "cell_type": "code",
      "metadata": {
        "colab": {
          "base_uri": "https://localhost:8080/"
        },
        "id": "bKbygsPfCkCD",
        "outputId": "762a32ec-2470-4d00-c035-5372ebb541af"
      },
      "source": [
        "#.shape shows the number of rows and cols, respectfully.\n",
        "#NOTE: It does not use parenthesis like other functions we'll use\n",
        "\n",
        "df.shape"
      ],
      "execution_count": 47,
      "outputs": [
        {
          "output_type": "execute_result",
          "data": {
            "text/plain": [
              "(141, 12)"
            ]
          },
          "metadata": {},
          "execution_count": 47
        }
      ]
    },
    {
      "cell_type": "code",
      "metadata": {
        "colab": {
          "base_uri": "https://localhost:8080/"
        },
        "id": "L0D7_kfujXwh",
        "outputId": "66efd491-088b-4672-c73d-a142fac7da7f"
      },
      "source": [
        "#returns the number of elements in the dataframe (rows x columns)\n",
        "\n",
        "df.size"
      ],
      "execution_count": 48,
      "outputs": [
        {
          "output_type": "execute_result",
          "data": {
            "text/plain": [
              "1692"
            ]
          },
          "metadata": {},
          "execution_count": 48
        }
      ]
    },
    {
      "cell_type": "code",
      "metadata": {
        "colab": {
          "base_uri": "https://localhost:8080/"
        },
        "id": "Iia0K7NMCkKo",
        "outputId": "6f87916a-8c7e-48ad-98aa-524752946ffa"
      },
      "source": [
        "#.info() prints information about a dataframe to help you quickly understand the columns you’re working with.\n",
        "#It will show columns, the indexes of those columns, the type of information it holds, and how many non-null values there are.\n",
        "#int64 is an int, float64 is a float, object is a string \n",
        "\n",
        "df.info()"
      ],
      "execution_count": 49,
      "outputs": [
        {
          "output_type": "stream",
          "name": "stdout",
          "text": [
            "<class 'pandas.core.frame.DataFrame'>\n",
            "RangeIndex: 141 entries, 0 to 140\n",
            "Data columns (total 12 columns):\n",
            " #   Column                         Non-Null Count  Dtype  \n",
            "---  ------                         --------------  -----  \n",
            " 0   Season                         141 non-null    int64  \n",
            " 1   Name                           141 non-null    object \n",
            " 2   Age                            141 non-null    int64  \n",
            " 3   Hometown                       141 non-null    object \n",
            " 4   State                          141 non-null    object \n",
            " 5   College                        140 non-null    object \n",
            " 6   Occupation                     141 non-null    object \n",
            " 7   Win_Loss                       141 non-null    int64  \n",
            " 8   Height (cm)                    101 non-null    float64\n",
            " 9   Girlfriend While on the Show?  141 non-null    object \n",
            " 10  Hair Color                     141 non-null    object \n",
            " 11  Eye Color                      141 non-null    object \n",
            "dtypes: float64(1), int64(3), object(8)\n",
            "memory usage: 13.3+ KB\n"
          ]
        }
      ]
    },
    {
      "cell_type": "code",
      "metadata": {
        "colab": {
          "base_uri": "https://localhost:8080/",
          "height": 204
        },
        "id": "u_5DQIvZZY9i",
        "outputId": "e567e4c8-9611-4264-c5ce-7a31d3c94f24"
      },
      "source": [
        "#running the dataframe for reference\n",
        "\n",
        "df.head()"
      ],
      "execution_count": 50,
      "outputs": [
        {
          "output_type": "execute_result",
          "data": {
            "text/html": [
              "<div>\n",
              "<style scoped>\n",
              "    .dataframe tbody tr th:only-of-type {\n",
              "        vertical-align: middle;\n",
              "    }\n",
              "\n",
              "    .dataframe tbody tr th {\n",
              "        vertical-align: top;\n",
              "    }\n",
              "\n",
              "    .dataframe thead th {\n",
              "        text-align: right;\n",
              "    }\n",
              "</style>\n",
              "<table border=\"1\" class=\"dataframe\">\n",
              "  <thead>\n",
              "    <tr style=\"text-align: right;\">\n",
              "      <th></th>\n",
              "      <th>Season</th>\n",
              "      <th>Name</th>\n",
              "      <th>Age</th>\n",
              "      <th>Hometown</th>\n",
              "      <th>State</th>\n",
              "      <th>College</th>\n",
              "      <th>Occupation</th>\n",
              "      <th>Win_Loss</th>\n",
              "      <th>Height (cm)</th>\n",
              "      <th>Girlfriend While on the Show?</th>\n",
              "      <th>Hair Color</th>\n",
              "      <th>Eye Color</th>\n",
              "    </tr>\n",
              "  </thead>\n",
              "  <tbody>\n",
              "    <tr>\n",
              "      <th>0</th>\n",
              "      <td>15</td>\n",
              "      <td>Jed Wyatt</td>\n",
              "      <td>25</td>\n",
              "      <td>Sevierville, Tennessee</td>\n",
              "      <td>TN</td>\n",
              "      <td>Belmont University</td>\n",
              "      <td>Singer/Songwriter</td>\n",
              "      <td>1</td>\n",
              "      <td>190.50</td>\n",
              "      <td>Yes</td>\n",
              "      <td>Brown</td>\n",
              "      <td>Brown</td>\n",
              "    </tr>\n",
              "    <tr>\n",
              "      <th>1</th>\n",
              "      <td>15</td>\n",
              "      <td>Tyler Cameron</td>\n",
              "      <td>26</td>\n",
              "      <td>Jupiter, Florida</td>\n",
              "      <td>FL</td>\n",
              "      <td>Wake Forest</td>\n",
              "      <td>General Contractor</td>\n",
              "      <td>0</td>\n",
              "      <td>187.96</td>\n",
              "      <td>No</td>\n",
              "      <td>Brown</td>\n",
              "      <td>Green</td>\n",
              "    </tr>\n",
              "    <tr>\n",
              "      <th>2</th>\n",
              "      <td>15</td>\n",
              "      <td>Peter Weber</td>\n",
              "      <td>27</td>\n",
              "      <td>Westlake Village, California</td>\n",
              "      <td>CA</td>\n",
              "      <td>Baylor University</td>\n",
              "      <td>Pilot</td>\n",
              "      <td>0</td>\n",
              "      <td>175.25</td>\n",
              "      <td>No</td>\n",
              "      <td>Brown</td>\n",
              "      <td>Brown</td>\n",
              "    </tr>\n",
              "    <tr>\n",
              "      <th>3</th>\n",
              "      <td>15</td>\n",
              "      <td>Luke Parker</td>\n",
              "      <td>24</td>\n",
              "      <td>Gainesville, Georgia</td>\n",
              "      <td>GA</td>\n",
              "      <td>Faulkner University</td>\n",
              "      <td>Import/Export Manager</td>\n",
              "      <td>0</td>\n",
              "      <td>175.00</td>\n",
              "      <td>No</td>\n",
              "      <td>Blonde</td>\n",
              "      <td>Brown</td>\n",
              "    </tr>\n",
              "    <tr>\n",
              "      <th>4</th>\n",
              "      <td>15</td>\n",
              "      <td>Garrett Powell</td>\n",
              "      <td>27</td>\n",
              "      <td>Homewood, Alabama</td>\n",
              "      <td>AL</td>\n",
              "      <td>Mississippi State University</td>\n",
              "      <td>Golf Pro</td>\n",
              "      <td>0</td>\n",
              "      <td>NaN</td>\n",
              "      <td>No</td>\n",
              "      <td>Brown</td>\n",
              "      <td>Green</td>\n",
              "    </tr>\n",
              "  </tbody>\n",
              "</table>\n",
              "</div>"
            ],
            "text/plain": [
              "   Season            Name  ...  Hair Color Eye Color\n",
              "0      15       Jed Wyatt  ...       Brown     Brown\n",
              "1      15   Tyler Cameron  ...       Brown     Green\n",
              "2      15     Peter Weber  ...       Brown     Brown\n",
              "3      15     Luke Parker  ...      Blonde     Brown\n",
              "4      15  Garrett Powell  ...       Brown     Green\n",
              "\n",
              "[5 rows x 12 columns]"
            ]
          },
          "metadata": {},
          "execution_count": 50
        }
      ]
    },
    {
      "cell_type": "code",
      "metadata": {
        "colab": {
          "base_uri": "https://localhost:8080/",
          "height": 296
        },
        "id": "iBg17e0nCkNd",
        "outputId": "4b39b656-31f3-4d02-d353-d48d667adb8e"
      },
      "source": [
        "#.describe() gives a summary of the NUMERIC VALUES in the dataset, it'll give you a better idea of the statistical properties of the data.\n",
        "\n",
        "df.describe()"
      ],
      "execution_count": 51,
      "outputs": [
        {
          "output_type": "execute_result",
          "data": {
            "text/html": [
              "<div>\n",
              "<style scoped>\n",
              "    .dataframe tbody tr th:only-of-type {\n",
              "        vertical-align: middle;\n",
              "    }\n",
              "\n",
              "    .dataframe tbody tr th {\n",
              "        vertical-align: top;\n",
              "    }\n",
              "\n",
              "    .dataframe thead th {\n",
              "        text-align: right;\n",
              "    }\n",
              "</style>\n",
              "<table border=\"1\" class=\"dataframe\">\n",
              "  <thead>\n",
              "    <tr style=\"text-align: right;\">\n",
              "      <th></th>\n",
              "      <th>Season</th>\n",
              "      <th>Age</th>\n",
              "      <th>Win_Loss</th>\n",
              "      <th>Height (cm)</th>\n",
              "    </tr>\n",
              "  </thead>\n",
              "  <tbody>\n",
              "    <tr>\n",
              "      <th>count</th>\n",
              "      <td>141.000000</td>\n",
              "      <td>141.000000</td>\n",
              "      <td>141.000000</td>\n",
              "      <td>101.000000</td>\n",
              "    </tr>\n",
              "    <tr>\n",
              "      <th>mean</th>\n",
              "      <td>13.070922</td>\n",
              "      <td>28.539007</td>\n",
              "      <td>0.035461</td>\n",
              "      <td>184.799802</td>\n",
              "    </tr>\n",
              "    <tr>\n",
              "      <th>std</th>\n",
              "      <td>1.407355</td>\n",
              "      <td>2.705861</td>\n",
              "      <td>0.185601</td>\n",
              "      <td>5.692313</td>\n",
              "    </tr>\n",
              "    <tr>\n",
              "      <th>min</th>\n",
              "      <td>11.000000</td>\n",
              "      <td>23.000000</td>\n",
              "      <td>0.000000</td>\n",
              "      <td>170.000000</td>\n",
              "    </tr>\n",
              "    <tr>\n",
              "      <th>25%</th>\n",
              "      <td>12.000000</td>\n",
              "      <td>27.000000</td>\n",
              "      <td>0.000000</td>\n",
              "      <td>180.330000</td>\n",
              "    </tr>\n",
              "    <tr>\n",
              "      <th>50%</th>\n",
              "      <td>13.000000</td>\n",
              "      <td>28.000000</td>\n",
              "      <td>0.000000</td>\n",
              "      <td>185.420000</td>\n",
              "    </tr>\n",
              "    <tr>\n",
              "      <th>75%</th>\n",
              "      <td>14.000000</td>\n",
              "      <td>30.000000</td>\n",
              "      <td>0.000000</td>\n",
              "      <td>188.000000</td>\n",
              "    </tr>\n",
              "    <tr>\n",
              "      <th>max</th>\n",
              "      <td>15.000000</td>\n",
              "      <td>37.000000</td>\n",
              "      <td>1.000000</td>\n",
              "      <td>198.120000</td>\n",
              "    </tr>\n",
              "  </tbody>\n",
              "</table>\n",
              "</div>"
            ],
            "text/plain": [
              "           Season         Age    Win_Loss  Height (cm)\n",
              "count  141.000000  141.000000  141.000000   101.000000\n",
              "mean    13.070922   28.539007    0.035461   184.799802\n",
              "std      1.407355    2.705861    0.185601     5.692313\n",
              "min     11.000000   23.000000    0.000000   170.000000\n",
              "25%     12.000000   27.000000    0.000000   180.330000\n",
              "50%     13.000000   28.000000    0.000000   185.420000\n",
              "75%     14.000000   30.000000    0.000000   188.000000\n",
              "max     15.000000   37.000000    1.000000   198.120000"
            ]
          },
          "metadata": {},
          "execution_count": 51
        }
      ]
    },
    {
      "cell_type": "code",
      "metadata": {
        "colab": {
          "base_uri": "https://localhost:8080/"
        },
        "id": "Y5kyCobUCkQs",
        "outputId": "6484accf-dc04-4491-a140-3fdd481c851b"
      },
      "source": [
        "#You could ask for a specific column and then get the properties\n",
        "#For example:\n",
        "\n",
        "df[\"Age\"].describe()"
      ],
      "execution_count": 52,
      "outputs": [
        {
          "output_type": "execute_result",
          "data": {
            "text/plain": [
              "count    141.000000\n",
              "mean      28.539007\n",
              "std        2.705861\n",
              "min       23.000000\n",
              "25%       27.000000\n",
              "50%       28.000000\n",
              "75%       30.000000\n",
              "max       37.000000\n",
              "Name: Age, dtype: float64"
            ]
          },
          "metadata": {},
          "execution_count": 52
        }
      ]
    },
    {
      "cell_type": "code",
      "metadata": {
        "colab": {
          "base_uri": "https://localhost:8080/"
        },
        "id": "otPDBE1NfMYo",
        "outputId": "c9903727-7058-4c1e-f01d-ad4c0442b19e"
      },
      "source": [
        "#single square brackets output a series\n",
        "\n",
        "print(type(df[\"Age\"].describe()))"
      ],
      "execution_count": 53,
      "outputs": [
        {
          "output_type": "stream",
          "name": "stdout",
          "text": [
            "<class 'pandas.core.series.Series'>\n"
          ]
        }
      ]
    },
    {
      "cell_type": "code",
      "metadata": {
        "colab": {
          "base_uri": "https://localhost:8080/",
          "height": 296
        },
        "id": "iZy4QoIgbfdu",
        "outputId": "1e3bd2a5-143f-4d88-c82d-b9813f3ba9b3"
      },
      "source": [
        "#Double square brackets output a dataframe. As you can see it looks like it broke off of a dataframe\n",
        "\n",
        "df[[\"Age\"]].describe()"
      ],
      "execution_count": 54,
      "outputs": [
        {
          "output_type": "execute_result",
          "data": {
            "text/html": [
              "<div>\n",
              "<style scoped>\n",
              "    .dataframe tbody tr th:only-of-type {\n",
              "        vertical-align: middle;\n",
              "    }\n",
              "\n",
              "    .dataframe tbody tr th {\n",
              "        vertical-align: top;\n",
              "    }\n",
              "\n",
              "    .dataframe thead th {\n",
              "        text-align: right;\n",
              "    }\n",
              "</style>\n",
              "<table border=\"1\" class=\"dataframe\">\n",
              "  <thead>\n",
              "    <tr style=\"text-align: right;\">\n",
              "      <th></th>\n",
              "      <th>Age</th>\n",
              "    </tr>\n",
              "  </thead>\n",
              "  <tbody>\n",
              "    <tr>\n",
              "      <th>count</th>\n",
              "      <td>141.000000</td>\n",
              "    </tr>\n",
              "    <tr>\n",
              "      <th>mean</th>\n",
              "      <td>28.539007</td>\n",
              "    </tr>\n",
              "    <tr>\n",
              "      <th>std</th>\n",
              "      <td>2.705861</td>\n",
              "    </tr>\n",
              "    <tr>\n",
              "      <th>min</th>\n",
              "      <td>23.000000</td>\n",
              "    </tr>\n",
              "    <tr>\n",
              "      <th>25%</th>\n",
              "      <td>27.000000</td>\n",
              "    </tr>\n",
              "    <tr>\n",
              "      <th>50%</th>\n",
              "      <td>28.000000</td>\n",
              "    </tr>\n",
              "    <tr>\n",
              "      <th>75%</th>\n",
              "      <td>30.000000</td>\n",
              "    </tr>\n",
              "    <tr>\n",
              "      <th>max</th>\n",
              "      <td>37.000000</td>\n",
              "    </tr>\n",
              "  </tbody>\n",
              "</table>\n",
              "</div>"
            ],
            "text/plain": [
              "              Age\n",
              "count  141.000000\n",
              "mean    28.539007\n",
              "std      2.705861\n",
              "min     23.000000\n",
              "25%     27.000000\n",
              "50%     28.000000\n",
              "75%     30.000000\n",
              "max     37.000000"
            ]
          },
          "metadata": {},
          "execution_count": 54
        }
      ]
    },
    {
      "cell_type": "code",
      "metadata": {
        "colab": {
          "base_uri": "https://localhost:8080/"
        },
        "id": "DXzR-keMfSW_",
        "outputId": "82240193-03b7-4d1e-88f4-a63af0f7d6ac"
      },
      "source": [
        "print(type(df[[\"Age\"]].describe()))"
      ],
      "execution_count": 55,
      "outputs": [
        {
          "output_type": "stream",
          "name": "stdout",
          "text": [
            "<class 'pandas.core.frame.DataFrame'>\n"
          ]
        }
      ]
    },
    {
      "cell_type": "code",
      "metadata": {
        "colab": {
          "base_uri": "https://localhost:8080/",
          "height": 296
        },
        "id": "l3qDBPaZZ5qM",
        "outputId": "342356c2-00b7-4491-b18b-be7c4b957b1d"
      },
      "source": [
        "#You can check multiple column properties at a time, but you can't do it with slicing\n",
        "#It has to be comma separated and it has to be between double square brackets\n",
        "#For example:\n",
        "\n",
        "df[[\"Age\", \"Height (cm)\"]].describe()"
      ],
      "execution_count": 56,
      "outputs": [
        {
          "output_type": "execute_result",
          "data": {
            "text/html": [
              "<div>\n",
              "<style scoped>\n",
              "    .dataframe tbody tr th:only-of-type {\n",
              "        vertical-align: middle;\n",
              "    }\n",
              "\n",
              "    .dataframe tbody tr th {\n",
              "        vertical-align: top;\n",
              "    }\n",
              "\n",
              "    .dataframe thead th {\n",
              "        text-align: right;\n",
              "    }\n",
              "</style>\n",
              "<table border=\"1\" class=\"dataframe\">\n",
              "  <thead>\n",
              "    <tr style=\"text-align: right;\">\n",
              "      <th></th>\n",
              "      <th>Age</th>\n",
              "      <th>Height (cm)</th>\n",
              "    </tr>\n",
              "  </thead>\n",
              "  <tbody>\n",
              "    <tr>\n",
              "      <th>count</th>\n",
              "      <td>141.000000</td>\n",
              "      <td>101.000000</td>\n",
              "    </tr>\n",
              "    <tr>\n",
              "      <th>mean</th>\n",
              "      <td>28.539007</td>\n",
              "      <td>184.799802</td>\n",
              "    </tr>\n",
              "    <tr>\n",
              "      <th>std</th>\n",
              "      <td>2.705861</td>\n",
              "      <td>5.692313</td>\n",
              "    </tr>\n",
              "    <tr>\n",
              "      <th>min</th>\n",
              "      <td>23.000000</td>\n",
              "      <td>170.000000</td>\n",
              "    </tr>\n",
              "    <tr>\n",
              "      <th>25%</th>\n",
              "      <td>27.000000</td>\n",
              "      <td>180.330000</td>\n",
              "    </tr>\n",
              "    <tr>\n",
              "      <th>50%</th>\n",
              "      <td>28.000000</td>\n",
              "      <td>185.420000</td>\n",
              "    </tr>\n",
              "    <tr>\n",
              "      <th>75%</th>\n",
              "      <td>30.000000</td>\n",
              "      <td>188.000000</td>\n",
              "    </tr>\n",
              "    <tr>\n",
              "      <th>max</th>\n",
              "      <td>37.000000</td>\n",
              "      <td>198.120000</td>\n",
              "    </tr>\n",
              "  </tbody>\n",
              "</table>\n",
              "</div>"
            ],
            "text/plain": [
              "              Age  Height (cm)\n",
              "count  141.000000   101.000000\n",
              "mean    28.539007   184.799802\n",
              "std      2.705861     5.692313\n",
              "min     23.000000   170.000000\n",
              "25%     27.000000   180.330000\n",
              "50%     28.000000   185.420000\n",
              "75%     30.000000   188.000000\n",
              "max     37.000000   198.120000"
            ]
          },
          "metadata": {},
          "execution_count": 56
        }
      ]
    },
    {
      "cell_type": "code",
      "metadata": {
        "id": "UfawI5ntUN_W",
        "colab": {
          "base_uri": "https://localhost:8080/",
          "height": 204
        },
        "outputId": "195ef3c4-4a17-4a8e-f6de-cefd7b488cb5"
      },
      "source": [
        "#This is how we can grab specific rows and columns \n",
        "\n",
        "df[0:5][[\"Age\", \"Height (cm)\"]]"
      ],
      "execution_count": 57,
      "outputs": [
        {
          "output_type": "execute_result",
          "data": {
            "text/html": [
              "<div>\n",
              "<style scoped>\n",
              "    .dataframe tbody tr th:only-of-type {\n",
              "        vertical-align: middle;\n",
              "    }\n",
              "\n",
              "    .dataframe tbody tr th {\n",
              "        vertical-align: top;\n",
              "    }\n",
              "\n",
              "    .dataframe thead th {\n",
              "        text-align: right;\n",
              "    }\n",
              "</style>\n",
              "<table border=\"1\" class=\"dataframe\">\n",
              "  <thead>\n",
              "    <tr style=\"text-align: right;\">\n",
              "      <th></th>\n",
              "      <th>Age</th>\n",
              "      <th>Height (cm)</th>\n",
              "    </tr>\n",
              "  </thead>\n",
              "  <tbody>\n",
              "    <tr>\n",
              "      <th>0</th>\n",
              "      <td>25</td>\n",
              "      <td>190.50</td>\n",
              "    </tr>\n",
              "    <tr>\n",
              "      <th>1</th>\n",
              "      <td>26</td>\n",
              "      <td>187.96</td>\n",
              "    </tr>\n",
              "    <tr>\n",
              "      <th>2</th>\n",
              "      <td>27</td>\n",
              "      <td>175.25</td>\n",
              "    </tr>\n",
              "    <tr>\n",
              "      <th>3</th>\n",
              "      <td>24</td>\n",
              "      <td>175.00</td>\n",
              "    </tr>\n",
              "    <tr>\n",
              "      <th>4</th>\n",
              "      <td>27</td>\n",
              "      <td>NaN</td>\n",
              "    </tr>\n",
              "  </tbody>\n",
              "</table>\n",
              "</div>"
            ],
            "text/plain": [
              "   Age  Height (cm)\n",
              "0   25       190.50\n",
              "1   26       187.96\n",
              "2   27       175.25\n",
              "3   24       175.00\n",
              "4   27          NaN"
            ]
          },
          "metadata": {},
          "execution_count": 57
        }
      ]
    },
    {
      "cell_type": "code",
      "metadata": {
        "id": "GxIfsHwrUOCo",
        "colab": {
          "base_uri": "https://localhost:8080/",
          "height": 204
        },
        "outputId": "030dac7a-39f6-4a1e-913c-162c91c41d2e"
      },
      "source": [
        "#Another example\n",
        "\n",
        "df[0:5][[\"Age\"]]"
      ],
      "execution_count": 58,
      "outputs": [
        {
          "output_type": "execute_result",
          "data": {
            "text/html": [
              "<div>\n",
              "<style scoped>\n",
              "    .dataframe tbody tr th:only-of-type {\n",
              "        vertical-align: middle;\n",
              "    }\n",
              "\n",
              "    .dataframe tbody tr th {\n",
              "        vertical-align: top;\n",
              "    }\n",
              "\n",
              "    .dataframe thead th {\n",
              "        text-align: right;\n",
              "    }\n",
              "</style>\n",
              "<table border=\"1\" class=\"dataframe\">\n",
              "  <thead>\n",
              "    <tr style=\"text-align: right;\">\n",
              "      <th></th>\n",
              "      <th>Age</th>\n",
              "    </tr>\n",
              "  </thead>\n",
              "  <tbody>\n",
              "    <tr>\n",
              "      <th>0</th>\n",
              "      <td>25</td>\n",
              "    </tr>\n",
              "    <tr>\n",
              "      <th>1</th>\n",
              "      <td>26</td>\n",
              "    </tr>\n",
              "    <tr>\n",
              "      <th>2</th>\n",
              "      <td>27</td>\n",
              "    </tr>\n",
              "    <tr>\n",
              "      <th>3</th>\n",
              "      <td>24</td>\n",
              "    </tr>\n",
              "    <tr>\n",
              "      <th>4</th>\n",
              "      <td>27</td>\n",
              "    </tr>\n",
              "  </tbody>\n",
              "</table>\n",
              "</div>"
            ],
            "text/plain": [
              "   Age\n",
              "0   25\n",
              "1   26\n",
              "2   27\n",
              "3   24\n",
              "4   27"
            ]
          },
          "metadata": {},
          "execution_count": 58
        }
      ]
    },
    {
      "cell_type": "markdown",
      "metadata": {
        "id": "yucZqjDPlBBf"
      },
      "source": [
        "##Data Visualization"
      ]
    },
    {
      "cell_type": "code",
      "metadata": {
        "colab": {
          "base_uri": "https://localhost:8080/",
          "height": 53
        },
        "id": "YRUMkxIIlAsA",
        "outputId": "06208344-a8b6-4b94-aa89-8895a3938811"
      },
      "source": [
        "#We'll import every library we need to make some graphs. \n",
        "\n",
        "import numpy as np\n",
        "import pandas as pd\n",
        "import matplotlib.pyplot as plt\n",
        "import seaborn as sns\n",
        "\n",
        "#This website explains what all matplotlib functions do https://matplotlib.org/stable/api/_as_gen/matplotlib.pyplot.html"
      ],
      "execution_count": 59,
      "outputs": [
        {
          "output_type": "execute_result",
          "data": {
            "application/vnd.google.colaboratory.intrinsic+json": {
              "type": "string"
            },
            "text/plain": [
              "'The documentation for some of these graphs will be hard to remember so I recommend going \\nto this website as a guide https://matplotlib.org/stable/api/_as_gen/matplotlib.pyplot.html. \\nYou can look through the list of functions and find out what parameters you need for them '"
            ]
          },
          "metadata": {},
          "execution_count": 59
        }
      ]
    },
    {
      "cell_type": "code",
      "metadata": {
        "colab": {
          "base_uri": "https://localhost:8080/",
          "height": 418
        },
        "id": "1aSZpmu5EV0c",
        "outputId": "3339e2ad-99ae-4110-f16e-9cba38d02b57"
      },
      "source": [
        "#For reference\n",
        "\n",
        "df"
      ],
      "execution_count": 63,
      "outputs": [
        {
          "output_type": "execute_result",
          "data": {
            "text/html": [
              "<div>\n",
              "<style scoped>\n",
              "    .dataframe tbody tr th:only-of-type {\n",
              "        vertical-align: middle;\n",
              "    }\n",
              "\n",
              "    .dataframe tbody tr th {\n",
              "        vertical-align: top;\n",
              "    }\n",
              "\n",
              "    .dataframe thead th {\n",
              "        text-align: right;\n",
              "    }\n",
              "</style>\n",
              "<table border=\"1\" class=\"dataframe\">\n",
              "  <thead>\n",
              "    <tr style=\"text-align: right;\">\n",
              "      <th></th>\n",
              "      <th>Season</th>\n",
              "      <th>Name</th>\n",
              "      <th>Age</th>\n",
              "      <th>Hometown</th>\n",
              "      <th>State</th>\n",
              "      <th>College</th>\n",
              "      <th>Occupation</th>\n",
              "      <th>Win_Loss</th>\n",
              "      <th>Height (cm)</th>\n",
              "      <th>Girlfriend While on the Show?</th>\n",
              "      <th>Hair Color</th>\n",
              "      <th>Eye Color</th>\n",
              "    </tr>\n",
              "  </thead>\n",
              "  <tbody>\n",
              "    <tr>\n",
              "      <th>0</th>\n",
              "      <td>15</td>\n",
              "      <td>Jed Wyatt</td>\n",
              "      <td>25</td>\n",
              "      <td>Sevierville, Tennessee</td>\n",
              "      <td>TN</td>\n",
              "      <td>Belmont University</td>\n",
              "      <td>Singer/Songwriter</td>\n",
              "      <td>1</td>\n",
              "      <td>190.50</td>\n",
              "      <td>Yes</td>\n",
              "      <td>Brown</td>\n",
              "      <td>Brown</td>\n",
              "    </tr>\n",
              "    <tr>\n",
              "      <th>1</th>\n",
              "      <td>15</td>\n",
              "      <td>Tyler Cameron</td>\n",
              "      <td>26</td>\n",
              "      <td>Jupiter, Florida</td>\n",
              "      <td>FL</td>\n",
              "      <td>Wake Forest</td>\n",
              "      <td>General Contractor</td>\n",
              "      <td>0</td>\n",
              "      <td>187.96</td>\n",
              "      <td>No</td>\n",
              "      <td>Brown</td>\n",
              "      <td>Green</td>\n",
              "    </tr>\n",
              "    <tr>\n",
              "      <th>2</th>\n",
              "      <td>15</td>\n",
              "      <td>Peter Weber</td>\n",
              "      <td>27</td>\n",
              "      <td>Westlake Village, California</td>\n",
              "      <td>CA</td>\n",
              "      <td>Baylor University</td>\n",
              "      <td>Pilot</td>\n",
              "      <td>0</td>\n",
              "      <td>175.25</td>\n",
              "      <td>No</td>\n",
              "      <td>Brown</td>\n",
              "      <td>Brown</td>\n",
              "    </tr>\n",
              "    <tr>\n",
              "      <th>3</th>\n",
              "      <td>15</td>\n",
              "      <td>Luke Parker</td>\n",
              "      <td>24</td>\n",
              "      <td>Gainesville, Georgia</td>\n",
              "      <td>GA</td>\n",
              "      <td>Faulkner University</td>\n",
              "      <td>Import/Export Manager</td>\n",
              "      <td>0</td>\n",
              "      <td>175.00</td>\n",
              "      <td>No</td>\n",
              "      <td>Blonde</td>\n",
              "      <td>Brown</td>\n",
              "    </tr>\n",
              "    <tr>\n",
              "      <th>4</th>\n",
              "      <td>15</td>\n",
              "      <td>Garrett Powell</td>\n",
              "      <td>27</td>\n",
              "      <td>Homewood, Alabama</td>\n",
              "      <td>AL</td>\n",
              "      <td>Mississippi State University</td>\n",
              "      <td>Golf Pro</td>\n",
              "      <td>0</td>\n",
              "      <td>NaN</td>\n",
              "      <td>No</td>\n",
              "      <td>Brown</td>\n",
              "      <td>Green</td>\n",
              "    </tr>\n",
              "    <tr>\n",
              "      <th>...</th>\n",
              "      <td>...</td>\n",
              "      <td>...</td>\n",
              "      <td>...</td>\n",
              "      <td>...</td>\n",
              "      <td>...</td>\n",
              "      <td>...</td>\n",
              "      <td>...</td>\n",
              "      <td>...</td>\n",
              "      <td>...</td>\n",
              "      <td>...</td>\n",
              "      <td>...</td>\n",
              "      <td>...</td>\n",
              "    </tr>\n",
              "    <tr>\n",
              "      <th>136</th>\n",
              "      <td>11</td>\n",
              "      <td>David Cox</td>\n",
              "      <td>28</td>\n",
              "      <td>Orlando, Florida</td>\n",
              "      <td>FL</td>\n",
              "      <td>Other</td>\n",
              "      <td>Real Estate Agent</td>\n",
              "      <td>0</td>\n",
              "      <td>NaN</td>\n",
              "      <td>No</td>\n",
              "      <td>Brown</td>\n",
              "      <td>Brown</td>\n",
              "    </tr>\n",
              "    <tr>\n",
              "      <th>137</th>\n",
              "      <td>11</td>\n",
              "      <td>Joshua \"Josh\" Seiter</td>\n",
              "      <td>27</td>\n",
              "      <td>Chicago, Illinois</td>\n",
              "      <td>IL</td>\n",
              "      <td>Chicago-Kent College</td>\n",
              "      <td>Law Student/Exotic Dancer</td>\n",
              "      <td>0</td>\n",
              "      <td>187.96</td>\n",
              "      <td>No</td>\n",
              "      <td>Brown</td>\n",
              "      <td>Brown</td>\n",
              "    </tr>\n",
              "    <tr>\n",
              "      <th>138</th>\n",
              "      <td>11</td>\n",
              "      <td>Shawn Evans</td>\n",
              "      <td>31</td>\n",
              "      <td>London, Ontario</td>\n",
              "      <td>Other</td>\n",
              "      <td>Other</td>\n",
              "      <td>Amateur Sex Coach</td>\n",
              "      <td>0</td>\n",
              "      <td>NaN</td>\n",
              "      <td>No</td>\n",
              "      <td>Brown</td>\n",
              "      <td>Brown</td>\n",
              "    </tr>\n",
              "    <tr>\n",
              "      <th>139</th>\n",
              "      <td>11</td>\n",
              "      <td>Brady Toops</td>\n",
              "      <td>33</td>\n",
              "      <td>Wauseon, Ohio</td>\n",
              "      <td>OH</td>\n",
              "      <td>Other</td>\n",
              "      <td>Singer/Songwriter</td>\n",
              "      <td>0</td>\n",
              "      <td>187.96</td>\n",
              "      <td>No</td>\n",
              "      <td>Brown</td>\n",
              "      <td>Brown</td>\n",
              "    </tr>\n",
              "    <tr>\n",
              "      <th>140</th>\n",
              "      <td>11</td>\n",
              "      <td>Ryan McDill</td>\n",
              "      <td>28</td>\n",
              "      <td>Kansas City, Missouri</td>\n",
              "      <td>MO</td>\n",
              "      <td>Other</td>\n",
              "      <td>Junkyard Specialist</td>\n",
              "      <td>0</td>\n",
              "      <td>190.50</td>\n",
              "      <td>No</td>\n",
              "      <td>Brown</td>\n",
              "      <td>Blue</td>\n",
              "    </tr>\n",
              "  </tbody>\n",
              "</table>\n",
              "<p>141 rows × 12 columns</p>\n",
              "</div>"
            ],
            "text/plain": [
              "     Season                  Name  ...  Hair Color Eye Color\n",
              "0        15             Jed Wyatt  ...       Brown     Brown\n",
              "1        15         Tyler Cameron  ...       Brown     Green\n",
              "2        15           Peter Weber  ...       Brown     Brown\n",
              "3        15           Luke Parker  ...      Blonde     Brown\n",
              "4        15        Garrett Powell  ...       Brown     Green\n",
              "..      ...                   ...  ...         ...       ...\n",
              "136      11             David Cox  ...       Brown     Brown\n",
              "137      11  Joshua \"Josh\" Seiter  ...       Brown     Brown\n",
              "138      11           Shawn Evans  ...       Brown     Brown\n",
              "139      11           Brady Toops  ...       Brown     Brown\n",
              "140      11           Ryan McDill  ...       Brown      Blue\n",
              "\n",
              "[141 rows x 12 columns]"
            ]
          },
          "metadata": {},
          "execution_count": 63
        }
      ]
    },
    {
      "cell_type": "code",
      "metadata": {
        "colab": {
          "base_uri": "https://localhost:8080/",
          "height": 297
        },
        "id": "OnVKaiyfHHKo",
        "outputId": "fbf593e3-8e9b-4947-8848-45d6fc10d32d"
      },
      "source": [
        "#Explain each part\n",
        "\n",
        "sns.countplot(x = 'Hair Color', data = df)"
      ],
      "execution_count": 161,
      "outputs": [
        {
          "output_type": "execute_result",
          "data": {
            "text/plain": [
              "<matplotlib.axes._subplots.AxesSubplot at 0x7f5024b32fd0>"
            ]
          },
          "metadata": {},
          "execution_count": 161
        },
        {
          "output_type": "display_data",
          "data": {
            "image/png": "[encoded data removed]",
            "text/plain": [
              "<Figure size 432x288 with 1 Axes>"
            ]
          },
          "metadata": {
            "needs_background": "light"
          }
        }
      ]
    },
    {
      "cell_type": "code",
      "metadata": {
        "colab": {
          "base_uri": "https://localhost:8080/",
          "height": 295
        },
        "id": "RA-CcO1muFAe",
        "outputId": "070f6d7e-2c38-46b8-ed53-8e7c5b3e59ad"
      },
      "source": [
        "#Lets customize the graph some more\n",
        "\n",
        "sns.countplot(x = 'Hair Color', data = df)\n",
        "\n",
        "#Adds a title to our graph\n",
        "plt.title(\"Countplot of Hair Color\")\n",
        "\n",
        "#We can change the labels on the x and y axis by using .xlabel and .ylabel\n",
        "plt.ylabel(\"Count\")\n",
        "\n",
        "#gets rid of the line over the graph\n",
        "plt.show()"
      ],
      "execution_count": 162,
      "outputs": [
        {
          "output_type": "display_data",
          "data": {
            "image/png": "[encoded data removed]",
            "text/plain": [
              "<Figure size 432x288 with 1 Axes>"
            ]
          },
          "metadata": {
            "needs_background": "light"
          }
        }
      ]
    },
    {
      "cell_type": "code",
      "metadata": {
        "colab": {
          "base_uri": "https://localhost:8080/",
          "height": 295
        },
        "id": "NC8VqbJweGHA",
        "outputId": "7e247fe3-812c-47b3-c92a-f92c80d72104"
      },
      "source": [
        "#As you can see, there's a bar that shows the count for each hair color, but let's add the correct\n",
        "#We can customize the color in the bars by doing this:\n",
        "\n",
        "#We could do color = \"red\" for example, but it would color both the bars as red\n",
        "sns.countplot(x = \"Hair Color\", data = df, palette = [\"brown\", \"gold\"])\n",
        "\n",
        "plt.title(\"Countplot of Hair Color\")\n",
        "\n",
        "plt.ylabel(\"Count\")\n",
        "\n",
        "plt.show()"
      ],
      "execution_count": 205,
      "outputs": [
        {
          "output_type": "display_data",
          "data": {
            "image/png": "[encoded data removed]",
            "text/plain": [
              "<Figure size 432x288 with 1 Axes>"
            ]
          },
          "metadata": {
            "needs_background": "light"
          }
        }
      ]
    },
    {
      "cell_type": "code",
      "metadata": {
        "colab": {
          "base_uri": "https://localhost:8080/",
          "height": 295
        },
        "id": "yzGSz5vwhAcE",
        "outputId": "3ba769be-2c59-4233-d1b5-cfe0c9d66aad"
      },
      "source": [
        "#Another example \n",
        "#Eye color countplot\n",
        "\n",
        "sns.countplot(x = 'Eye Color', data = df)\n",
        "\n",
        "plt.title(\"Eye color count\")\n",
        "\n",
        "plt.xlabel(\"Eye Colors\")\n",
        "plt.ylabel(\"Count\")\n",
        "\n",
        "plt.show()"
      ],
      "execution_count": 168,
      "outputs": [
        {
          "output_type": "display_data",
          "data": {
            "image/png": "[encoded data removed]",
            "text/plain": [
              "<Figure size 432x288 with 1 Axes>"
            ]
          },
          "metadata": {
            "needs_background": "light"
          }
        }
      ]
    },
    {
      "cell_type": "code",
      "metadata": {
        "colab": {
          "base_uri": "https://localhost:8080/",
          "height": 295
        },
        "id": "0btfPQYJhAsS",
        "outputId": "9aa78230-d03a-4542-f3bd-ddb20e800eec"
      },
      "source": [
        "#Colors of the bar don't match the bar labels, so if we want to customize the color in the bars, we do this:\n",
        "\n",
        "sns.countplot(x = 'Eye Color', data = df, palette = [\"brown\", \"green\", \"blue\"])\n",
        "\n",
        "plt.title(\"Eye color count\")\n",
        "\n",
        "plt.xlabel(\"Eye Colors\")\n",
        "plt.ylabel(\"Count\")\n",
        "\n",
        "plt.show()"
      ],
      "execution_count": 207,
      "outputs": [
        {
          "output_type": "display_data",
          "data": {
            "image/png": "[encoded data removed]",
            "text/plain": [
              "<Figure size 432x288 with 1 Axes>"
            ]
          },
          "metadata": {
            "needs_background": "light"
          }
        }
      ]
    },
    {
      "cell_type": "code",
      "metadata": {
        "colab": {
          "base_uri": "https://localhost:8080/"
        },
        "id": "Xr-FsAzqepSx",
        "outputId": "d947c1ff-d6f2-45d3-a64d-cd622cd12382"
      },
      "source": [
        "#Let's turn these eye color counts into percentages\n",
        "#.value_counts() gives us the number of unique values that we use it on. \n",
        "#For example:\n",
        "\n",
        "eye_color_count = df['Eye Color'].value_counts()\n",
        "print(eye_color_count)"
      ],
      "execution_count": 211,
      "outputs": [
        {
          "output_type": "stream",
          "name": "stdout",
          "text": [
            "Brown    120\n",
            "Blue      14\n",
            "Green      7\n",
            "Name: Eye Color, dtype: int64\n"
          ]
        }
      ]
    },
    {
      "cell_type": "code",
      "metadata": {
        "colab": {
          "base_uri": "https://localhost:8080/"
        },
        "id": "yERkwcBHf4SO",
        "outputId": "7ad8869e-181e-410f-eb28-1ec7a7c656c8"
      },
      "source": [
        "#normalize is an attribute of .value_counts. If it's True then the object returned will contain the relative frequencies of the unique values.\n",
        "\n",
        "eye_color_count = df['Eye Color'].value_counts(normalize = True)\n",
        "print(eye_color_count)"
      ],
      "execution_count": 218,
      "outputs": [
        {
          "output_type": "stream",
          "name": "stdout",
          "text": [
            "Brown    0.851064\n",
            "Blue     0.099291\n",
            "Green    0.049645\n",
            "Name: Eye Color, dtype: float64\n"
          ]
        }
      ]
    },
    {
      "cell_type": "code",
      "metadata": {
        "colab": {
          "base_uri": "https://localhost:8080/"
        },
        "id": "XrQB5bfTf67o",
        "outputId": "348c24c7-d43b-4559-c6ae-0871a5acf052"
      },
      "source": [
        "#If we multiply this by 100, then we'll be able to get percentages\n",
        "#So, the percentages of the eye colors are:\n",
        "\n",
        "print(eye_color_count*100)"
      ],
      "execution_count": 219,
      "outputs": [
        {
          "output_type": "stream",
          "name": "stdout",
          "text": [
            "Brown    85.106383\n",
            "Blue      9.929078\n",
            "Green     4.964539\n",
            "Name: Eye Color, dtype: float64\n"
          ]
        }
      ]
    },
    {
      "cell_type": "code",
      "metadata": {
        "colab": {
          "base_uri": "https://localhost:8080/",
          "height": 264
        },
        "id": "EkMYysiof7CW",
        "outputId": "586d9e63-4395-4ecc-b443-52c4e10c73ce"
      },
      "source": [
        "#Lets use these percentages and make a pie chart\n",
        "\n",
        "#we make an array using numpy and we make the values the percentages of eye color counts\n",
        "eye_array = np.array([85.106, 9.929, 4.965])\n",
        "\n",
        "#We make a list of the labels we want to use in the pie chart.\n",
        "mylabels = [\"Brown\", \"Blue\", \"Green\"]\n",
        "\n",
        "#This colors the values in the array\n",
        "mycolors = [\"Brown\", \"Blue\", \"Green\"]\n",
        "\n",
        "plt.title(\"Eye Color Pie Chart\")\n",
        "\n",
        "plt.pie(eye_array, labels = mylabels, colors = mycolors)\n",
        "plt.show() "
      ],
      "execution_count": 193,
      "outputs": [
        {
          "output_type": "display_data",
          "data": {
            "image/png": "[encoded data removed]",
            "text/plain": [
              "<Figure size 432x288 with 1 Axes>"
            ]
          },
          "metadata": {}
        }
      ]
    },
    {
      "cell_type": "code",
      "metadata": {
        "colab": {
          "base_uri": "https://localhost:8080/",
          "height": 295
        },
        "id": "-gTtCCAzGdSi",
        "outputId": "bef5ae27-e971-4b2c-99a3-f8b7d4e7c0a0"
      },
      "source": [
        "#Countplot of the states the contestants are from\n",
        "\n",
        "sns.countplot(x = 'State', data = df)\n",
        "\n",
        "plt.title(\"Countplot of States\")\n",
        "\n",
        "plt.xlabel(\"Ages\")\n",
        "plt.ylabel(\"Count\")\n",
        "\n",
        "plt.show()"
      ],
      "execution_count": 182,
      "outputs": [
        {
          "output_type": "display_data",
          "data": {
            "image/png": "[encoded data removed]",
            "text/plain": [
              "<Figure size 432x288 with 1 Axes>"
            ]
          },
          "metadata": {
            "needs_background": "light"
          }
        }
      ]
    },
    {
      "cell_type": "code",
      "metadata": {
        "colab": {
          "base_uri": "https://localhost:8080/",
          "height": 392
        },
        "id": "WjHDRLqIdQHR",
        "outputId": "5257d1f2-b942-4661-da8a-04cf3df7c58e"
      },
      "source": [
        "#We can change the size of the graph in order to see the xaxis clearly\n",
        "\n",
        "#This lets us change the size of the graph. Have to put it before you call the graph. figsize takes two paramaters (width and height in inches. dpi refers to the resolution of the figure in dots-per-inch\n",
        "plt.figure(figsize = (14,3), dpi= 120) \n",
        "\n",
        "sns.countplot(x = 'State', data = df)\n",
        "\n",
        "plt.title(\"Countplot of States\")\n",
        "\n",
        "plt.xlabel(\"Ages\")\n",
        "plt.ylabel(\"Count\")\n",
        "\n",
        "plt.show()"
      ],
      "execution_count": 220,
      "outputs": [
        {
          "output_type": "display_data",
          "data": {
            "image/png": "[encoded data removed]",
            "text/plain": [
              "<Figure size 1680x360 with 1 Axes>"
            ]
          },
          "metadata": {
            "needs_background": "light"
          }
        }
      ]
    },
    {
      "cell_type": "code",
      "metadata": {
        "id": "o9Br_WwqUOVZ",
        "colab": {
          "base_uri": "https://localhost:8080/",
          "height": 295
        },
        "outputId": "b25b3153-9c4c-4c46-c70d-b6de24d42285"
      },
      "source": [
        "#Let's make a histogram using matplotlib and manipulate it a little bit\n",
        "#Explain each thing\n",
        "\n",
        "#we'll make a variable called height\n",
        "height = df['Height (cm)']\n",
        "\n",
        "height.plot(kind = \"hist\")\n",
        "\n",
        "plt.title(\"Height (in centimeters)\")\n",
        "\n",
        "plt.ylabel(\"Frequency of contestants\")\n",
        "\n",
        "plt.xlabel(\"Centimeters\")\n",
        "\n",
        "plt.show()"
      ],
      "execution_count": 223,
      "outputs": [
        {
          "output_type": "display_data",
          "data": {
            "image/png": "[encoded data removed]",
            "text/plain": [
              "<Figure size 432x288 with 1 Axes>"
            ]
          },
          "metadata": {
            "needs_background": "light"
          }
        }
      ]
    },
    {
      "cell_type": "code",
      "metadata": {
        "id": "9rhOxq_PUOYo",
        "colab": {
          "base_uri": "https://localhost:8080/",
          "height": 295
        },
        "outputId": "4f9f97b0-78d8-4015-c04f-e3f103fb3fdf"
      },
      "source": [
        "#Lets turn the centimeters into feet. We need to multiply the cm by 0.032808 in order to get feet.\n",
        "\n",
        "#This will multiply every height by 0.032808 \n",
        "new_height = df['Height (cm)'] * 0.032808\n",
        "\n",
        "#now the plot will show the height in feet\n",
        "new_height.plot(kind = \"hist\", color = \"purple\")\n",
        "\n",
        "plt.title(\"Height (in feet)\")\n",
        "\n",
        "plt.ylabel(\"Frequency of contestants\")\n",
        "\n",
        "plt.xlabel(\"Feet\")\n",
        "\n",
        "plt.show()"
      ],
      "execution_count": 224,
      "outputs": [
        {
          "output_type": "display_data",
          "data": {
            "image/png": "[encoded data removed]",
            "text/plain": [
              "<Figure size 432x288 with 1 Axes>"
            ]
          },
          "metadata": {
            "needs_background": "light"
          }
        }
      ]
    },
    {
      "cell_type": "markdown",
      "metadata": {
        "id": "IvpX_v7_3C2i"
      },
      "source": [
        "#Thank you for joining our Python Workshop #2!!\n",
        "##Have a great Thanksgiving break!"
      ]
    }
  ]
}