{
  "nbformat": 4,
  "nbformat_minor": 0,
  "metadata": {
    "colab": {
      "name": "Python Workshop #1 (Fall 2021)",
      "provenance": [],
      "authorship_tag": "ABX9TyM5byId1RysEI9HO6KM+5zs",
      "include_colab_link": true
    },
    "kernelspec": {
      "name": "python3",
      "display_name": "Python 3"
    },
    "language_info": {
      "name": "python"
    }
  },
  "cells": [
    {
      "cell_type": "markdown",
      "metadata": {
        "id": "view-in-github",
        "colab_type": "text"
      },
      "source": [
        "<a href=\"https://colab.research.google.com/github/davidmena1239/AIS-Python-Workshop/blob/main/Python_Workshop_1_(Fall_2021).ipynb\" target=\"_parent\"><img src=\"https://colab.research.google.com/assets/colab-badge.svg\" alt=\"Open In Colab\"/></a>"
      ]
    },
    {
      "cell_type": "markdown",
      "metadata": {
        "id": "IOdor1Wru4tU"
      },
      "source": [
        "#Welcome to our beginner Python Workshop!\n",
        "\n",
        "###Comments"
      ]
    },
    {
      "cell_type": "code",
      "metadata": {
        "colab": {
          "base_uri": "https://localhost:8080/",
          "height": 36
        },
        "id": "Y9_HXV_IqMzE",
        "outputId": "3279b264-2b33-4502-f3c4-2c26bbbba0a3"
      },
      "source": [
        "#Single Line Comments\n",
        "#To make a single-line comment, begin the line with a '#' key. Anything after the # will be considered a comment if it's on the line\n",
        "#Doing this will not affect the output of your code\n",
        "\n",
        "#Multi Line Comments or Doc Strings\n",
        "\n",
        "\"\"\" \"\"\" or ''' '''\n",
        "''' To make multi-line comments,\n",
        "use three quotation marks  \n",
        "at the start and the end of your notes '''\n",
        "\n",
        "#Example:\n",
        "\n",
        "  #This is a single line comment\n",
        "\n",
        "'''This is \n",
        "    a multi \n",
        "    line comment'''"
      ],
      "execution_count": 47,
      "outputs": [
        {
          "output_type": "execute_result",
          "data": {
            "application/vnd.google.colaboratory.intrinsic+json": {
              "type": "string"
            },
            "text/plain": [
              "'This is \\n    a multi \\n    line comment'"
            ]
          },
          "metadata": {},
          "execution_count": 47
        }
      ]
    },
    {
      "cell_type": "markdown",
      "metadata": {
        "id": "C3nsRebbunR8"
      },
      "source": [
        "##The print function and data types\n",
        "##Data Type 1 - Strings ('str')"
      ]
    },
    {
      "cell_type": "code",
      "metadata": {
        "colab": {
          "base_uri": "https://localhost:8080/"
        },
        "id": "t-1GheE4t6iH",
        "outputId": "c097514d-3b17-404d-d0f8-2bd3811f0792"
      },
      "source": [
        "#This line of code is outputting a 'string' or 'str' data type.\n",
        "#Strings MUST be encapsulated with quotations \"\" or ''\n",
        "\n",
        "print(\"Hello World\")\n",
        "\n",
        "#We may check the data type being used with the type() function \n",
        "\n",
        "print(type(\"Hello World\"))\n",
        "\n",
        "#The following would also be considered strings\n",
        "\n",
        "print(type(\"I love AIS\"))\n",
        "print(type(\"Baruch student's are smart\")) #Note: Sometimes you want to use words with apostrophes, so use double quotes instead of a single quotes \n",
        "print(type(\"AIS is the best\"))"
      ],
      "execution_count": null,
      "outputs": [
        {
          "output_type": "stream",
          "name": "stdout",
          "text": [
            "Hello World\n",
            "<class 'str'>\n",
            "<class 'str'>\n",
            "<class 'str'>\n",
            "<class 'str'>\n"
          ]
        }
      ]
    },
    {
      "cell_type": "markdown",
      "metadata": {
        "id": "2KVemYL_vAZM"
      },
      "source": [
        "## Data Type 2 - Integers ('int')"
      ]
    },
    {
      "cell_type": "code",
      "metadata": {
        "colab": {
          "base_uri": "https://localhost:8080/"
        },
        "id": "ZaXoOffOudJ6",
        "outputId": "52ebd828-11f1-4316-9130-46b945263c1b"
      },
      "source": [
        "#Integers refer to counting numbers (i.e 0, 1, 2...) and negative #numbers (i.e. -3, -2, -1, ) with NO decimals\n",
        "#They DO NOT need to be encapsulated in quotations\n",
        "#Below is an example of a integer\n",
        "\n",
        "print(55)\n",
        "print(type(55))\n",
        "print(-55)\n",
        "print(type(-55))"
      ],
      "execution_count": null,
      "outputs": [
        {
          "output_type": "stream",
          "name": "stdout",
          "text": [
            "55\n",
            "<class 'int'>\n",
            "-55\n",
            "<class 'int'>\n"
          ]
        }
      ]
    },
    {
      "cell_type": "markdown",
      "metadata": {
        "id": "tchFQT2uvWky"
      },
      "source": [
        "##Data Type 3 - Floats ('float')"
      ]
    },
    {
      "cell_type": "code",
      "metadata": {
        "colab": {
          "base_uri": "https://localhost:8080/"
        },
        "id": "tiCUxuWTvDaQ",
        "outputId": "54411794-d708-44b2-fa02-5944db7ca1c8"
      },
      "source": [
        "''' Floats refer to numbers (positve and negative) which contain decimals\n",
        "Like integers, they DO NOT need to be encapsulated in quotations '''\n",
        "\n",
        "print(69.9)\n",
        "print(type(69.9))\n",
        "print(24.0)\n",
        "print(type(24.0))\n",
        "\n",
        "\n",
        "#Fractions are considered floats REGARDLESS of whether they have a remainder or not\n",
        "\n",
        "print(-69/9)\n",
        "print(type(-69/9))\n",
        "\n",
        "#Note that if you divide two integers the result will ALWAYS be a FLOAT!\n",
        "\n",
        "print(30/10)\n",
        "print(type(30/10))\n",
        "\n",
        "#Remember: any numbers encapsultated in parenthesees (\"\" or '') are STRINGS\n",
        "#For example:\n",
        "\n",
        "print(\"69.9\")\n",
        "print(type(\"69.9\"))"
      ],
      "execution_count": null,
      "outputs": [
        {
          "output_type": "stream",
          "name": "stdout",
          "text": [
            "69.9\n",
            "<class 'float'>\n",
            "24.0\n",
            "<class 'float'>\n",
            "-7.666666666666667\n",
            "<class 'float'>\n",
            "3.0\n",
            "<class 'float'>\n",
            "69.9\n",
            "<class 'str'>\n"
          ]
        }
      ]
    },
    {
      "cell_type": "markdown",
      "metadata": {
        "id": "UiGqnBYixQ6Q"
      },
      "source": [
        "## Data Type 4- Booleans ('bool')"
      ]
    },
    {
      "cell_type": "code",
      "metadata": {
        "colab": {
          "base_uri": "https://localhost:8080/"
        },
        "id": "9Ntqc1sfvEDv",
        "outputId": "38dc42ab-25c9-4dce-c554-a0f591ff0094"
      },
      "source": [
        "'''Booleans can either refer to the words True or False\n",
        "They DO NOT need to be encapsulated in quotation marks\n",
        " '''\n",
        "\n",
        "print(type(True))\n",
        "print(type(False))"
      ],
      "execution_count": null,
      "outputs": [
        {
          "output_type": "stream",
          "name": "stdout",
          "text": [
            "<class 'bool'>\n",
            "<class 'bool'>\n"
          ]
        }
      ]
    },
    {
      "cell_type": "code",
      "metadata": {
        "colab": {
          "base_uri": "https://localhost:8080/"
        },
        "id": "WhOYfKNsvEGu",
        "outputId": "3b972ff6-a9a1-4634-f44e-5395daac2aeb"
      },
      "source": [
        "#Boolean Expressions\n",
        "\n",
        "print((1 == 1))\n",
        "\n",
        "print((1 != 1)) #Note: != is refers to 'not equal'\n",
        "\n",
        "print((2 > 1)) \n",
        "\n",
        "print((2.0 <= 3.0))\n",
        "\n",
        "print((\"AIS\" == \"AS\"))"
      ],
      "execution_count": null,
      "outputs": [
        {
          "output_type": "stream",
          "name": "stdout",
          "text": [
            "True\n",
            "False\n",
            "True\n",
            "True\n",
            "False\n"
          ]
        }
      ]
    },
    {
      "cell_type": "markdown",
      "metadata": {
        "id": "o4hxSB6LyAJd"
      },
      "source": [
        "## Mathematical Operations"
      ]
    },
    {
      "cell_type": "code",
      "metadata": {
        "colab": {
          "base_uri": "https://localhost:8080/"
        },
        "id": "mFVJJtTPvEJt",
        "outputId": "2f341bcb-f73d-46de-8bc4-9df7081673da"
      },
      "source": [
        "# (+) Addition\n",
        "\n",
        "print(1+1)"
      ],
      "execution_count": null,
      "outputs": [
        {
          "output_type": "stream",
          "name": "stdout",
          "text": [
            "2\n"
          ]
        }
      ]
    },
    {
      "cell_type": "code",
      "metadata": {
        "colab": {
          "base_uri": "https://localhost:8080/"
        },
        "id": "Z4bLUItVvEMj",
        "outputId": "ed133401-5d9e-4dd1-8808-5b8f347e0402"
      },
      "source": [
        "# (-) Subtraction\n",
        "\n",
        "print(2-1)"
      ],
      "execution_count": null,
      "outputs": [
        {
          "output_type": "stream",
          "name": "stdout",
          "text": [
            "1\n"
          ]
        }
      ]
    },
    {
      "cell_type": "code",
      "metadata": {
        "colab": {
          "base_uri": "https://localhost:8080/"
        },
        "id": "dj0icH-NvEPo",
        "outputId": "3133faa5-6dab-4395-c279-5167abb46341"
      },
      "source": [
        "# (/) Division\n",
        "\n",
        "print(3/2)\n"
      ],
      "execution_count": null,
      "outputs": [
        {
          "output_type": "stream",
          "name": "stdout",
          "text": [
            "1.5\n"
          ]
        }
      ]
    },
    {
      "cell_type": "code",
      "metadata": {
        "colab": {
          "base_uri": "https://localhost:8080/"
        },
        "id": "hPW4vppUvER6",
        "outputId": "28fb0946-7f70-46b5-8404-c1c297362e47"
      },
      "source": [
        "# (*) Multiplication\n",
        "\n",
        "print(4*2)"
      ],
      "execution_count": null,
      "outputs": [
        {
          "output_type": "stream",
          "name": "stdout",
          "text": [
            "8\n"
          ]
        }
      ]
    },
    {
      "cell_type": "code",
      "metadata": {
        "colab": {
          "base_uri": "https://localhost:8080/"
        },
        "id": "yCustqL5vEU0",
        "outputId": "0d3d4805-d182-4054-f5e2-9caaf88bab05"
      },
      "source": [
        "# (%) Modulus (Remainder) - This will divide the two numbers and return the remainder\n",
        "\n",
        "print(10 % 3)"
      ],
      "execution_count": 49,
      "outputs": [
        {
          "output_type": "stream",
          "name": "stdout",
          "text": [
            "1\n"
          ]
        }
      ]
    },
    {
      "cell_type": "code",
      "metadata": {
        "colab": {
          "base_uri": "https://localhost:8080/"
        },
        "id": "ny02rNL1vEXb",
        "outputId": "9148bf3e-e2f0-46ef-f0ea-ad033d06bfad"
      },
      "source": [
        "# (**) Exponent - Two multiplication operators make an exponent operator\n",
        "\n",
        "print(5**2)"
      ],
      "execution_count": 2,
      "outputs": [
        {
          "output_type": "stream",
          "name": "stdout",
          "text": [
            "25\n"
          ]
        }
      ]
    },
    {
      "cell_type": "markdown",
      "metadata": {
        "id": "gGB4aDRFygkc"
      },
      "source": [
        "## Variables"
      ]
    },
    {
      "cell_type": "code",
      "metadata": {
        "colab": {
          "base_uri": "https://localhost:8080/",
          "height": 89
        },
        "id": "VMWDSNHuvEcs",
        "outputId": "80c686aa-fef7-4236-c733-53f18131c0ea"
      },
      "source": [
        "'''\n",
        "Can be any type (Float, string, int, etc.)\n",
        "\n",
        "The left side is the variable and the right side is the value we want to assign to the variable.\n",
        "\n",
        "Rules of variables \n",
        "1. Don't make variables keywords (ex. if, else, return, True, etc) You can look up list of python keywords for more examples.\n",
        "\n",
        "2. Your variable name must start with a letter from a-z, A-Z, or an underscore character. (NO numbers in the beginning of your variable name)\n",
        "\n",
        "3. Make variable names that make sense with what's being assigned to them (ex. BondPrice, CapRate) \n",
        "\n",
        "4. Variables are case sensitive (Apple is NOT the same as apple)\n",
        "\n",
        "5. A variable name CANNOT contain spaces \n",
        "'''"
      ],
      "execution_count": 56,
      "outputs": [
        {
          "output_type": "execute_result",
          "data": {
            "application/vnd.google.colaboratory.intrinsic+json": {
              "type": "string"
            },
            "text/plain": [
              "\"\\nCan be any type (Float, string, int, etc.)\\n\\nThe left side is the variable and the right side is the value we want to assign to the variable.\\n\\nRules of variables \\n1. Don't make variables keywords (ex. if, else, return, True, etc) You can look up list of python keywords for more examples.\\n\\n2. Your variable name must start with a letter from a-z, A-Z, or an underscore character. (NO numbers in the beginning of your variable name)\\n\\n3. Make variable names that make sense with what's being assigned to them (ex. BondPrice, CapRate) \\n\\n4. Variables are case sensitive (Apple is NOT the same as apple)\\n\\n5. A variable name CANNOT contain spaces \\n\""
            ]
          },
          "metadata": {},
          "execution_count": 56
        }
      ]
    },
    {
      "cell_type": "code",
      "metadata": {
        "colab": {
          "base_uri": "https://localhost:8080/"
        },
        "id": "ANPgcFxWvEfm",
        "outputId": "cd6f8845-9d45-45f7-d6b3-24520ee2e188"
      },
      "source": [
        "#Examples of variables\n",
        "\n",
        "ex = \"word\"\n",
        "print(ex)\n",
        "print(type(ex))"
      ],
      "execution_count": 57,
      "outputs": [
        {
          "output_type": "stream",
          "name": "stdout",
          "text": [
            "word\n",
            "<class 'str'>\n"
          ]
        }
      ]
    },
    {
      "cell_type": "code",
      "metadata": {
        "colab": {
          "base_uri": "https://localhost:8080/"
        },
        "id": "uN7fUip2vEip",
        "outputId": "8a10191d-1d84-4820-c62e-561a14676694"
      },
      "source": [
        "ex2 = 4.0\n",
        "print(ex2)\n",
        "print(type(ex2))"
      ],
      "execution_count": null,
      "outputs": [
        {
          "output_type": "stream",
          "name": "stdout",
          "text": [
            "4.0\n",
            "<class 'float'>\n"
          ]
        }
      ]
    },
    {
      "cell_type": "code",
      "metadata": {
        "colab": {
          "base_uri": "https://localhost:8080/"
        },
        "id": "NsBYQTM5vElS",
        "outputId": "2567a9b3-742b-499d-d160-d0ade0bcef3a"
      },
      "source": [
        "width = 10\n",
        "length = 5 \n",
        "area = width * length\n",
        "\n",
        "print(area)\n",
        "print(type(area))"
      ],
      "execution_count": null,
      "outputs": [
        {
          "output_type": "stream",
          "name": "stdout",
          "text": [
            "50\n",
            "<class 'int'>\n"
          ]
        }
      ]
    },
    {
      "cell_type": "code",
      "metadata": {
        "colab": {
          "base_uri": "https://localhost:8080/"
        },
        "id": "ycLgzl_2vEoG",
        "outputId": "be7f8b3f-b534-4958-ecfc-600ebc6431b5"
      },
      "source": [
        "#You can also redefine variables \n",
        "\n",
        "var1 = 3.0\n",
        "print(var1)"
      ],
      "execution_count": null,
      "outputs": [
        {
          "output_type": "stream",
          "name": "stdout",
          "text": [
            "3.0\n"
          ]
        }
      ]
    },
    {
      "cell_type": "code",
      "metadata": {
        "colab": {
          "base_uri": "https://localhost:8080/"
        },
        "id": "F4404Ivfzc5r",
        "outputId": "47c8f18d-6f68-4f8e-fcff-853dd78d3116"
      },
      "source": [
        "var1 = 3.5\n",
        "print(var1)"
      ],
      "execution_count": 3,
      "outputs": [
        {
          "output_type": "stream",
          "name": "stdout",
          "text": [
            "3.5\n"
          ]
        }
      ]
    },
    {
      "cell_type": "code",
      "metadata": {
        "colab": {
          "base_uri": "https://localhost:8080/"
        },
        "id": "or3MXBFFzc8d",
        "outputId": "128d374e-d3a6-43f9-c4c7-dcc6e024abfb"
      },
      "source": [
        "#We can reassign variables to another data type. This can be done with casting \n",
        "#5 is an integer, but lets turn it into a float\n",
        "\n",
        "ex3 = 5\n",
        "print(type(ex3))\n",
        "print(ex3)"
      ],
      "execution_count": 50,
      "outputs": [
        {
          "output_type": "stream",
          "name": "stdout",
          "text": [
            "<class 'int'>\n",
            "5\n"
          ]
        }
      ]
    },
    {
      "cell_type": "code",
      "metadata": {
        "colab": {
          "base_uri": "https://localhost:8080/"
        },
        "id": "Q3CHX_Vyzc-8",
        "outputId": "a9bdf248-5518-48db-9cd1-93bfc96376a5"
      },
      "source": [
        "ex4 = float(ex3)\n",
        "print(type(ex4))\n",
        "print(ex4)"
      ],
      "execution_count": 51,
      "outputs": [
        {
          "output_type": "stream",
          "name": "stdout",
          "text": [
            "<class 'float'>\n",
            "5.0\n"
          ]
        }
      ]
    },
    {
      "cell_type": "code",
      "metadata": {
        "colab": {
          "base_uri": "https://localhost:8080/"
        },
        "id": "X_67pmIUzdBh",
        "outputId": "19a844b4-c1a6-485d-dd68-763bb03155c5"
      },
      "source": [
        "#Another example\n",
        "num = 55\n",
        "print(type(num))\n",
        "print(num)"
      ],
      "execution_count": 52,
      "outputs": [
        {
          "output_type": "stream",
          "name": "stdout",
          "text": [
            "<class 'int'>\n",
            "55\n"
          ]
        }
      ]
    },
    {
      "cell_type": "code",
      "metadata": {
        "colab": {
          "base_uri": "https://localhost:8080/"
        },
        "id": "JiHOmCSuzdEJ",
        "outputId": "20242504-ebf1-4559-805e-275b1aa27e55"
      },
      "source": [
        "num2 = str(num)\n",
        "print(type(num2))\n",
        "print(num2)"
      ],
      "execution_count": 58,
      "outputs": [
        {
          "output_type": "stream",
          "name": "stdout",
          "text": [
            "<class 'str'>\n",
            "55\n"
          ]
        }
      ]
    },
    {
      "cell_type": "code",
      "metadata": {
        "colab": {
          "base_uri": "https://localhost:8080/"
        },
        "id": "WEn0iu2ezdG5",
        "outputId": "9fdb0e89-78a7-401f-93ba-cbdf5a9ddfbe"
      },
      "source": [
        "#You can also do this without variables\n",
        "\n",
        "print(type(4))\n",
        "print(type(str(4)))"
      ],
      "execution_count": 54,
      "outputs": [
        {
          "output_type": "stream",
          "name": "stdout",
          "text": [
            "<class 'int'>\n",
            "<class 'str'>\n"
          ]
        }
      ]
    },
    {
      "cell_type": "code",
      "metadata": {
        "colab": {
          "base_uri": "https://localhost:8080/"
        },
        "id": "y_CmG2pkzdJl",
        "outputId": "7102c497-088b-4f5f-f9ae-b9745ccdddfd"
      },
      "source": [
        "print(type(10.45))\n",
        "print(type(int(10.45)))"
      ],
      "execution_count": 55,
      "outputs": [
        {
          "output_type": "stream",
          "name": "stdout",
          "text": [
            "<class 'float'>\n",
            "<class 'int'>\n"
          ]
        }
      ]
    },
    {
      "cell_type": "code",
      "metadata": {
        "colab": {
          "base_uri": "https://localhost:8080/"
        },
        "id": "D1MIuMHbhxHj",
        "outputId": "984cb2c3-b6d8-4787-bba3-0e3d93650f9e"
      },
      "source": [
        "print(bool(\"Hi\"))\n",
        "\n",
        "print(type(bool(\"Hi\")))\n",
        "\n",
        "print(bool(\"\"))"
      ],
      "execution_count": 93,
      "outputs": [
        {
          "output_type": "stream",
          "name": "stdout",
          "text": [
            "True\n",
            "<class 'bool'>\n",
            "False\n"
          ]
        }
      ]
    },
    {
      "cell_type": "code",
      "metadata": {
        "colab": {
          "base_uri": "https://localhost:8080/"
        },
        "id": "KfDJNMKsinib",
        "outputId": "2e3ef193-1c26-4488-89f7-a41eac6bdb00"
      },
      "source": [
        "print(bool(10.323234))\n",
        "\n",
        "print(type(bool(0)))\n",
        "\n",
        "print(bool(0))"
      ],
      "execution_count": 94,
      "outputs": [
        {
          "output_type": "stream",
          "name": "stdout",
          "text": [
            "True\n",
            "<class 'bool'>\n",
            "False\n"
          ]
        }
      ]
    },
    {
      "cell_type": "code",
      "metadata": {
        "colab": {
          "base_uri": "https://localhost:8080/"
        },
        "id": "VWnUZWe1hoPy",
        "outputId": "f3e9d279-eabe-4669-d1af-a849ea425144"
      },
      "source": [
        "print(type(True))\n",
        "\n",
        "print(str(True))\n",
        "\n",
        "print(type(str(True)))"
      ],
      "execution_count": 72,
      "outputs": [
        {
          "output_type": "stream",
          "name": "stdout",
          "text": [
            "<class 'bool'>\n",
            "True\n",
            "<class 'str'>\n"
          ]
        }
      ]
    },
    {
      "cell_type": "code",
      "metadata": {
        "colab": {
          "base_uri": "https://localhost:8080/"
        },
        "id": "DaYq9vqIhFdk",
        "outputId": "0bb3ff04-f1e5-4d4c-fe80-b5d594e1dc72"
      },
      "source": [
        "print(type(True))\n",
        "\n",
        "print(float(True))\n",
        "\n",
        "print(type(float(True)))"
      ],
      "execution_count": 97,
      "outputs": [
        {
          "output_type": "stream",
          "name": "stdout",
          "text": [
            "<class 'bool'>\n",
            "1.0\n",
            "<class 'float'>\n"
          ]
        }
      ]
    },
    {
      "cell_type": "code",
      "metadata": {
        "colab": {
          "base_uri": "https://localhost:8080/"
        },
        "id": "U5hLkAr8hsur",
        "outputId": "06084803-700c-45ca-b6b1-02e541e1420c"
      },
      "source": [
        "print(type(False))\n",
        "\n",
        "print(int(False))\n",
        "\n",
        "print(type(int(False)))"
      ],
      "execution_count": 96,
      "outputs": [
        {
          "output_type": "stream",
          "name": "stdout",
          "text": [
            "<class 'bool'>\n",
            "0\n",
            "<class 'int'>\n"
          ]
        }
      ]
    },
    {
      "cell_type": "code",
      "metadata": {
        "colab": {
          "base_uri": "https://localhost:8080/",
          "height": 204
        },
        "id": "CbqJE71vzdMa",
        "outputId": "46d7eae6-710c-420f-ad3e-d6a82a5caa07"
      },
      "source": [
        "#It won't work for some things, like you can't change a string into an integer unless it's a number in the string\n",
        "\n",
        "print(type(int(\"David\")))"
      ],
      "execution_count": 102,
      "outputs": [
        {
          "output_type": "error",
          "ename": "ValueError",
          "evalue": "ignored",
          "traceback": [
            "\u001b[0;31m---------------------------------------------------------------------------\u001b[0m",
            "\u001b[0;31mValueError\u001b[0m                                Traceback (most recent call last)",
            "\u001b[0;32m<ipython-input-102-d06722094a31>\u001b[0m in \u001b[0;36m<module>\u001b[0;34m()\u001b[0m\n\u001b[1;32m      1\u001b[0m \u001b[0;31m#It won't work for some things, like you can't change a string into an integer unless it's a number in the string\u001b[0m\u001b[0;34m\u001b[0m\u001b[0;34m\u001b[0m\u001b[0;34m\u001b[0m\u001b[0m\n\u001b[1;32m      2\u001b[0m \u001b[0;34m\u001b[0m\u001b[0m\n\u001b[0;32m----> 3\u001b[0;31m \u001b[0mprint\u001b[0m\u001b[0;34m(\u001b[0m\u001b[0mtype\u001b[0m\u001b[0;34m(\u001b[0m\u001b[0mint\u001b[0m\u001b[0;34m(\u001b[0m\u001b[0;34m\"David\"\u001b[0m\u001b[0;34m)\u001b[0m\u001b[0;34m)\u001b[0m\u001b[0;34m)\u001b[0m\u001b[0;34m\u001b[0m\u001b[0;34m\u001b[0m\u001b[0m\n\u001b[0m",
            "\u001b[0;31mValueError\u001b[0m: invalid literal for int() with base 10: 'David'"
          ]
        }
      ]
    },
    {
      "cell_type": "code",
      "metadata": {
        "colab": {
          "base_uri": "https://localhost:8080/"
        },
        "id": "aIKughKXzdPO",
        "outputId": "870ae7df-240c-424b-d129-da3556eeb616"
      },
      "source": [
        "#This will work because there's a number in the string\n",
        "\n",
        "print(int(\"55\"))\n",
        "\n",
        "print(type(int(\"55\")))"
      ],
      "execution_count": 104,
      "outputs": [
        {
          "output_type": "stream",
          "name": "stdout",
          "text": [
            "55\n",
            "<class 'int'>\n"
          ]
        }
      ]
    },
    {
      "cell_type": "markdown",
      "metadata": {
        "id": "aFW-8pW_1gZ0"
      },
      "source": [
        "##Input function"
      ]
    },
    {
      "cell_type": "code",
      "metadata": {
        "colab": {
          "base_uri": "https://localhost:8080/",
          "height": 53
        },
        "id": "6nQwpKouzdSG",
        "outputId": "024e2c81-d4a7-4df5-91d9-16e73ed081a8"
      },
      "source": [
        "#Input functions allows a user to input information into our program. \n",
        "\n",
        "input(\"Enter your first and last name: \")"
      ],
      "execution_count": 6,
      "outputs": [
        {
          "name": "stdout",
          "output_type": "stream",
          "text": [
            "Enter your first and last name: David Mena\n"
          ]
        },
        {
          "output_type": "execute_result",
          "data": {
            "application/vnd.google.colaboratory.intrinsic+json": {
              "type": "string"
            },
            "text/plain": [
              "'David Mena'"
            ]
          },
          "metadata": {},
          "execution_count": 6
        }
      ]
    },
    {
      "cell_type": "code",
      "metadata": {
        "colab": {
          "base_uri": "https://localhost:8080/"
        },
        "id": "-9t4PA48zdU-",
        "outputId": "2ef49079-c6f3-4a17-86aa-5463d7f50ea9"
      },
      "source": [
        "#We'll be able take this information, assign it to a variable, and then do something with that variable.\n",
        "\n",
        "name = input(\"Enter your first and last name: \")\n",
        "print(\"Hey \" + name + \"!\")"
      ],
      "execution_count": 8,
      "outputs": [
        {
          "output_type": "stream",
          "name": "stdout",
          "text": [
            "Enter your first and last name: David Mena\n",
            "Hey David Mena!\n"
          ]
        }
      ]
    },
    {
      "cell_type": "code",
      "metadata": {
        "colab": {
          "base_uri": "https://localhost:8080/",
          "height": 204
        },
        "id": "l4SDlsDHzdXp",
        "outputId": "85e2cf8b-76d9-4ddc-82de-29c8122cd2d8"
      },
      "source": [
        "'''The print statement above uses concatenation to combine the elements. \n",
        "NOTE: You can only concatenate a string with another string. \n",
        "For example, if I want to combine a variable that holds an integer with a string, it will give me an error. '''\n",
        "\n",
        "print(\"David is \" + 21)"
      ],
      "execution_count": 10,
      "outputs": [
        {
          "output_type": "error",
          "ename": "TypeError",
          "evalue": "ignored",
          "traceback": [
            "\u001b[0;31m---------------------------------------------------------------------------\u001b[0m",
            "\u001b[0;31mTypeError\u001b[0m                                 Traceback (most recent call last)",
            "\u001b[0;32m<ipython-input-10-ffbe97e2c8b6>\u001b[0m in \u001b[0;36m<module>\u001b[0;34m()\u001b[0m\n\u001b[1;32m      5\u001b[0m For example, if I want to combine a variable that holds an integer with a string, it will give me an error. '''\n\u001b[1;32m      6\u001b[0m \u001b[0;34m\u001b[0m\u001b[0m\n\u001b[0;32m----> 7\u001b[0;31m \u001b[0mprint\u001b[0m\u001b[0;34m(\u001b[0m\u001b[0;34m\"David is \"\u001b[0m \u001b[0;34m+\u001b[0m \u001b[0;36m21\u001b[0m\u001b[0;34m)\u001b[0m\u001b[0;34m\u001b[0m\u001b[0;34m\u001b[0m\u001b[0m\n\u001b[0m",
            "\u001b[0;31mTypeError\u001b[0m: can only concatenate str (not \"int\") to str"
          ]
        }
      ]
    },
    {
      "cell_type": "code",
      "metadata": {
        "colab": {
          "base_uri": "https://localhost:8080/"
        },
        "id": "eaqMv2n3zdam",
        "outputId": "08c88add-4244-4430-d09a-efdf881fcf1f"
      },
      "source": [
        "#You can get around this by turning the element into a string. \n",
        "\n",
        "print(\"David is \" + str(21))"
      ],
      "execution_count": 11,
      "outputs": [
        {
          "output_type": "stream",
          "name": "stdout",
          "text": [
            "David is 21\n"
          ]
        }
      ]
    },
    {
      "cell_type": "code",
      "metadata": {
        "colab": {
          "base_uri": "https://localhost:8080/"
        },
        "id": "rBO05eoIzddf",
        "outputId": "409360e7-c74f-4534-9e27-4d941965e201"
      },
      "source": [
        "#You can also combine variables with a comma. For example:\n",
        "\n",
        "x = 25\n",
        "a = \"David\" \n",
        "print(a, \"is\", x)"
      ],
      "execution_count": 13,
      "outputs": [
        {
          "output_type": "stream",
          "name": "stdout",
          "text": [
            "David is 25\n"
          ]
        }
      ]
    },
    {
      "cell_type": "code",
      "metadata": {
        "colab": {
          "base_uri": "https://localhost:8080/"
        },
        "id": "LYQ2dpi6zdgZ",
        "outputId": "c9529056-7217-4397-8623-f66c0cc71054"
      },
      "source": [
        "#if you did this with concatenation, you'd have to turn x into a string, for example:\n",
        "\n",
        "print(a + \" is \" + str(x))"
      ],
      "execution_count": 14,
      "outputs": [
        {
          "output_type": "stream",
          "name": "stdout",
          "text": [
            "David is 25\n"
          ]
        }
      ]
    },
    {
      "cell_type": "markdown",
      "metadata": {
        "id": "N5LOSEFI2Yjw"
      },
      "source": [
        "## Lists\n"
      ]
    },
    {
      "cell_type": "code",
      "metadata": {
        "id": "ngTNembVzdjn"
      },
      "source": [
        "'''We make a list the same way we make variables. \n",
        "When we make a list, we use open and close square brackets []. Python will know you're making a list when it sees this. \n",
        "For example: '''\n",
        "\n",
        "coworkers = [\"Jim\", \"Dwight\", \"Michael\", \"Pam\", \"Kevin\"]"
      ],
      "execution_count": 2,
      "outputs": []
    },
    {
      "cell_type": "code",
      "metadata": {
        "id": "T4dC1ZCBzdmW"
      },
      "source": [
        "#You can put any data type into a list (strings, integers, booleans, etc).\n",
        "#We can make this list below and python will accept it.\n",
        "\n",
        "whatever = [\"David\", 1234, False]"
      ],
      "execution_count": 3,
      "outputs": []
    },
    {
      "cell_type": "code",
      "metadata": {
        "colab": {
          "base_uri": "https://localhost:8080/"
        },
        "id": "LjvD5yIKzdpU",
        "outputId": "35d8ed85-b3f1-47bb-bc76-9b02aa09626c"
      },
      "source": [
        "#Let's go back to the original list we made and work on it. print(coworkers) will print the list.\n",
        "\n",
        "print(coworkers) "
      ],
      "execution_count": 4,
      "outputs": [
        {
          "output_type": "stream",
          "name": "stdout",
          "text": [
            "['Jim', 'Dwight', 'Michael', 'Pam', 'Kevin']\n"
          ]
        }
      ]
    },
    {
      "cell_type": "code",
      "metadata": {
        "colab": {
          "base_uri": "https://localhost:8080/"
        },
        "id": "V356Vn6kzdsQ",
        "outputId": "5e4dec2d-424b-4b69-98f3-f22ec757b7a5"
      },
      "source": [
        "'''We can access specific elements through indexing.\n",
        "Each element in the list has a specific index and they start from 0. \n",
        "Lets say we want to get Jim from the list.'''\n",
        "\n",
        "print(coworkers[0])"
      ],
      "execution_count": 6,
      "outputs": [
        {
          "output_type": "stream",
          "name": "stdout",
          "text": [
            "Jim\n"
          ]
        }
      ]
    },
    {
      "cell_type": "code",
      "metadata": {
        "colab": {
          "base_uri": "https://localhost:8080/"
        },
        "id": "6p4m7Kj0zdvN",
        "outputId": "a32f8647-8476-4911-ecce-2bdf42c61661"
      },
      "source": [
        "#The code below will give us Michael\n",
        "\n",
        "print(coworkers[2]) "
      ],
      "execution_count": 7,
      "outputs": [
        {
          "output_type": "stream",
          "name": "stdout",
          "text": [
            "Michael\n"
          ]
        }
      ]
    },
    {
      "cell_type": "code",
      "metadata": {
        "colab": {
          "base_uri": "https://localhost:8080/"
        },
        "id": "xs6fKPcuzdxu",
        "outputId": "297e9bf0-1090-449c-fe64-de3e7249574a"
      },
      "source": [
        "'''You can also access elements backwards through negative indexing.\n",
        "When we perform negative indexing, we start from -1, not 0.'''\n",
        "\n",
        "print(coworkers[-1])"
      ],
      "execution_count": 21,
      "outputs": [
        {
          "output_type": "stream",
          "name": "stdout",
          "text": [
            "Kevin\n"
          ]
        }
      ]
    },
    {
      "cell_type": "code",
      "metadata": {
        "colab": {
          "base_uri": "https://localhost:8080/"
        },
        "id": "KlTw75Tu4KgR",
        "outputId": "d2144b18-ca93-4fb7-eaea-81ff3ce5e4e4"
      },
      "source": [
        "#if you want Pam you can do \n",
        "\n",
        "print(coworkers[-2])"
      ],
      "execution_count": 22,
      "outputs": [
        {
          "output_type": "stream",
          "name": "stdout",
          "text": [
            "Pam\n"
          ]
        }
      ]
    },
    {
      "cell_type": "code",
      "metadata": {
        "colab": {
          "base_uri": "https://localhost:8080/"
        },
        "id": "HK8dJOauwnlB",
        "outputId": "aa84d530-a258-405b-ee04-d7437cdf12cc"
      },
      "source": [
        "#for reference\n",
        "print(coworkers)"
      ],
      "execution_count": 23,
      "outputs": [
        {
          "output_type": "stream",
          "name": "stdout",
          "text": [
            "['Jim', 'Dwight', 'Michael', 'Pam', 'Kevin']\n"
          ]
        }
      ]
    },
    {
      "cell_type": "code",
      "metadata": {
        "colab": {
          "base_uri": "https://localhost:8080/"
        },
        "id": "TCwnHuN34LKP",
        "outputId": "dbd91729-6fd6-48f8-8a72-f21921a29447"
      },
      "source": [
        "'''Another way we can access elements is through slicing. We can achieve this by using a colon (:). \n",
        "There is a special case we MUST make note of when slicing lists, the index number we put after the colon.  \n",
        "When slicing, python will grab all the elements up to but NOT including the index after the colon.\n",
        "For example: '''\n",
        "\n",
        "print(coworkers[1:4])\n",
        "\n",
        "#The statement above grabbed index 1, 2, and 3, but not 4. "
      ],
      "execution_count": 8,
      "outputs": [
        {
          "output_type": "stream",
          "name": "stdout",
          "text": [
            "['Dwight', 'Michael', 'Pam']\n"
          ]
        }
      ]
    },
    {
      "cell_type": "code",
      "metadata": {
        "colab": {
          "base_uri": "https://localhost:8080/"
        },
        "id": "9-53pBjn4LEq",
        "outputId": "fac14f8c-886b-4491-f98e-a0f69ad52044"
      },
      "source": [
        "#Leaving the number blank before or after the colon means it will get everything. For example:\n",
        "\n",
        "print(coworkers[:])"
      ],
      "execution_count": 10,
      "outputs": [
        {
          "output_type": "stream",
          "name": "stdout",
          "text": [
            "['Jim', 'Dwight', 'Michael', 'Pam', 'Kevin']\n"
          ]
        }
      ]
    },
    {
      "cell_type": "code",
      "metadata": {
        "colab": {
          "base_uri": "https://localhost:8080/"
        },
        "id": "wxHnl7UA4LBu",
        "outputId": "8832b117-c316-4312-925e-7aa7b2de05e5"
      },
      "source": [
        "#Lets say I want to get the last 2 elements of the list, we can do \n",
        "#This will get the third element of the list and all of the elements after. \n",
        "\n",
        "print(coworkers[3:])"
      ],
      "execution_count": 14,
      "outputs": [
        {
          "output_type": "stream",
          "name": "stdout",
          "text": [
            "['Pam', 'Kevin']\n"
          ]
        }
      ]
    },
    {
      "cell_type": "code",
      "metadata": {
        "colab": {
          "base_uri": "https://localhost:8080/"
        },
        "id": "xE-iapxV4LHg",
        "outputId": "b024343a-34b4-4242-8871-e339ffdc7e90"
      },
      "source": [
        "print(coworkers[:3])"
      ],
      "execution_count": null,
      "outputs": [
        {
          "output_type": "stream",
          "name": "stdout",
          "text": [
            "['Jim', 'Dwight', 'Michael']\n"
          ]
        }
      ]
    },
    {
      "cell_type": "code",
      "metadata": {
        "colab": {
          "base_uri": "https://localhost:8080/"
        },
        "id": "vPW46FRi4LQC",
        "outputId": "f18fa642-7e84-46ce-d1e6-6c3f9756017a"
      },
      "source": [
        "#We can also modify elements in a list. All we'll have to do is access the element and set it equal to whatever you want.\n",
        "#This works because lists are mutable, which means we can change them.\n",
        "\n",
        "coworkers[1] = \"Oscar\" \n",
        "print(coworkers)\n",
        "\n",
        "#Now Dwight was replaced with Oscar in the list."
      ],
      "execution_count": null,
      "outputs": [
        {
          "output_type": "stream",
          "name": "stdout",
          "text": [
            "['Jim', 'Oscar', 'Michael', 'Pam', 'Kevin']\n"
          ]
        }
      ]
    },
    {
      "cell_type": "markdown",
      "metadata": {
        "id": "nw_5W0dn56yU"
      },
      "source": [
        "##List functions"
      ]
    },
    {
      "cell_type": "code",
      "metadata": {
        "id": "cRMwAqOA4LV3"
      },
      "source": [
        "#There are functions already in python that let us do certain things to our lists.\n",
        "#Let's bring back our coworkers list and make a list of numbers.\n",
        "\n",
        "numbers = [10, 3, 100, 46, 58, 23]\n",
        "coworkers = [\"Jim\", \"Dwight\", \"Michael\", \"Pam\", \"Kevin\"]"
      ],
      "execution_count": 22,
      "outputs": []
    },
    {
      "cell_type": "code",
      "metadata": {
        "colab": {
          "base_uri": "https://localhost:8080/"
        },
        "id": "_NneKbNG4LYy",
        "outputId": "e348e2fd-d114-45aa-8e11-1ed9baa2c305"
      },
      "source": [
        "#One is called the .extend() function which lets you extend a list with another list.\n",
        "\n",
        "coworkers.extend(numbers)\n",
        "print(coworkers)"
      ],
      "execution_count": 23,
      "outputs": [
        {
          "output_type": "stream",
          "name": "stdout",
          "text": [
            "['Jim', 'Dwight', 'Michael', 'Pam', 'Kevin', 10, 3, 100, 46, 58, 23]\n"
          ]
        }
      ]
    },
    {
      "cell_type": "code",
      "metadata": {
        "id": "CEJrYTRi4Lbm"
      },
      "source": [
        "#Another function is .append() which lets you add an individual element to the end of a list.\n",
        "#We'll run the original coworkers list to get rid of the numbers from the extend function.\n",
        "\n",
        "coworkers = [\"Jim\", \"Dwight\", \"Michael\", \"Pam\", \"Kevin\"]"
      ],
      "execution_count": 48,
      "outputs": []
    },
    {
      "cell_type": "code",
      "metadata": {
        "colab": {
          "base_uri": "https://localhost:8080/"
        },
        "id": "HB_GGlf84Leq",
        "outputId": "49bd2aa1-5be1-43a0-d7fe-598d322bdac0"
      },
      "source": [
        "#Now lets append it with another coworker\n",
        "coworkers.append(\"Andy\")\n",
        "print(coworkers)"
      ],
      "execution_count": 49,
      "outputs": [
        {
          "output_type": "stream",
          "name": "stdout",
          "text": [
            "['Jim', 'Dwight', 'Michael', 'Pam', 'Kevin', 'Andy']\n"
          ]
        }
      ]
    },
    {
      "cell_type": "code",
      "metadata": {
        "colab": {
          "base_uri": "https://localhost:8080/"
        },
        "id": "n4Ags1qa4LhY",
        "outputId": "d1ecc0b4-28a3-4da8-ed38-e30aad8b58af"
      },
      "source": [
        "#.insert() takes 2 arguments (index, element) and replaces the element at the index position with the element of your choice.\n",
        "#It doesn't replace the element at the original index, it moves the original element over to a new index position.\n",
        "\n",
        "coworkers.insert(3, \"Kelly\")\n",
        "print(coworkers)"
      ],
      "execution_count": 50,
      "outputs": [
        {
          "output_type": "stream",
          "name": "stdout",
          "text": [
            "['Jim', 'Dwight', 'Michael', 'Kelly', 'Pam', 'Kevin', 'Andy']\n"
          ]
        }
      ]
    },
    {
      "cell_type": "code",
      "metadata": {
        "colab": {
          "base_uri": "https://localhost:8080/"
        },
        "id": "bqJ4S5Li4LkP",
        "outputId": "70a6f7a8-a347-4032-b1dc-ed9f9c106b68"
      },
      "source": [
        "#.remove() removes the element of your choice. The element you want to remove is the argument.\n",
        "\n",
        "coworkers.remove(\"Kevin\")\n",
        "print(coworkers)"
      ],
      "execution_count": 51,
      "outputs": [
        {
          "output_type": "stream",
          "name": "stdout",
          "text": [
            "['Jim', 'Dwight', 'Michael', 'Kelly', 'Pam', 'Andy']\n"
          ]
        }
      ]
    },
    {
      "cell_type": "code",
      "metadata": {
        "colab": {
          "base_uri": "https://localhost:8080/"
        },
        "id": "jp66ze0T4LnW",
        "outputId": "b239172c-157c-4e77-82c4-28b518ba37e0"
      },
      "source": [
        "#.pop() removes the last element in the list. It can take no arguments or take an index position argument and will remove the element at the index position.\n",
        "\n",
        "coworkers.pop()\n",
        "print(coworkers)\n",
        "\n",
        "coworkers.pop(0)\n",
        "print(coworkers)"
      ],
      "execution_count": 53,
      "outputs": [
        {
          "output_type": "stream",
          "name": "stdout",
          "text": [
            "['Jim', 'Dwight', 'Michael', 'Kelly']\n",
            "['Dwight', 'Michael', 'Kelly']\n"
          ]
        }
      ]
    },
    {
      "cell_type": "code",
      "metadata": {
        "id": "nXBqtmVQ0WPJ"
      },
      "source": [
        "#we'll run the original coworkers list again to get our elements back\n",
        "\n",
        "coworkers = [\"Jim\", \"Dwight\", \"Michael\", \"Pam\", \"Kevin\"]"
      ],
      "execution_count": 56,
      "outputs": []
    },
    {
      "cell_type": "code",
      "metadata": {
        "colab": {
          "base_uri": "https://localhost:8080/"
        },
        "id": "RFW27uHE4LqS",
        "outputId": "7b381851-65de-4463-e7e5-1828b84e5612"
      },
      "source": [
        "#.index() tells you the index of the element you’re trying to find in the list. Accepts the element as the argument.\n",
        "\n",
        "coworkers.index(\"Dwight\")"
      ],
      "execution_count": 57,
      "outputs": [
        {
          "output_type": "execute_result",
          "data": {
            "text/plain": [
              "1"
            ]
          },
          "metadata": {},
          "execution_count": 57
        }
      ]
    },
    {
      "cell_type": "code",
      "metadata": {
        "colab": {
          "base_uri": "https://localhost:8080/"
        },
        "id": "BxZXiFCg4LtR",
        "outputId": "b6dda7ef-a5e4-4562-e59b-4a3312aff057"
      },
      "source": [
        "'''.copy() will copy the list you choose to put before the dot.\n",
        "Lets make a variable called coworkers2.\n",
        "When we use .copy(), coworkers2 will have all the same attributes as coworkers since it's a copy.'''\n",
        "\n",
        "coworkers2 = coworkers.copy()\n",
        "print(coworkers2)"
      ],
      "execution_count": 58,
      "outputs": [
        {
          "output_type": "stream",
          "name": "stdout",
          "text": [
            "['Jim', 'Dwight', 'Michael', 'Pam', 'Kevin']\n"
          ]
        }
      ]
    },
    {
      "cell_type": "code",
      "metadata": {
        "colab": {
          "base_uri": "https://localhost:8080/"
        },
        "id": "SJeBL35F4LwH",
        "outputId": "6f0f7f3b-34d7-4666-f46e-f3f9e04a9261"
      },
      "source": [
        "#Let's use the numbers list we made along with the coworkers list for these remaining functions.\n",
        "\n",
        "#.sort() will sort a list in ascending or alphabetical order. For example:\n",
        "\n",
        "print(coworkers)\n",
        "coworkers.sort()\n",
        "print(coworkers)"
      ],
      "execution_count": 59,
      "outputs": [
        {
          "output_type": "stream",
          "name": "stdout",
          "text": [
            "['Jim', 'Dwight', 'Michael', 'Pam', 'Kevin']\n",
            "['Dwight', 'Jim', 'Kevin', 'Michael', 'Pam']\n"
          ]
        }
      ]
    },
    {
      "cell_type": "code",
      "metadata": {
        "colab": {
          "base_uri": "https://localhost:8080/"
        },
        "id": "kEebQkAC4LzP",
        "outputId": "b3db7cd3-941d-4fe0-ac94-44d5f964324e"
      },
      "source": [
        "#Another example\n",
        "\n",
        "print(numbers)\n",
        "numbers.sort()\n",
        "print(numbers)"
      ],
      "execution_count": 60,
      "outputs": [
        {
          "output_type": "stream",
          "name": "stdout",
          "text": [
            "[10, 3, 100, 46, 58, 23]\n",
            "[3, 10, 23, 46, 58, 100]\n"
          ]
        }
      ]
    },
    {
      "cell_type": "code",
      "metadata": {
        "colab": {
          "base_uri": "https://localhost:8080/"
        },
        "id": "P9UPOSeu4L2e",
        "outputId": "1dbe6056-5501-4f71-84b5-9b95276168c8"
      },
      "source": [
        "#.reverse() will reverse the order of the list. For example:\n",
        "\n",
        "print(coworkers)\n",
        "coworkers.reverse()\n",
        "print(coworkers)"
      ],
      "execution_count": 61,
      "outputs": [
        {
          "output_type": "stream",
          "name": "stdout",
          "text": [
            "['Dwight', 'Jim', 'Kevin', 'Michael', 'Pam']\n",
            "['Pam', 'Michael', 'Kevin', 'Jim', 'Dwight']\n"
          ]
        }
      ]
    },
    {
      "cell_type": "code",
      "metadata": {
        "colab": {
          "base_uri": "https://localhost:8080/"
        },
        "id": "3Qeao5RL4L5G",
        "outputId": "7c82b334-4cae-46d5-d0cb-67e1fc960802"
      },
      "source": [
        "#Another example\n",
        "\n",
        "print(numbers)\n",
        "numbers.reverse()\n",
        "print(numbers)"
      ],
      "execution_count": 62,
      "outputs": [
        {
          "output_type": "stream",
          "name": "stdout",
          "text": [
            "[3, 10, 23, 46, 58, 100]\n",
            "[100, 58, 46, 23, 10, 3]\n"
          ]
        }
      ]
    },
    {
      "cell_type": "code",
      "metadata": {
        "colab": {
          "base_uri": "https://localhost:8080/"
        },
        "id": "2OKqfdK-4L8C",
        "outputId": "67d7651c-ee6c-49af-9d17-251610830c94"
      },
      "source": [
        "#.clear() removes everything from the list\n",
        "\n",
        "print(coworkers)\n",
        "coworkers.clear()\n",
        "print(coworkers)"
      ],
      "execution_count": 63,
      "outputs": [
        {
          "output_type": "stream",
          "name": "stdout",
          "text": [
            "['Pam', 'Michael', 'Kevin', 'Jim', 'Dwight']\n",
            "[]\n"
          ]
        }
      ]
    },
    {
      "cell_type": "code",
      "metadata": {
        "colab": {
          "base_uri": "https://localhost:8080/"
        },
        "id": "Q5m3YbUM4L_B",
        "outputId": "4a6d1fb1-4ad7-40ba-e997-1257dcae4ae1"
      },
      "source": [
        "#Another example\n",
        "\n",
        "print(numbers)\n",
        "numbers.clear()\n",
        "print(numbers)"
      ],
      "execution_count": 64,
      "outputs": [
        {
          "output_type": "stream",
          "name": "stdout",
          "text": [
            "[100, 58, 46, 23, 10, 3]\n",
            "[]\n"
          ]
        }
      ]
    },
    {
      "cell_type": "markdown",
      "metadata": {
        "id": "hmpZTRME5drA"
      },
      "source": [
        "##NumPy (Numerical Python) - If time permits"
      ]
    },
    {
      "cell_type": "code",
      "metadata": {
        "id": "Kw_KomGV5ct-"
      },
      "source": [
        "import numpy as np "
      ],
      "execution_count": 66,
      "outputs": []
    },
    {
      "cell_type": "code",
      "metadata": {
        "colab": {
          "base_uri": "https://localhost:8080/"
        },
        "id": "GuTCbDaj4ysO",
        "outputId": "007c3f76-2f30-4ffe-aa4b-3250f26e6065"
      },
      "source": [
        "#Making arrays is simple in Numpy, we just type np.array\n",
        "\n",
        "np.array([1, 2, 3, 4])"
      ],
      "execution_count": 67,
      "outputs": [
        {
          "output_type": "execute_result",
          "data": {
            "text/plain": [
              "array([1, 2, 3, 4])"
            ]
          },
          "metadata": {},
          "execution_count": 67
        }
      ]
    },
    {
      "cell_type": "code",
      "metadata": {
        "colab": {
          "base_uri": "https://localhost:8080/"
        },
        "id": "ARUHlf_GBa-F",
        "outputId": "c747fa22-f34d-49c1-a09b-979c2fc1b4bb"
      },
      "source": [
        "#We can set it to a variable\n",
        "\n",
        "a = np.array([1, 2, 3, 4])\n",
        "\n",
        "print(type(a))\n",
        "\n",
        "print(a)"
      ],
      "execution_count": 68,
      "outputs": [
        {
          "output_type": "stream",
          "name": "stdout",
          "text": [
            "<class 'numpy.ndarray'>\n",
            "[1 2 3 4]\n"
          ]
        }
      ]
    },
    {
      "cell_type": "code",
      "metadata": {
        "colab": {
          "base_uri": "https://localhost:8080/"
        },
        "id": "FZDY5zl6BbCv",
        "outputId": "7ae76d27-6557-4491-dacb-8003086761d8"
      },
      "source": [
        "#We can use indexing and slicing to get elements from it like a list \n",
        "\n",
        "print(a[0])\n",
        "\n",
        "print(a[-1])\n",
        "\n",
        "print(a[0], a[1], a[2], a[3])\n",
        "\n",
        "print(a[1:3])"
      ],
      "execution_count": 69,
      "outputs": [
        {
          "output_type": "stream",
          "name": "stdout",
          "text": [
            "1\n",
            "4\n",
            "1 2 3 4\n",
            "[2 3]\n"
          ]
        }
      ]
    },
    {
      "cell_type": "code",
      "metadata": {
        "colab": {
          "base_uri": "https://localhost:8080/"
        },
        "id": "c9EDOaQ4BbGZ",
        "outputId": "dd9bb359-cc38-4c1e-899e-f1a97d65693b"
      },
      "source": [
        "#can change elements in the array\n",
        "\n",
        "a[1] = 8\n",
        "print(a)"
      ],
      "execution_count": 70,
      "outputs": [
        {
          "output_type": "stream",
          "name": "stdout",
          "text": [
            "[1 8 3 4]\n"
          ]
        }
      ]
    },
    {
      "cell_type": "code",
      "metadata": {
        "colab": {
          "base_uri": "https://localhost:8080/"
        },
        "id": "WIzAd3wmBbJ5",
        "outputId": "6c6ccf3b-2b7b-4ec7-97a4-f2143545baca"
      },
      "source": [
        "#2 dimensional arrays\n",
        "\n",
        "b = np.array([\n",
        "    [1, 2, 3],\n",
        "    [4, 5, 6],\n",
        "])\n",
        "\n",
        "print(b)"
      ],
      "execution_count": 71,
      "outputs": [
        {
          "output_type": "stream",
          "name": "stdout",
          "text": [
            "[[1 2 3]\n",
            " [4 5 6]]\n"
          ]
        }
      ]
    },
    {
      "cell_type": "code",
      "metadata": {
        "colab": {
          "base_uri": "https://localhost:8080/"
        },
        "id": "pE1TCPqpBbNE",
        "outputId": "91ff542e-ce58-4f0d-d35c-6c250e73716c"
      },
      "source": [
        "#.shape shows you the number of rows and columns in an array, respectively\n",
        "\n",
        "b.shape"
      ],
      "execution_count": 72,
      "outputs": [
        {
          "output_type": "execute_result",
          "data": {
            "text/plain": [
              "(2, 3)"
            ]
          },
          "metadata": {},
          "execution_count": 72
        }
      ]
    },
    {
      "cell_type": "code",
      "metadata": {
        "id": "bUU6nC5IBbQG"
      },
      "source": [
        "# This is a multi dimensional array. We can go thorugh it with index and slicing\n",
        "\n",
        "c = np.array([\n",
        "#.   0. 1. 2\n",
        "    [1, 2, 3], # 0\n",
        "    [4, 5, 6], # 1\n",
        "    [7, 8, 9]  # 2\n",
        "])"
      ],
      "execution_count": 73,
      "outputs": []
    },
    {
      "cell_type": "code",
      "metadata": {
        "colab": {
          "base_uri": "https://localhost:8080/"
        },
        "id": "zH9E7oshBbS_",
        "outputId": "b47d4b22-00e8-42c8-aa57-835e5497e4c0"
      },
      "source": [
        "#The index goes by rows, then columns. \n",
        "\n",
        "print(c[1]) #will give the row at index 1"
      ],
      "execution_count": 74,
      "outputs": [
        {
          "output_type": "stream",
          "name": "stdout",
          "text": [
            "[4 5 6]\n"
          ]
        }
      ]
    },
    {
      "cell_type": "code",
      "metadata": {
        "colab": {
          "base_uri": "https://localhost:8080/"
        },
        "id": "Wv9FBd8nBbV6",
        "outputId": "ea7ddac3-9c4a-44d7-8fb1-48baabb5383b"
      },
      "source": [
        "print(c[1][0]) #will give us the element from row index 1, column index 0\n",
        "\n",
        "print(c[1, 0]) #Does the same thing as above. "
      ],
      "execution_count": 75,
      "outputs": [
        {
          "output_type": "stream",
          "name": "stdout",
          "text": [
            "4\n",
            "4\n"
          ]
        }
      ]
    },
    {
      "cell_type": "code",
      "metadata": {
        "colab": {
          "base_uri": "https://localhost:8080/"
        },
        "id": "8B_PpTTqBbY2",
        "outputId": "b4235fc7-fcc8-4db0-ca23-27d797311b3a"
      },
      "source": [
        "#Slicing lets us get the first 2 rows\n",
        "\n",
        "c[0:2]"
      ],
      "execution_count": 76,
      "outputs": [
        {
          "output_type": "execute_result",
          "data": {
            "text/plain": [
              "array([[1, 2, 3],\n",
              "       [4, 5, 6]])"
            ]
          },
          "metadata": {},
          "execution_count": 76
        }
      ]
    },
    {
      "cell_type": "code",
      "metadata": {
        "colab": {
          "base_uri": "https://localhost:8080/"
        },
        "id": "63y80rGeBbbu",
        "outputId": "85a690db-0755-4b8b-efa3-607ab8b2e114"
      },
      "source": [
        "#We can slice through both dimensions. \n",
        "\n",
        "c[:, :2]"
      ],
      "execution_count": 77,
      "outputs": [
        {
          "output_type": "execute_result",
          "data": {
            "text/plain": [
              "array([[1, 2],\n",
              "       [4, 5],\n",
              "       [7, 8]])"
            ]
          },
          "metadata": {},
          "execution_count": 77
        }
      ]
    },
    {
      "cell_type": "code",
      "metadata": {
        "colab": {
          "base_uri": "https://localhost:8080/"
        },
        "id": "8yvjSRNbBbeu",
        "outputId": "1da5c647-82b6-4f5f-9031-1520f8b0e1ed"
      },
      "source": [
        "#can see statistics of an array with numpy\n",
        "\n",
        "a = np.array([1, 2, 3, 4])\n",
        "print(a)\n",
        "\n",
        "print(a.sum())\n",
        "\n",
        "print(a.mean())\n",
        "\n",
        "print(a.std())"
      ],
      "execution_count": 78,
      "outputs": [
        {
          "output_type": "stream",
          "name": "stdout",
          "text": [
            "[1 2 3 4]\n",
            "10\n",
            "2.5\n",
            "1.118033988749895\n"
          ]
        }
      ]
    },
    {
      "cell_type": "code",
      "metadata": {
        "colab": {
          "base_uri": "https://localhost:8080/"
        },
        "id": "F2yDJf06Bbjt",
        "outputId": "38faec3b-8778-462f-d9be-34d91563fd6e"
      },
      "source": [
        "#we can also do it for multi dimensional arrays\n",
        "b = np.array([\n",
        "    [1, 2, 3],\n",
        "    [4, 5, 6],\n",
        "    [7, 8, 9]\n",
        "])\n",
        "\n",
        "print(b)\n",
        "\n",
        "print(b.sum())\n",
        "\n",
        "#Axis = 0 is referring to the columns and axis = 1 refers to the rows\n",
        "print(b.sum(axis = 0))\n",
        "print(b.sum(axis = 1))"
      ],
      "execution_count": 79,
      "outputs": [
        {
          "output_type": "stream",
          "name": "stdout",
          "text": [
            "[[1 2 3]\n",
            " [4 5 6]\n",
            " [7 8 9]]\n",
            "45\n",
            "[12 15 18]\n",
            "[ 6 15 24]\n"
          ]
        }
      ]
    },
    {
      "cell_type": "markdown",
      "metadata": {
        "id": "M4e9wAocnXY1"
      },
      "source": [
        "#Thank you for joining our Python Workshop #1\n",
        "##Please join our next one next Tuesday!!"
      ]
    }
  ]
}