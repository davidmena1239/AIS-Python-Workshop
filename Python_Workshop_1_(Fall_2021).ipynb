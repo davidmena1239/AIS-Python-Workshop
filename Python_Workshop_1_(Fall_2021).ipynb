{
  "nbformat": 4,
  "nbformat_minor": 0,
  "metadata": {
    "colab": {
      "name": "Python Workshop #1 (Fall 2021)",
      "provenance": []
    },
    "kernelspec": {
      "name": "python3",
      "display_name": "Python 3"
    },
    "language_info": {
      "name": "python"
    }
  },
  "cells": [
    {
      "cell_type": "markdown",
      "metadata": {
        "id": "IOdor1Wru4tU"
      },
      "source": [
        "#Lesson 1\n",
        "###1-1 Comments"
      ]
    },
    {
      "cell_type": "code",
      "metadata": {
        "colab": {
          "base_uri": "https://localhost:8080/",
          "height": 35
        },
        "id": "Y9_HXV_IqMzE",
        "outputId": "4d7da5b3-f26e-4b01-c04c-e2758e73f608"
      },
      "source": [
        "#Single Line Comments\n",
        "#To make a single-line comment, begin the line with a '#' key\n",
        "#Doing this will not affect the syntax of your code\n",
        "\n",
        "#Multi Line Comments or Doc Strings\n",
        "\n",
        "\"\"\" \"\"\" or ''' '''\n",
        "''' To make multi-line comments,\n",
        "use three quotation marks  \n",
        "at the start and the end of your notes '''\n",
        "\n",
        "'''These are useful to show users inputs and outputs of your code, or give assumptions, or inputs for functions. \n",
        "It's also useful if other people are working on your code and you want to explain certain lines of code. '''\n",
        "\n",
        "#1-1 Example- \n",
        "\n",
        "  #This is a single line comment\n",
        "\n",
        "'''This is \n",
        "    a multi \n",
        "    line comment'''\n",
        "\n",
        "#Comments will not affect any of the code"
      ],
      "execution_count": null,
      "outputs": [
        {
          "output_type": "execute_result",
          "data": {
            "application/vnd.google.colaboratory.intrinsic+json": {
              "type": "string"
            },
            "text/plain": [
              "'This is \\n    a multi \\n    line comment'"
            ]
          },
          "metadata": {},
          "execution_count": 43
        }
      ]
    },
    {
      "cell_type": "markdown",
      "metadata": {
        "id": "RzNVu2Nlu02P"
      },
      "source": [
        "##1-2 The print function and data types"
      ]
    },
    {
      "cell_type": "code",
      "metadata": {
        "colab": {
          "base_uri": "https://localhost:8080/"
        },
        "id": "PcNAS3RCqrCW",
        "outputId": "2328f848-f43f-43fe-faa5-2eeac4766324"
      },
      "source": [
        "'''In order to produce output in Python you must use the print() function. See the example below.'''\n",
        "print(\"Hello World\")"
      ],
      "execution_count": null,
      "outputs": [
        {
          "output_type": "stream",
          "name": "stdout",
          "text": [
            "Hello World\n"
          ]
        }
      ]
    },
    {
      "cell_type": "markdown",
      "metadata": {
        "id": "C3nsRebbunR8"
      },
      "source": [
        "## 1-2-1: Data Type 1- Strings ('str')"
      ]
    },
    {
      "cell_type": "code",
      "metadata": {
        "colab": {
          "base_uri": "https://localhost:8080/"
        },
        "id": "t-1GheE4t6iH",
        "outputId": "c097514d-3b17-404d-d0f8-2bd3811f0792"
      },
      "source": [
        "print(\"Hello World\")\n",
        "#Example 1 is outputing a 'string' or 'str' data.\n",
        "#Strings usually refer to letters or words.\n",
        "#Text data MUST be encapsulated with quotations \"\" or ''\n",
        "\n",
        "#We may check the 'type' of data using the type() function \n",
        "\n",
        "print(type(\"Hello World\"))\n",
        "\n",
        "#<class 'str'> is outputted as \"Hello World\" is a string variable\n",
        "\n",
        "#The following would also be considered strings\n",
        "\n",
        "print(type(\"I love AIS\"))\n",
        "print(type(\"Baruch student's are smart\")) #Note: Sometimes you want to use words with apostrophes, so use double quotes instead of a single quotes \n",
        "print(type(\"AIS is the best\"))"
      ],
      "execution_count": null,
      "outputs": [
        {
          "output_type": "stream",
          "name": "stdout",
          "text": [
            "Hello World\n",
            "<class 'str'>\n",
            "<class 'str'>\n",
            "<class 'str'>\n",
            "<class 'str'>\n"
          ]
        }
      ]
    },
    {
      "cell_type": "markdown",
      "metadata": {
        "id": "2KVemYL_vAZM"
      },
      "source": [
        "##1-2-2: Data Type 2- Integers ('int')"
      ]
    },
    {
      "cell_type": "code",
      "metadata": {
        "colab": {
          "base_uri": "https://localhost:8080/"
        },
        "id": "ZaXoOffOudJ6",
        "outputId": "52ebd828-11f1-4316-9130-46b945263c1b"
      },
      "source": [
        "#Integers refer to counting numbers (i.e 0,1,2...) and negative #numbers (i.e. -3, -2, -1, ) with NO decimals\n",
        "#They DO NOT need to encapsulated in parenthesees\n",
        "#Below is an example of a integer\n",
        "\n",
        "print(55)\n",
        "print(type(55))\n",
        "print(-55)\n",
        "print(type(-55))"
      ],
      "execution_count": null,
      "outputs": [
        {
          "output_type": "stream",
          "name": "stdout",
          "text": [
            "55\n",
            "<class 'int'>\n",
            "-55\n",
            "<class 'int'>\n"
          ]
        }
      ]
    },
    {
      "cell_type": "markdown",
      "metadata": {
        "id": "tchFQT2uvWky"
      },
      "source": [
        "##1-2-3: Data Type 3- Floats ('float')"
      ]
    },
    {
      "cell_type": "code",
      "metadata": {
        "colab": {
          "base_uri": "https://localhost:8080/"
        },
        "id": "tiCUxuWTvDaQ",
        "outputId": "54411794-d708-44b2-fa02-5944db7ca1c8"
      },
      "source": [
        "''' Floats refer to numbers (positve and negative) which contain decimals\n",
        "Like integers, they DO NOT need to encapsulated in parenthesees '''\n",
        "print(69.9)\n",
        "print(type(69.9))\n",
        "print(24.0)\n",
        "print(type(24.0))\n",
        "\n",
        "\n",
        "#Fractions are considered floats REGARDLESS of whether they have a remainder or not\n",
        "print(-69/9)\n",
        "print(type(-69/9))\n",
        "\n",
        "print(30/10)\n",
        "print(type(30/10))\n",
        "#Note that if you divide two integers the result will ALWAYS be a FLOAT!\n",
        "\n",
        "#Remember: any numbers encapsultated in parenthesees (\"\" or '') are STRINGS\n",
        "#For example:\n",
        "\n",
        "print(\"69.9\")\n",
        "print(type(\"69.9\"))"
      ],
      "execution_count": null,
      "outputs": [
        {
          "output_type": "stream",
          "name": "stdout",
          "text": [
            "69.9\n",
            "<class 'float'>\n",
            "24.0\n",
            "<class 'float'>\n",
            "-7.666666666666667\n",
            "<class 'float'>\n",
            "3.0\n",
            "<class 'float'>\n",
            "69.9\n",
            "<class 'str'>\n"
          ]
        }
      ]
    },
    {
      "cell_type": "markdown",
      "metadata": {
        "id": "UiGqnBYixQ6Q"
      },
      "source": [
        "##1-2-4: Data Type 4- Booleans ('bool')"
      ]
    },
    {
      "cell_type": "code",
      "metadata": {
        "colab": {
          "base_uri": "https://localhost:8080/"
        },
        "id": "9Ntqc1sfvEDv",
        "outputId": "38dc42ab-25c9-4dce-c554-a0f591ff0094"
      },
      "source": [
        "'''Booleans can either refer to the words True or False\n",
        "On the compiler, these words will be bolded in blue and \n",
        "DO NOT need to be encapsulated in quotation marks\n",
        "\n",
        "They may also refer to string, integer or float statements that refer to equality or inequality, which may be considered\n",
        "True or False '''\n",
        "\n",
        "print(type(True))\n",
        "print(type(False))"
      ],
      "execution_count": null,
      "outputs": [
        {
          "output_type": "stream",
          "name": "stdout",
          "text": [
            "<class 'bool'>\n",
            "<class 'bool'>\n"
          ]
        }
      ]
    },
    {
      "cell_type": "code",
      "metadata": {
        "colab": {
          "base_uri": "https://localhost:8080/"
        },
        "id": "WhOYfKNsvEGu",
        "outputId": "3b972ff6-a9a1-4634-f44e-5395daac2aeb"
      },
      "source": [
        "'''We use a \"double equal sign\" if we want to compare one value (i.e. string, float, integer) against another.\n",
        "A \"single equal sign\" is an assignment operator used when we want to assign a value (i.e. string, float, integer)\n",
        "to a variable. We will discuss variables later.'''\n",
        "\n",
        "print((1 == 1)) \n",
        "print((1 != 1)) #Note: != is refers to 'not equal'\n",
        "print((2 > 1)) \n",
        "print((2.0 <= 3.0))\n",
        "print((\"AIS\" == \"AS\"))"
      ],
      "execution_count": null,
      "outputs": [
        {
          "output_type": "stream",
          "name": "stdout",
          "text": [
            "True\n",
            "False\n",
            "True\n",
            "True\n",
            "False\n"
          ]
        }
      ]
    },
    {
      "cell_type": "markdown",
      "metadata": {
        "id": "o4hxSB6LyAJd"
      },
      "source": [
        "##1-3 Mathematical Operations"
      ]
    },
    {
      "cell_type": "code",
      "metadata": {
        "colab": {
          "base_uri": "https://localhost:8080/"
        },
        "id": "mFVJJtTPvEJt",
        "outputId": "2f341bcb-f73d-46de-8bc4-9df7081673da"
      },
      "source": [
        "# (+) Addition\n",
        "\n",
        "print(1+1)"
      ],
      "execution_count": null,
      "outputs": [
        {
          "output_type": "stream",
          "name": "stdout",
          "text": [
            "2\n"
          ]
        }
      ]
    },
    {
      "cell_type": "code",
      "metadata": {
        "colab": {
          "base_uri": "https://localhost:8080/"
        },
        "id": "Z4bLUItVvEMj",
        "outputId": "ed133401-5d9e-4dd1-8808-5b8f347e0402"
      },
      "source": [
        "# (-) Subtraction\n",
        "\n",
        "print(2-1)"
      ],
      "execution_count": null,
      "outputs": [
        {
          "output_type": "stream",
          "name": "stdout",
          "text": [
            "1\n"
          ]
        }
      ]
    },
    {
      "cell_type": "code",
      "metadata": {
        "colab": {
          "base_uri": "https://localhost:8080/"
        },
        "id": "dj0icH-NvEPo",
        "outputId": "3133faa5-6dab-4395-c279-5167abb46341"
      },
      "source": [
        "# (/) Division\n",
        "\n",
        "print(3/2)\n"
      ],
      "execution_count": null,
      "outputs": [
        {
          "output_type": "stream",
          "name": "stdout",
          "text": [
            "1.5\n"
          ]
        }
      ]
    },
    {
      "cell_type": "code",
      "metadata": {
        "colab": {
          "base_uri": "https://localhost:8080/"
        },
        "id": "hPW4vppUvER6",
        "outputId": "28fb0946-7f70-46b5-8404-c1c297362e47"
      },
      "source": [
        "# (*) Multiplication\n",
        "\n",
        "print(4*2)"
      ],
      "execution_count": null,
      "outputs": [
        {
          "output_type": "stream",
          "name": "stdout",
          "text": [
            "8\n"
          ]
        }
      ]
    },
    {
      "cell_type": "code",
      "metadata": {
        "colab": {
          "base_uri": "https://localhost:8080/"
        },
        "id": "yCustqL5vEU0",
        "outputId": "b592d334-3487-472b-eada-93ca027bed97"
      },
      "source": [
        "# (%) Modulus (Remainder) - This will divide the two numbers and return the remainder\n",
        "\n",
        "print(10 % 3)\n"
      ],
      "execution_count": null,
      "outputs": [
        {
          "output_type": "stream",
          "name": "stdout",
          "text": [
            "1\n"
          ]
        }
      ]
    },
    {
      "cell_type": "code",
      "metadata": {
        "colab": {
          "base_uri": "https://localhost:8080/"
        },
        "id": "ny02rNL1vEXb",
        "outputId": "28c588ca-300c-48c7-b880-dc4c6fe44bc1"
      },
      "source": [
        "# (**) Exponent - Two multiplication operators make an exponent operator\n",
        "\n",
        "print(5**2)"
      ],
      "execution_count": null,
      "outputs": [
        {
          "output_type": "stream",
          "name": "stdout",
          "text": [
            "25\n"
          ]
        }
      ]
    },
    {
      "cell_type": "markdown",
      "metadata": {
        "id": "gGB4aDRFygkc"
      },
      "source": [
        "##1-4 Variables"
      ]
    },
    {
      "cell_type": "code",
      "metadata": {
        "colab": {
          "base_uri": "https://localhost:8080/",
          "height": 105
        },
        "id": "VMWDSNHuvEcs",
        "outputId": "60ddc907-febb-4b7e-f478-edf93af907cc"
      },
      "source": [
        "'''\n",
        "variable = expression\n",
        "\n",
        "Can be any type (Float, string, int, etc.)\n",
        "\n",
        "The left side is the variable and the right side is the value we want to assign to the variable.\n",
        "\n",
        "Rules of variables \n",
        "1. Don't make variables keywords (ex. if, else, return, True, etc) You can look up list of python keywords for more examples.\n",
        "\n",
        "2. Your variable name must be a letter from a-z, A-Z, or an underscore character. (NO numbers in the beginning of your variable name)\n",
        "\n",
        "3. Make variable names that make sense with what's being assigned to them (ex. BondPrice, CapRate)\n",
        "\n",
        "4. Variables are case sensitive (Apple is NOT the same as apple)\n",
        "\n",
        "5. A variable name CANNOT contain spaces \n",
        "'''"
      ],
      "execution_count": null,
      "outputs": [
        {
          "output_type": "execute_result",
          "data": {
            "application/vnd.google.colaboratory.intrinsic+json": {
              "type": "string"
            },
            "text/plain": [
              "\"\\nvariable = expression\\n\\nCan be any type (Float, string, int, etc.)\\n\\nThe left side is the variable and the right side is the value we want to assign to the variable.\\n\\nRules of variables \\n1. Don't make variables keywords (ex. if, else, return, True, etc) You can look up list of python keywords for more examples.\\n\\n2. Your variable name must be a letter from a-z, A-Z, or an underscore character. (NO numbers in the beginning of your variable name)\\n\\n3. Make variable names that make sense with what's being assigned to them (ex. BondPrice, CapRate)\\n\\n4. Variables are case sensitive (Apple is NOT the same as apple)\\n\\n5. A variable name CANNOT contain spaces \\n\""
            ]
          },
          "metadata": {},
          "execution_count": 56
        }
      ]
    },
    {
      "cell_type": "code",
      "metadata": {
        "colab": {
          "base_uri": "https://localhost:8080/"
        },
        "id": "ANPgcFxWvEfm",
        "outputId": "e359427d-fcd9-4ddc-b518-a68dd42de8fa"
      },
      "source": [
        "#Examples of variables\n",
        "\n",
        "stringEx = \"string\"\n",
        "print(stringEx)\n",
        "print(type(stringEx))"
      ],
      "execution_count": null,
      "outputs": [
        {
          "output_type": "stream",
          "name": "stdout",
          "text": [
            "string\n",
            "<class 'str'>\n"
          ]
        }
      ]
    },
    {
      "cell_type": "code",
      "metadata": {
        "colab": {
          "base_uri": "https://localhost:8080/"
        },
        "id": "uN7fUip2vEip",
        "outputId": "8a10191d-1d84-4820-c62e-561a14676694"
      },
      "source": [
        "float_ex = 4.0\n",
        "print(float_ex)\n",
        "print(type(float_ex))"
      ],
      "execution_count": null,
      "outputs": [
        {
          "output_type": "stream",
          "name": "stdout",
          "text": [
            "4.0\n",
            "<class 'float'>\n"
          ]
        }
      ]
    },
    {
      "cell_type": "code",
      "metadata": {
        "colab": {
          "base_uri": "https://localhost:8080/"
        },
        "id": "NsBYQTM5vElS",
        "outputId": "2567a9b3-742b-499d-d160-d0ade0bcef3a"
      },
      "source": [
        "width = 10\n",
        "length = 5 \n",
        "area = width * length\n",
        "\n",
        "print (area)\n",
        "print(type(area))"
      ],
      "execution_count": null,
      "outputs": [
        {
          "output_type": "stream",
          "name": "stdout",
          "text": [
            "50\n",
            "<class 'int'>\n"
          ]
        }
      ]
    },
    {
      "cell_type": "code",
      "metadata": {
        "colab": {
          "base_uri": "https://localhost:8080/"
        },
        "id": "ycLgzl_2vEoG",
        "outputId": "be7f8b3f-b534-4958-ecfc-600ebc6431b5"
      },
      "source": [
        "#You can also redefine variables \n",
        "\n",
        "var1 = 3.0\n",
        "print(var1)"
      ],
      "execution_count": null,
      "outputs": [
        {
          "output_type": "stream",
          "name": "stdout",
          "text": [
            "3.0\n"
          ]
        }
      ]
    },
    {
      "cell_type": "code",
      "metadata": {
        "colab": {
          "base_uri": "https://localhost:8080/"
        },
        "id": "F4404Ivfzc5r",
        "outputId": "c0ec1d2b-cce8-4635-efa4-1576ff67c840"
      },
      "source": [
        "var1 = 3.5\n",
        "print(var1)"
      ],
      "execution_count": null,
      "outputs": [
        {
          "output_type": "stream",
          "name": "stdout",
          "text": [
            "3.5\n"
          ]
        }
      ]
    },
    {
      "cell_type": "code",
      "metadata": {
        "colab": {
          "base_uri": "https://localhost:8080/"
        },
        "id": "or3MXBFFzc8d",
        "outputId": "253fd8fa-fe77-47b4-e092-6857f5ff7a87"
      },
      "source": [
        "#We can reassign variables to another data type\n",
        "#5 is an integer, but lets turn it into a float or a string\n",
        "\n",
        "#casting variables\n",
        "example_5 = 5\n",
        "print(type(example_5))\n",
        "print(example_5)"
      ],
      "execution_count": null,
      "outputs": [
        {
          "output_type": "stream",
          "name": "stdout",
          "text": [
            "<class 'int'>\n",
            "5\n"
          ]
        }
      ]
    },
    {
      "cell_type": "code",
      "metadata": {
        "colab": {
          "base_uri": "https://localhost:8080/"
        },
        "id": "Q3CHX_Vyzc-8",
        "outputId": "a4c3f6f8-9dd6-4b5a-bc4e-aa4acbd42512"
      },
      "source": [
        "example_6 = float(example_5)\n",
        "print(type(example_6))\n",
        "print(example_6)"
      ],
      "execution_count": null,
      "outputs": [
        {
          "output_type": "stream",
          "name": "stdout",
          "text": [
            "<class 'float'>\n",
            "5.0\n"
          ]
        }
      ]
    },
    {
      "cell_type": "code",
      "metadata": {
        "colab": {
          "base_uri": "https://localhost:8080/"
        },
        "id": "X_67pmIUzdBh",
        "outputId": "1229cb56-105c-401f-d715-c85600b1a385"
      },
      "source": [
        "#Another example\n",
        "alex_turner = 55\n",
        "print(type(alex_turner))\n",
        "print(alex_turner)"
      ],
      "execution_count": null,
      "outputs": [
        {
          "output_type": "stream",
          "name": "stdout",
          "text": [
            "<class 'int'>\n",
            "55\n"
          ]
        }
      ]
    },
    {
      "cell_type": "code",
      "metadata": {
        "colab": {
          "base_uri": "https://localhost:8080/"
        },
        "id": "JiHOmCSuzdEJ",
        "outputId": "3f4f9156-94fc-47ee-90c0-90750a537184"
      },
      "source": [
        "fifty_five = str(alex_turner)\n",
        "print(type(fifty_five))\n",
        "print(fifty_five)"
      ],
      "execution_count": null,
      "outputs": [
        {
          "output_type": "stream",
          "name": "stdout",
          "text": [
            "<class 'str'>\n",
            "55\n"
          ]
        }
      ]
    },
    {
      "cell_type": "code",
      "metadata": {
        "colab": {
          "base_uri": "https://localhost:8080/"
        },
        "id": "WEn0iu2ezdG5",
        "outputId": "ba0c9a6c-14c5-4896-9eb8-ea2f740cf00a"
      },
      "source": [
        "#You can also do this without variables\n",
        "print(type(4))\n",
        "print(type(str(4)))"
      ],
      "execution_count": null,
      "outputs": [
        {
          "output_type": "stream",
          "name": "stdout",
          "text": [
            "<class 'int'>\n",
            "<class 'str'>\n"
          ]
        }
      ]
    },
    {
      "cell_type": "code",
      "metadata": {
        "colab": {
          "base_uri": "https://localhost:8080/"
        },
        "id": "y_CmG2pkzdJl",
        "outputId": "cb30a4b2-0736-470e-c0d6-95aae046621f"
      },
      "source": [
        "print(type(10.45))\n",
        "print(type(int(10.45)))"
      ],
      "execution_count": null,
      "outputs": [
        {
          "output_type": "stream",
          "name": "stdout",
          "text": [
            "<class 'float'>\n",
            "<class 'int'>\n"
          ]
        }
      ]
    },
    {
      "cell_type": "code",
      "metadata": {
        "colab": {
          "base_uri": "https://localhost:8080/",
          "height": 201
        },
        "id": "CbqJE71vzdMa",
        "outputId": "84f8f560-0f4e-4a89-d5ba-a84731418ac8"
      },
      "source": [
        "#It won't work for some things, like you can't change a string into an integer unless it's a number in the string\n",
        "\n",
        "print(type(int(\"David\")))"
      ],
      "execution_count": null,
      "outputs": [
        {
          "output_type": "error",
          "ename": "ValueError",
          "evalue": "ignored",
          "traceback": [
            "\u001b[0;31m---------------------------------------------------------------------------\u001b[0m",
            "\u001b[0;31mValueError\u001b[0m                                Traceback (most recent call last)",
            "\u001b[0;32m<ipython-input-68-d06722094a31>\u001b[0m in \u001b[0;36m<module>\u001b[0;34m()\u001b[0m\n\u001b[1;32m      1\u001b[0m \u001b[0;31m#It won't work for some things, like you can't change a string into an integer unless it's a number in the string\u001b[0m\u001b[0;34m\u001b[0m\u001b[0;34m\u001b[0m\u001b[0;34m\u001b[0m\u001b[0m\n\u001b[1;32m      2\u001b[0m \u001b[0;34m\u001b[0m\u001b[0m\n\u001b[0;32m----> 3\u001b[0;31m \u001b[0mprint\u001b[0m\u001b[0;34m(\u001b[0m\u001b[0mtype\u001b[0m\u001b[0;34m(\u001b[0m\u001b[0mint\u001b[0m\u001b[0;34m(\u001b[0m\u001b[0;34m\"David\"\u001b[0m\u001b[0;34m)\u001b[0m\u001b[0;34m)\u001b[0m\u001b[0;34m)\u001b[0m\u001b[0;34m\u001b[0m\u001b[0;34m\u001b[0m\u001b[0m\n\u001b[0m",
            "\u001b[0;31mValueError\u001b[0m: invalid literal for int() with base 10: 'David'"
          ]
        }
      ]
    },
    {
      "cell_type": "code",
      "metadata": {
        "colab": {
          "base_uri": "https://localhost:8080/"
        },
        "id": "aIKughKXzdPO",
        "outputId": "2837adea-2a8d-413a-f3d9-ebfecd145770"
      },
      "source": [
        "#This will work because there's a number in the string\n",
        "\n",
        "print(type(int(\"55\")))"
      ],
      "execution_count": null,
      "outputs": [
        {
          "output_type": "stream",
          "name": "stdout",
          "text": [
            "<class 'int'>\n"
          ]
        }
      ]
    },
    {
      "cell_type": "markdown",
      "metadata": {
        "id": "aFW-8pW_1gZ0"
      },
      "source": [
        "##1-5 Input function"
      ]
    },
    {
      "cell_type": "code",
      "metadata": {
        "colab": {
          "base_uri": "https://localhost:8080/",
          "height": 53
        },
        "id": "6nQwpKouzdSG",
        "outputId": "00af7ae5-69c8-4e82-c5bb-92e7c3f54ed0"
      },
      "source": [
        "#Input functions allows a user to input information into our program. \n",
        "#When we want the user to enter information, we'll tell them what we want them to enter. \n",
        "#We can prompt them by writing a string inside of the input function.\n",
        "\n",
        "input(\"Enter your first and last name: \")"
      ],
      "execution_count": null,
      "outputs": [
        {
          "name": "stdout",
          "output_type": "stream",
          "text": [
            "Enter your first and last name: David Mena\n"
          ]
        },
        {
          "output_type": "execute_result",
          "data": {
            "application/vnd.google.colaboratory.intrinsic+json": {
              "type": "string"
            },
            "text/plain": [
              "'David Mena'"
            ]
          },
          "metadata": {},
          "execution_count": 70
        }
      ]
    },
    {
      "cell_type": "code",
      "metadata": {
        "colab": {
          "base_uri": "https://localhost:8080/"
        },
        "id": "-9t4PA48zdU-",
        "outputId": "1af325f6-c6bb-42ae-dc28-f20b2b353ef0"
      },
      "source": [
        "#We'll be able take this information, assign it to a variable, and then do something with that variable.\n",
        "\n",
        "name = input(\"Enter your first and last name: \")\n",
        "print(\"Hey \" + name + \"!\")"
      ],
      "execution_count": null,
      "outputs": [
        {
          "output_type": "stream",
          "name": "stdout",
          "text": [
            "Enter your first and last name: David Mena\n",
            "Hey David Mena!\n"
          ]
        }
      ]
    },
    {
      "cell_type": "code",
      "metadata": {
        "colab": {
          "base_uri": "https://localhost:8080/",
          "height": 201
        },
        "id": "l4SDlsDHzdXp",
        "outputId": "d4db40e6-428f-49fe-b786-adb4219b9311"
      },
      "source": [
        "'''The print statement above uses concatenation to combine the elements. Concatenation combines strings\n",
        "together at their ends into a new string and then prints them to your output. This is good when you need to join strings,\n",
        "likely constructed elsewhere, together.\n",
        "NOTE: You can only concatenate a string with another string. \n",
        "For example, if I want to combine a variable that holds an integer with a string, it will give me an error. '''\n",
        "\n",
        "print(\"David is \" + 21)"
      ],
      "execution_count": null,
      "outputs": [
        {
          "output_type": "error",
          "ename": "TypeError",
          "evalue": "ignored",
          "traceback": [
            "\u001b[0;31m---------------------------------------------------------------------------\u001b[0m",
            "\u001b[0;31mTypeError\u001b[0m                                 Traceback (most recent call last)",
            "\u001b[0;32m<ipython-input-72-ffbe97e2c8b6>\u001b[0m in \u001b[0;36m<module>\u001b[0;34m()\u001b[0m\n\u001b[1;32m      5\u001b[0m For example, if I want to combine a variable that holds an integer with a string, it will give me an error. '''\n\u001b[1;32m      6\u001b[0m \u001b[0;34m\u001b[0m\u001b[0m\n\u001b[0;32m----> 7\u001b[0;31m \u001b[0mprint\u001b[0m\u001b[0;34m(\u001b[0m\u001b[0;34m\"David is \"\u001b[0m \u001b[0;34m+\u001b[0m \u001b[0;36m21\u001b[0m\u001b[0;34m)\u001b[0m\u001b[0;34m\u001b[0m\u001b[0;34m\u001b[0m\u001b[0m\n\u001b[0m",
            "\u001b[0;31mTypeError\u001b[0m: can only concatenate str (not \"int\") to str"
          ]
        }
      ]
    },
    {
      "cell_type": "code",
      "metadata": {
        "colab": {
          "base_uri": "https://localhost:8080/"
        },
        "id": "eaqMv2n3zdam",
        "outputId": "e70d9045-da03-40be-f28f-eeccfd4a9d00"
      },
      "source": [
        "#You can get around this by turning the element into a string. \n",
        "\n",
        "print(\"David is \" + str(21))"
      ],
      "execution_count": null,
      "outputs": [
        {
          "output_type": "stream",
          "name": "stdout",
          "text": [
            "David is 21\n"
          ]
        }
      ]
    },
    {
      "cell_type": "code",
      "metadata": {
        "colab": {
          "base_uri": "https://localhost:8080/"
        },
        "id": "rBO05eoIzddf",
        "outputId": "a3bc3541-934e-46f7-d818-f37b3ed6e533"
      },
      "source": [
        "#You can also combine variables with a comma. For example:\n",
        "\n",
        "x = 25\n",
        "a = \"David\" \n",
        "print(a, \"is\", x)"
      ],
      "execution_count": null,
      "outputs": [
        {
          "output_type": "stream",
          "name": "stdout",
          "text": [
            "David is 25\n"
          ]
        }
      ]
    },
    {
      "cell_type": "code",
      "metadata": {
        "colab": {
          "base_uri": "https://localhost:8080/"
        },
        "id": "LYQ2dpi6zdgZ",
        "outputId": "985ac8ac-1c71-4528-fd9e-cfdf66aa57e9"
      },
      "source": [
        "#if you did this with concatenation, you'd have to turn x into a string, for example:\n",
        "\n",
        "print(a + \" is \" + str(x))"
      ],
      "execution_count": null,
      "outputs": [
        {
          "output_type": "stream",
          "name": "stdout",
          "text": [
            "David is 25\n"
          ]
        }
      ]
    },
    {
      "cell_type": "markdown",
      "metadata": {
        "id": "N5LOSEFI2Yjw"
      },
      "source": [
        "##1-6 Lists\n"
      ]
    },
    {
      "cell_type": "code",
      "metadata": {
        "id": "ngTNembVzdjn"
      },
      "source": [
        "'''If you deal with large amounts of data, you can use lists to manage it. Lists let us store lists of information.\n",
        "We can take various data values and put them inside of a list which allows us to manage them easier.\n",
        "We make a list the same way we make variable. Give it a descriptive name that will describe what's in the list. \n",
        "When we make a list, we use open and close square brackets []. Python will know you're making a list when it sees this. \n",
        "For example: '''\n",
        "\n",
        "coworkers = [\"Jim\", \"Dwight\", \"Michael\", \"Pam\", \"Kevin\"]"
      ],
      "execution_count": null,
      "outputs": []
    },
    {
      "cell_type": "code",
      "metadata": {
        "id": "T4dC1ZCBzdmW"
      },
      "source": [
        "#You can put basically any data type into a list (strings, integers, booleans, etc).\n",
        "#We can make this list below and python would accept it.\n",
        "\n",
        "whatever = [\"David\", 1234, False]"
      ],
      "execution_count": null,
      "outputs": []
    },
    {
      "cell_type": "code",
      "metadata": {
        "colab": {
          "base_uri": "https://localhost:8080/"
        },
        "id": "LjvD5yIKzdpU",
        "outputId": "345aa8b1-2718-47fd-b8ee-955382ea0f0b"
      },
      "source": [
        "#Let's go back to the original list we made and work on it. print(coworkers) will print the list.\n",
        "\n",
        "print(coworkers) "
      ],
      "execution_count": null,
      "outputs": [
        {
          "output_type": "stream",
          "name": "stdout",
          "text": [
            "['Jim', 'Dwight', 'Michael', 'Pam', 'Kevin']\n"
          ]
        }
      ]
    },
    {
      "cell_type": "code",
      "metadata": {
        "colab": {
          "base_uri": "https://localhost:8080/"
        },
        "id": "V356Vn6kzdsQ",
        "outputId": "760cab33-96d3-40e9-fd5f-babeee3d1227"
      },
      "source": [
        "'''But what if we wanted to get specific elements of the list? Well, we can access specific elements through indexing.\n",
        "Each element in the list has a specific index and they start from 0. \n",
        "For example, Jim has an index of 0, Dwight has an index of 1, Michael has an index of 2, etc. \n",
        "So even though Michael is the third element of the list, it has an index of 2 because we start indexing at 0. \n",
        "Therefore, if you want a specific element from the list, you refer to it by its index. Lets say we want to get Jim from the list.'''\n",
        "\n",
        "print(coworkers[0])"
      ],
      "execution_count": null,
      "outputs": [
        {
          "output_type": "stream",
          "name": "stdout",
          "text": [
            "Jim\n"
          ]
        }
      ]
    },
    {
      "cell_type": "code",
      "metadata": {
        "colab": {
          "base_uri": "https://localhost:8080/"
        },
        "id": "6p4m7Kj0zdvN",
        "outputId": "059c4ca0-9bc2-4863-aa6c-d0245ebc8750"
      },
      "source": [
        "#The code below will give us Michael\n",
        "\n",
        "print(coworkers[2]) "
      ],
      "execution_count": null,
      "outputs": [
        {
          "output_type": "stream",
          "name": "stdout",
          "text": [
            "Michael\n"
          ]
        }
      ]
    },
    {
      "cell_type": "code",
      "metadata": {
        "colab": {
          "base_uri": "https://localhost:8080/"
        },
        "id": "xs6fKPcuzdxu",
        "outputId": "b1b564a4-9abc-4d93-ec4d-dcf3e2233b0d"
      },
      "source": [
        "'''You can also access elements backwards through negative indexing.\n",
        "When we perform negative indexing, we start from -1, not 0. So if you want Kevin from the list you'll use the index -1 '''\n",
        "\n",
        "print(coworkers[-1])"
      ],
      "execution_count": null,
      "outputs": [
        {
          "output_type": "stream",
          "name": "stdout",
          "text": [
            "Kevin\n"
          ]
        }
      ]
    },
    {
      "cell_type": "code",
      "metadata": {
        "colab": {
          "base_uri": "https://localhost:8080/"
        },
        "id": "KlTw75Tu4KgR",
        "outputId": "78999851-c564-4b24-820d-8733c86925b8"
      },
      "source": [
        "#if you want Pam you can do \n",
        "\n",
        "print(coworkers[-2])"
      ],
      "execution_count": null,
      "outputs": [
        {
          "output_type": "stream",
          "name": "stdout",
          "text": [
            "Pam\n"
          ]
        }
      ]
    },
    {
      "cell_type": "code",
      "metadata": {
        "colab": {
          "base_uri": "https://localhost:8080/"
        },
        "id": "wxHnl7UA4LBu",
        "outputId": "8e3c7c7b-27de-4de2-bc30-37bdab59d0b8"
      },
      "source": [
        "#Another way we can access elements is through slicing. We can achieve this by using a colon (:). \n",
        "#Lets say I want to get the last 2 elements of the list, we can do \n",
        "\n",
        "print(coworkers[3:])\n",
        "\n",
        "#This will get the third element of the list and all of the elements after. "
      ],
      "execution_count": null,
      "outputs": [
        {
          "output_type": "stream",
          "name": "stdout",
          "text": [
            "['Pam', 'Kevin']\n"
          ]
        }
      ]
    },
    {
      "cell_type": "code",
      "metadata": {
        "colab": {
          "base_uri": "https://localhost:8080/"
        },
        "id": "9-53pBjn4LEq",
        "outputId": "80d88676-caab-4693-ed8a-735102e21d76"
      },
      "source": [
        "#Leaving the number blank before or after the colon means it will get everything. For example:\n",
        "\n",
        "print(coworkers[:])"
      ],
      "execution_count": null,
      "outputs": [
        {
          "output_type": "stream",
          "name": "stdout",
          "text": [
            "['Jim', 'Dwight', 'Michael', 'Pam', 'Kevin']\n"
          ]
        }
      ]
    },
    {
      "cell_type": "code",
      "metadata": {
        "colab": {
          "base_uri": "https://localhost:8080/"
        },
        "id": "xE-iapxV4LHg",
        "outputId": "b024343a-34b4-4242-8871-e339ffdc7e90"
      },
      "source": [
        "#There is a special case we MUST make note of when slicing lists, the index number we put after the colon. \n",
        "\n",
        "print(coworkers[:3])"
      ],
      "execution_count": null,
      "outputs": [
        {
          "output_type": "stream",
          "name": "stdout",
          "text": [
            "['Jim', 'Dwight', 'Michael']\n"
          ]
        }
      ]
    },
    {
      "cell_type": "code",
      "metadata": {
        "colab": {
          "base_uri": "https://localhost:8080/"
        },
        "id": "TCwnHuN34LKP",
        "outputId": "d99b9237-1c3a-4e7d-912a-3a68fc7bbb8c"
      },
      "source": [
        "'''As you can see, the last example didn't include Pam even though we put index number 3 when you sliced the list.\n",
        "This is because when slicing, python will grab all the elements up to but not including the index after the colon.\n",
        "Here's another example: '''\n",
        "\n",
        "print(coworkers[1:4])"
      ],
      "execution_count": null,
      "outputs": [
        {
          "output_type": "stream",
          "name": "stdout",
          "text": [
            "['Dwight', 'Michael', 'Pam']\n"
          ]
        }
      ]
    },
    {
      "cell_type": "code",
      "metadata": {
        "id": "v5xCN7yv4LNz"
      },
      "source": [
        "#The statement above grabbed index 1, 2, and 3, but not 4. "
      ],
      "execution_count": null,
      "outputs": []
    },
    {
      "cell_type": "code",
      "metadata": {
        "colab": {
          "base_uri": "https://localhost:8080/"
        },
        "id": "vPW46FRi4LQC",
        "outputId": "f18fa642-7e84-46ce-d1e6-6c3f9756017a"
      },
      "source": [
        "#We can also modify elements in a list. All we'll have to do is access the element and set it equal to whatever you want.\n",
        "#This works because lists are mutable, which means we can change them.\n",
        "\n",
        "coworkers[1] = \"Oscar\" \n",
        "print(coworkers)\n"
      ],
      "execution_count": null,
      "outputs": [
        {
          "output_type": "stream",
          "name": "stdout",
          "text": [
            "['Jim', 'Oscar', 'Michael', 'Pam', 'Kevin']\n"
          ]
        }
      ]
    },
    {
      "cell_type": "code",
      "metadata": {
        "id": "_QC0C8d94LTO"
      },
      "source": [
        "#Now Dwight was replaced with Oscar in the list."
      ],
      "execution_count": null,
      "outputs": []
    },
    {
      "cell_type": "markdown",
      "metadata": {
        "id": "nw_5W0dn56yU"
      },
      "source": [
        "##1-7 List functions"
      ]
    },
    {
      "cell_type": "code",
      "metadata": {
        "id": "cRMwAqOA4LV3"
      },
      "source": [
        "#There are functions already in python that let us do certain things to our lists.\n",
        "#Let's bring back our coworkers list and make a list of numbers.\n",
        "\n",
        "numbers = [10, 3, 100, 46, 58, 23]\n",
        "coworkers = [\"Jim\", \"Dwight\", \"Michael\", \"Pam\", \"Kevin\"]"
      ],
      "execution_count": null,
      "outputs": []
    },
    {
      "cell_type": "code",
      "metadata": {
        "colab": {
          "base_uri": "https://localhost:8080/"
        },
        "id": "_NneKbNG4LYy",
        "outputId": "74d1c4d0-6708-4ff5-851d-62617e97eb63"
      },
      "source": [
        "#We'll go over some common functions for lists. \n",
        "#One is called the .extend() function which lets you extend a list with another list.\n",
        "\n",
        "coworkers.extend(numbers)\n",
        "print(coworkers)"
      ],
      "execution_count": null,
      "outputs": [
        {
          "output_type": "stream",
          "name": "stdout",
          "text": [
            "['Jim', 'Dwight', 'Michael', 'Pam', 'Kevin', 10, 3, 100, 46, 58, 23]\n"
          ]
        }
      ]
    },
    {
      "cell_type": "code",
      "metadata": {
        "id": "CEJrYTRi4Lbm"
      },
      "source": [
        "#Another function is .append() which lets you add an individual element to the end of a list.\n",
        "#We'll run the original coworkers list to get rid of the numbers from the extend function.\n",
        "\n",
        "coworkers = [\"Jim\", \"Dwight\", \"Michael\", \"Pam\", \"Kevin\"]"
      ],
      "execution_count": null,
      "outputs": []
    },
    {
      "cell_type": "code",
      "metadata": {
        "colab": {
          "base_uri": "https://localhost:8080/"
        },
        "id": "HB_GGlf84Leq",
        "outputId": "269576eb-708a-4a4d-fdaf-42cb17eec749"
      },
      "source": [
        "#Now lets append it with another coworker\n",
        "coworkers.append(\"Andy\")\n",
        "print(coworkers)"
      ],
      "execution_count": null,
      "outputs": [
        {
          "output_type": "stream",
          "name": "stdout",
          "text": [
            "['Jim', 'Dwight', 'Michael', 'Pam', 'Kevin', 'Andy']\n"
          ]
        }
      ]
    },
    {
      "cell_type": "code",
      "metadata": {
        "colab": {
          "base_uri": "https://localhost:8080/"
        },
        "id": "n4Ags1qa4LhY",
        "outputId": "2f5e604a-d051-401b-9b1c-30c6b1058e61"
      },
      "source": [
        "#.insert() takes 2 arguments (index, item) and replaces the item at the index position with the item of your choice.\n",
        "#It doesn't replace the element at the original index, it moves the original element over to a new index position.\n",
        "\n",
        "coworkers.insert(3, \"Kelly\")\n",
        "print(coworkers)"
      ],
      "execution_count": null,
      "outputs": [
        {
          "output_type": "stream",
          "name": "stdout",
          "text": [
            "['Jim', 'Dwight', 'Michael', 'Kelly', 'Pam', 'Kevin', 'Andy']\n"
          ]
        }
      ]
    },
    {
      "cell_type": "code",
      "metadata": {
        "colab": {
          "base_uri": "https://localhost:8080/"
        },
        "id": "bqJ4S5Li4LkP",
        "outputId": "b1ae7fb7-4b4d-4013-e2fc-64e789b4632c"
      },
      "source": [
        "#.remove() removes the element of your choice. The element you want to remove is the argument.\n",
        "\n",
        "coworkers.remove(\"Kevin\")\n",
        "print(coworkers)"
      ],
      "execution_count": null,
      "outputs": [
        {
          "output_type": "stream",
          "name": "stdout",
          "text": [
            "['Jim', 'Dwight', 'Michael', 'Kelly', 'Pam', 'Andy']\n"
          ]
        }
      ]
    },
    {
      "cell_type": "code",
      "metadata": {
        "colab": {
          "base_uri": "https://localhost:8080/"
        },
        "id": "jp66ze0T4LnW",
        "outputId": "afe8d57e-7bc9-428d-8fcf-ee1ec8c0caea"
      },
      "source": [
        "#.pop() removes the last element in the list.\n",
        "\n",
        "coworkers.pop()\n",
        "print(coworkers)"
      ],
      "execution_count": null,
      "outputs": [
        {
          "output_type": "stream",
          "name": "stdout",
          "text": [
            "['Jim', 'Dwight', 'Michael', 'Kelly', 'Pam']\n"
          ]
        }
      ]
    },
    {
      "cell_type": "code",
      "metadata": {
        "colab": {
          "base_uri": "https://localhost:8080/"
        },
        "id": "RFW27uHE4LqS",
        "outputId": "4073fc5e-cdb0-4df3-8d4f-cc603f056bb4"
      },
      "source": [
        "#.index() tells you the index of the element you’re trying to find in the list. Accepts the element as the argument.\n",
        "\n",
        "coworkers.index(\"Dwight\")"
      ],
      "execution_count": null,
      "outputs": [
        {
          "output_type": "execute_result",
          "data": {
            "text/plain": [
              "1"
            ]
          },
          "metadata": {},
          "execution_count": 97
        }
      ]
    },
    {
      "cell_type": "code",
      "metadata": {
        "colab": {
          "base_uri": "https://localhost:8080/"
        },
        "id": "BxZXiFCg4LtR",
        "outputId": "6307c6c6-71d9-4a49-8429-6618e90d9cab"
      },
      "source": [
        "'''.copy() will copy the list you choose to put before the dot.\n",
        "Lets make a variable called coworkers2.\n",
        "When we use .copy(), coworkers2 will have all the same attributes as coworkers since it's a copy.'''\n",
        "\n",
        "coworkers2 = coworkers.copy()\n",
        "print(coworkers2)"
      ],
      "execution_count": null,
      "outputs": [
        {
          "output_type": "stream",
          "name": "stdout",
          "text": [
            "['Jim', 'Dwight', 'Michael', 'Kelly', 'Pam']\n"
          ]
        }
      ]
    },
    {
      "cell_type": "code",
      "metadata": {
        "colab": {
          "base_uri": "https://localhost:8080/"
        },
        "id": "SJeBL35F4LwH",
        "outputId": "d2b4f2e0-8ccb-4904-8e7c-efd0cc86942c"
      },
      "source": [
        "#Let's use the numbers list we made along with the coworkers list for these remaining functions.\n",
        "\n",
        "#.sort() will sort list in ascending order or alphabetical. For example:\n",
        "\n",
        "print(coworkers)\n",
        "coworkers.sort()\n",
        "print(coworkers)"
      ],
      "execution_count": null,
      "outputs": [
        {
          "output_type": "stream",
          "name": "stdout",
          "text": [
            "['Jim', 'Dwight', 'Michael', 'Kelly', 'Pam']\n",
            "['Dwight', 'Jim', 'Kelly', 'Michael', 'Pam']\n"
          ]
        }
      ]
    },
    {
      "cell_type": "code",
      "metadata": {
        "colab": {
          "base_uri": "https://localhost:8080/"
        },
        "id": "kEebQkAC4LzP",
        "outputId": "39895570-8729-44ca-e9e6-736ace9d74f0"
      },
      "source": [
        "#Another example\n",
        "\n",
        "print(numbers)\n",
        "numbers.sort()\n",
        "print(numbers)"
      ],
      "execution_count": null,
      "outputs": [
        {
          "output_type": "stream",
          "name": "stdout",
          "text": [
            "[10, 3, 100, 46, 58, 23]\n",
            "[3, 10, 23, 46, 58, 100]\n"
          ]
        }
      ]
    },
    {
      "cell_type": "code",
      "metadata": {
        "colab": {
          "base_uri": "https://localhost:8080/"
        },
        "id": "P9UPOSeu4L2e",
        "outputId": "5a2fa531-366d-4fb0-c550-80273c03e416"
      },
      "source": [
        "#.reverse() will reverse the order of the list. For example:\n",
        "\n",
        "print(coworkers)\n",
        "coworkers.reverse()\n",
        "print(coworkers)"
      ],
      "execution_count": null,
      "outputs": [
        {
          "output_type": "stream",
          "name": "stdout",
          "text": [
            "['Dwight', 'Jim', 'Kelly', 'Michael', 'Pam']\n",
            "['Pam', 'Michael', 'Kelly', 'Jim', 'Dwight']\n"
          ]
        }
      ]
    },
    {
      "cell_type": "code",
      "metadata": {
        "colab": {
          "base_uri": "https://localhost:8080/"
        },
        "id": "3Qeao5RL4L5G",
        "outputId": "876c9de9-5018-484c-a675-7690034f7b79"
      },
      "source": [
        "#Another example\n",
        "\n",
        "print(numbers)\n",
        "numbers.reverse()\n",
        "print(numbers)"
      ],
      "execution_count": null,
      "outputs": [
        {
          "output_type": "stream",
          "name": "stdout",
          "text": [
            "[3, 10, 23, 46, 58, 100]\n",
            "[100, 58, 46, 23, 10, 3]\n"
          ]
        }
      ]
    },
    {
      "cell_type": "code",
      "metadata": {
        "colab": {
          "base_uri": "https://localhost:8080/"
        },
        "id": "2OKqfdK-4L8C",
        "outputId": "77c21ac3-1e83-45ef-e2f1-cd26ae7ea049"
      },
      "source": [
        "#.clear() removes everything from the list\n",
        "\n",
        "print(coworkers)\n",
        "coworkers.clear()\n",
        "print(coworkers)"
      ],
      "execution_count": null,
      "outputs": [
        {
          "output_type": "stream",
          "name": "stdout",
          "text": [
            "['Pam', 'Michael', 'Kelly', 'Jim', 'Dwight']\n",
            "[]\n"
          ]
        }
      ]
    },
    {
      "cell_type": "code",
      "metadata": {
        "colab": {
          "base_uri": "https://localhost:8080/"
        },
        "id": "Q5m3YbUM4L_B",
        "outputId": "63c6a0f1-c4a5-43b8-91c8-c015897d1e70"
      },
      "source": [
        "#Another example\n",
        "\n",
        "print(numbers)\n",
        "numbers.clear()\n",
        "print(numbers)"
      ],
      "execution_count": null,
      "outputs": [
        {
          "output_type": "stream",
          "name": "stdout",
          "text": [
            "[100, 58, 46, 23, 10, 3]\n",
            "[]\n"
          ]
        }
      ]
    },
    {
      "cell_type": "code",
      "metadata": {
        "id": "vI8p3iLM4MCb"
      },
      "source": [
        "#Those were some basic list functions that help you see how we can manipulate lists in python. "
      ],
      "execution_count": null,
      "outputs": []
    },
    {
      "cell_type": "markdown",
      "metadata": {
        "id": "M4e9wAocnXY1"
      },
      "source": [
        "#Thank you for joining our Python Workshop #1\n",
        "##Please join our next one next Tuesday!!"
      ]
    }
  ]
}