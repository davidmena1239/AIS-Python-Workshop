{
  "nbformat": 4,
  "nbformat_minor": 0,
  "metadata": {
    "colab": {
      "name": "Python Workshop #1 (Fall 2021)",
      "provenance": [],
      "include_colab_link": true
    },
    "kernelspec": {
      "name": "python3",
      "display_name": "Python 3"
    },
    "language_info": {
      "name": "python"
    }
  },
  "cells": [
    {
      "cell_type": "markdown",
      "metadata": {
        "id": "view-in-github",
        "colab_type": "text"
      },
      "source": [
        "<a href=\"https://colab.research.google.com/github/davidmena1239/AIS-Python-Workshop/blob/main/Intro_Python_Workshop(Spring_2022).ipynb\" target=\"_parent\"><img src=\"https://colab.research.google.com/assets/colab-badge.svg\" alt=\"Open In Colab\"/></a>"
      ]
    },
    {
      "cell_type": "markdown",
      "metadata": {
        "id": "IOdor1Wru4tU"
      },
      "source": [
        "#Welcome to our beginner Python Workshop!\n",
        "\n",
        "###Comments"
      ]
    },
    {
      "cell_type": "code",
      "metadata": {
        "colab": {
          "base_uri": "https://localhost:8080/",
          "height": 36
        },
        "id": "Y9_HXV_IqMzE",
        "outputId": "3279b264-2b33-4502-f3c4-2c26bbbba0a3"
      },
      "source": [
        "#Single Line Comments\n",
        "#To make a single-line comment, begin the line with a '#' key. Anything after the # will be considered a comment if it's on the line\n",
        "#Doing this will not affect the output of your code\n",
        "\n",
        "#Multi Line Comments or Doc Strings\n",
        "\n",
        "\"\"\" \"\"\" or ''' '''\n",
        "''' To make multi-line comments,\n",
        "use three quotation marks  \n",
        "at the start and the end of your notes '''\n",
        "\n",
        "#Example:\n",
        "\n",
        "  #This is a single line comment\n",
        "\n",
        "'''This is \n",
        "    a multi \n",
        "    line comment'''"
      ],
      "execution_count": null,
      "outputs": [
        {
          "output_type": "execute_result",
          "data": {
            "application/vnd.google.colaboratory.intrinsic+json": {
              "type": "string"
            },
            "text/plain": [
              "'This is \\n    a multi \\n    line comment'"
            ]
          },
          "metadata": {},
          "execution_count": 47
        }
      ]
    },
    {
      "cell_type": "markdown",
      "metadata": {
        "id": "C3nsRebbunR8"
      },
      "source": [
        "##The print function and data types\n",
        "##Data Type 1 - Strings ('str')"
      ]
    },
    {
      "cell_type": "code",
      "metadata": {
        "colab": {
          "base_uri": "https://localhost:8080/"
        },
        "id": "t-1GheE4t6iH",
        "outputId": "d0b7657a-40f4-43b9-d4b2-5f3536548843"
      },
      "source": [
        "#This line of code is outputting a 'string' or 'str' data type.\n",
        "#Strings MUST be encapsulated with quotations \"\" or ''\n",
        "\n",
        "print(\"Hello World\")\n",
        "\n",
        "#We may check the data type being used with the type() function \n",
        "\n",
        "print(type(\"Hello World\"))\n",
        "\n",
        "#The following would also be considered strings\n",
        "\n",
        "print(type(\"I love AIS\"))\n",
        "print(type(\"Baruch student's are smart\")) #Note: Sometimes you want to use words with apostrophes, so use double quotes instead of a single quotes \n",
        "print(type(\"AIS is the best\"))"
      ],
      "execution_count": null,
      "outputs": [
        {
          "output_type": "stream",
          "name": "stdout",
          "text": [
            "Hello World\n",
            "<class 'str'>\n",
            "<class 'str'>\n",
            "<class 'str'>\n",
            "<class 'str'>\n"
          ]
        }
      ]
    },
    {
      "cell_type": "markdown",
      "metadata": {
        "id": "2KVemYL_vAZM"
      },
      "source": [
        "## Data Type 2 - Integers ('int')"
      ]
    },
    {
      "cell_type": "code",
      "metadata": {
        "colab": {
          "base_uri": "https://localhost:8080/"
        },
        "id": "ZaXoOffOudJ6",
        "outputId": "52ebd828-11f1-4316-9130-46b945263c1b"
      },
      "source": [
        "#Integers refer to counting numbers (i.e 0, 1, 2...) and negative #numbers (i.e. -3, -2, -1, ) with NO decimals\n",
        "#They DO NOT need to be encapsulated in quotations\n",
        "#Below is an example of a integer\n",
        "\n",
        "print(55)\n",
        "print(type(55))\n",
        "print(-55)\n",
        "print(type(-55))"
      ],
      "execution_count": null,
      "outputs": [
        {
          "output_type": "stream",
          "name": "stdout",
          "text": [
            "55\n",
            "<class 'int'>\n",
            "-55\n",
            "<class 'int'>\n"
          ]
        }
      ]
    },
    {
      "cell_type": "markdown",
      "metadata": {
        "id": "tchFQT2uvWky"
      },
      "source": [
        "##Data Type 3 - Floats ('float')"
      ]
    },
    {
      "cell_type": "code",
      "metadata": {
        "colab": {
          "base_uri": "https://localhost:8080/"
        },
        "id": "tiCUxuWTvDaQ",
        "outputId": "54411794-d708-44b2-fa02-5944db7ca1c8"
      },
      "source": [
        "''' Floats refer to numbers (positve and negative) which contain decimals\n",
        "Like integers, they DO NOT need to be encapsulated in quotations '''\n",
        "\n",
        "print(69.9)\n",
        "print(type(69.9))\n",
        "print(24.0)\n",
        "print(type(24.0))\n",
        "\n",
        "\n",
        "#Fractions are considered floats REGARDLESS of whether they have a remainder or not\n",
        "\n",
        "print(-69/9)\n",
        "print(type(-69/9))\n",
        "\n",
        "#Note that if you divide two integers the result will ALWAYS be a FLOAT!\n",
        "\n",
        "print(30/10)\n",
        "print(type(30/10))\n",
        "\n",
        "#Remember: any numbers encapsultated in parenthesees (\"\" or '') are STRINGS\n",
        "#For example:\n",
        "\n",
        "print(\"69.9\")\n",
        "print(type(\"69.9\"))"
      ],
      "execution_count": null,
      "outputs": [
        {
          "output_type": "stream",
          "name": "stdout",
          "text": [
            "69.9\n",
            "<class 'float'>\n",
            "24.0\n",
            "<class 'float'>\n",
            "-7.666666666666667\n",
            "<class 'float'>\n",
            "3.0\n",
            "<class 'float'>\n",
            "69.9\n",
            "<class 'str'>\n"
          ]
        }
      ]
    },
    {
      "cell_type": "markdown",
      "metadata": {
        "id": "UiGqnBYixQ6Q"
      },
      "source": [
        "## Data Type 4- Booleans ('bool')"
      ]
    },
    {
      "cell_type": "code",
      "metadata": {
        "colab": {
          "base_uri": "https://localhost:8080/"
        },
        "id": "9Ntqc1sfvEDv",
        "outputId": "38dc42ab-25c9-4dce-c554-a0f591ff0094"
      },
      "source": [
        "'''Booleans can either refer to the words True or False\n",
        "They DO NOT need to be encapsulated in quotation marks\n",
        " '''\n",
        "\n",
        "print(type(True))\n",
        "print(type(False))"
      ],
      "execution_count": null,
      "outputs": [
        {
          "output_type": "stream",
          "name": "stdout",
          "text": [
            "<class 'bool'>\n",
            "<class 'bool'>\n"
          ]
        }
      ]
    },
    {
      "cell_type": "code",
      "metadata": {
        "colab": {
          "base_uri": "https://localhost:8080/"
        },
        "id": "WhOYfKNsvEGu",
        "outputId": "3b972ff6-a9a1-4634-f44e-5395daac2aeb"
      },
      "source": [
        "#Boolean Expressions\n",
        "\n",
        "print((1 == 1))\n",
        "\n",
        "print((1 != 1)) #Note: != is refers to 'not equal'\n",
        "\n",
        "print((2 > 1)) \n",
        "\n",
        "print((2.0 <= 3.0))\n",
        "\n",
        "print((\"AIS\" == \"AS\"))"
      ],
      "execution_count": null,
      "outputs": [
        {
          "output_type": "stream",
          "name": "stdout",
          "text": [
            "True\n",
            "False\n",
            "True\n",
            "True\n",
            "False\n"
          ]
        }
      ]
    },
    {
      "cell_type": "markdown",
      "source": [
        "##If Statements"
      ],
      "metadata": {
        "id": "gd4L4I4dyyWX"
      }
    },
    {
      "cell_type": "code",
      "source": [
        "#Booleans can be used in conditional statements called If statements\n",
        "\n",
        "if 1 == 1:\n",
        "  print(\"This statement is true!\") "
      ],
      "metadata": {
        "colab": {
          "base_uri": "https://localhost:8080/"
        },
        "id": "LLihh7uxy0S6",
        "outputId": "1dd1ff3e-35c3-410f-c70c-88954760f325"
      },
      "execution_count": null,
      "outputs": [
        {
          "output_type": "stream",
          "name": "stdout",
          "text": [
            "This statement is true!\n"
          ]
        }
      ]
    },
    {
      "cell_type": "code",
      "source": [
        "#This won't run because the condition isn't met.\n",
        "\n",
        "if 1 != 1: \n",
        "  print(\"This statement is false!\")"
      ],
      "metadata": {
        "id": "LmQRxo0EzglN"
      },
      "execution_count": null,
      "outputs": []
    },
    {
      "cell_type": "markdown",
      "source": [
        "##If-Else Statements"
      ],
      "metadata": {
        "id": "Avbp-_ZPz9z5"
      }
    },
    {
      "cell_type": "code",
      "source": [
        "if 1 == 1:\n",
        "  print('This statement is true!')\n",
        "else:\n",
        "  print(\"This statement is false!\")"
      ],
      "metadata": {
        "colab": {
          "base_uri": "https://localhost:8080/"
        },
        "id": "Mdo6oXMQz8aB",
        "outputId": "ed3eec21-454c-42d8-cdcf-0fb435b1d164"
      },
      "execution_count": null,
      "outputs": [
        {
          "output_type": "stream",
          "name": "stdout",
          "text": [
            "This statement is true!\n"
          ]
        }
      ]
    },
    {
      "cell_type": "code",
      "source": [
        "if 1 != 1:\n",
        "  print('This statement is true!')\n",
        "else:\n",
        "  print(\"This statement is false!\")"
      ],
      "metadata": {
        "colab": {
          "base_uri": "https://localhost:8080/"
        },
        "id": "nY0PIdGP0JFy",
        "outputId": "77ba8706-130e-405e-c65b-d927b671ff92"
      },
      "execution_count": null,
      "outputs": [
        {
          "output_type": "stream",
          "name": "stdout",
          "text": [
            "This statement is false!\n"
          ]
        }
      ]
    },
    {
      "cell_type": "markdown",
      "source": [
        "##If-Elif-Else Statements"
      ],
      "metadata": {
        "id": "yj6i-M100bIS"
      }
    },
    {
      "cell_type": "code",
      "source": [
        "#What happens if you wanna test multiple conditions?\n",
        "\n",
        "if \"David\" == \"Efaz\":\n",
        "  print(\"David is Efaz\")\n",
        "elif \"David\" == \"Emily\":\n",
        "  print(\"David is Emily\")\n",
        "elif \"David\" == \"Christian\":\n",
        "  print(\"David is Christian\")\n",
        "else:\n",
        "  print(\"David is David\")\n",
        "\n",
        "#Because David isn't Efaz, Emily, or Christian. The statements return David is David"
      ],
      "metadata": {
        "colab": {
          "base_uri": "https://localhost:8080/"
        },
        "id": "av2qFQQg0euB",
        "outputId": "a2fc94af-e196-4e24-fab8-53194cb436d5"
      },
      "execution_count": null,
      "outputs": [
        {
          "output_type": "stream",
          "name": "stdout",
          "text": [
            "David is David\n"
          ]
        }
      ]
    },
    {
      "cell_type": "markdown",
      "metadata": {
        "id": "o4hxSB6LyAJd"
      },
      "source": [
        "## Mathematical Operations"
      ]
    },
    {
      "cell_type": "code",
      "metadata": {
        "colab": {
          "base_uri": "https://localhost:8080/"
        },
        "id": "mFVJJtTPvEJt",
        "outputId": "2f341bcb-f73d-46de-8bc4-9df7081673da"
      },
      "source": [
        "# (+) Addition\n",
        "\n",
        "print(1+1)"
      ],
      "execution_count": null,
      "outputs": [
        {
          "output_type": "stream",
          "name": "stdout",
          "text": [
            "2\n"
          ]
        }
      ]
    },
    {
      "cell_type": "code",
      "metadata": {
        "colab": {
          "base_uri": "https://localhost:8080/"
        },
        "id": "Z4bLUItVvEMj",
        "outputId": "ed133401-5d9e-4dd1-8808-5b8f347e0402"
      },
      "source": [
        "# (-) Subtraction\n",
        "\n",
        "print(2-1)"
      ],
      "execution_count": null,
      "outputs": [
        {
          "output_type": "stream",
          "name": "stdout",
          "text": [
            "1\n"
          ]
        }
      ]
    },
    {
      "cell_type": "code",
      "metadata": {
        "colab": {
          "base_uri": "https://localhost:8080/"
        },
        "id": "dj0icH-NvEPo",
        "outputId": "38b26ea7-f3fe-4163-f760-b38d1cbadc88"
      },
      "source": [
        "# (/) Division\n",
        "\n",
        "print(3/2)\n"
      ],
      "execution_count": null,
      "outputs": [
        {
          "output_type": "stream",
          "name": "stdout",
          "text": [
            "1.5\n"
          ]
        }
      ]
    },
    {
      "cell_type": "code",
      "metadata": {
        "colab": {
          "base_uri": "https://localhost:8080/"
        },
        "id": "hPW4vppUvER6",
        "outputId": "b6f8e9fb-c0ae-49b9-9629-2ed258da489f"
      },
      "source": [
        "# (*) Multiplication\n",
        "\n",
        "print(4*2)"
      ],
      "execution_count": null,
      "outputs": [
        {
          "output_type": "stream",
          "name": "stdout",
          "text": [
            "8\n"
          ]
        }
      ]
    },
    {
      "cell_type": "code",
      "metadata": {
        "colab": {
          "base_uri": "https://localhost:8080/"
        },
        "id": "yCustqL5vEU0",
        "outputId": "0d3d4805-d182-4054-f5e2-9caaf88bab05"
      },
      "source": [
        "# (%) Modulus (Remainder) - This will divide the two numbers and return the remainder\n",
        "\n",
        "print(10 % 3)"
      ],
      "execution_count": null,
      "outputs": [
        {
          "output_type": "stream",
          "name": "stdout",
          "text": [
            "1\n"
          ]
        }
      ]
    },
    {
      "cell_type": "code",
      "metadata": {
        "colab": {
          "base_uri": "https://localhost:8080/"
        },
        "id": "ny02rNL1vEXb",
        "outputId": "88246f4b-1801-4243-bbad-1e3291dfece3"
      },
      "source": [
        "# (**) Exponent - Two multiplication operators make an exponent operator\n",
        "\n",
        "print(5**2)"
      ],
      "execution_count": null,
      "outputs": [
        {
          "output_type": "stream",
          "name": "stdout",
          "text": [
            "25\n"
          ]
        }
      ]
    },
    {
      "cell_type": "markdown",
      "metadata": {
        "id": "gGB4aDRFygkc"
      },
      "source": [
        "## Variables"
      ]
    },
    {
      "cell_type": "code",
      "metadata": {
        "colab": {
          "base_uri": "https://localhost:8080/",
          "height": 88
        },
        "id": "VMWDSNHuvEcs",
        "outputId": "8be6cd87-025e-4b40-e404-4532c6a7f414"
      },
      "source": [
        "'''\n",
        "Can be any type (Float, string, int, etc.)\n",
        "\n",
        "The left side is the variable and the right side is the value we want to assign to the variable.\n",
        "\n",
        "Rules of variables \n",
        "1. Don't make variables keywords (ex. if, else, return, True, etc) You can look up list of python keywords for more examples.\n",
        "\n",
        "2. Your variable name must start with a letter from a-z, A-Z, or an underscore character. (NO numbers in the beginning of your variable name)\n",
        "\n",
        "3. Make variable names that make sense with what's being assigned to them (ex. BondPrice, CapRate) \n",
        "\n",
        "4. Variables are case sensitive (Apple is NOT the same as apple)\n",
        "\n",
        "5. A variable name CANNOT contain spaces \n",
        "'''"
      ],
      "execution_count": 1,
      "outputs": [
        {
          "output_type": "execute_result",
          "data": {
            "application/vnd.google.colaboratory.intrinsic+json": {
              "type": "string"
            },
            "text/plain": [
              "\"\\nCan be any type (Float, string, int, etc.)\\n\\nThe left side is the variable and the right side is the value we want to assign to the variable.\\n\\nRules of variables \\n1. Don't make variables keywords (ex. if, else, return, True, etc) You can look up list of python keywords for more examples.\\n\\n2. Your variable name must start with a letter from a-z, A-Z, or an underscore character. (NO numbers in the beginning of your variable name)\\n\\n3. Make variable names that make sense with what's being assigned to them (ex. BondPrice, CapRate) \\n\\n4. Variables are case sensitive (Apple is NOT the same as apple)\\n\\n5. A variable name CANNOT contain spaces \\n\""
            ]
          },
          "metadata": {},
          "execution_count": 1
        }
      ]
    },
    {
      "cell_type": "code",
      "metadata": {
        "colab": {
          "base_uri": "https://localhost:8080/"
        },
        "id": "ANPgcFxWvEfm",
        "outputId": "35b244ec-fbe7-44de-d94b-c4905463ccdf"
      },
      "source": [
        "#Examples of variables\n",
        "\n",
        "ex = \"word\"\n",
        "print(ex)\n",
        "print(type(ex))"
      ],
      "execution_count": null,
      "outputs": [
        {
          "output_type": "stream",
          "name": "stdout",
          "text": [
            "word\n",
            "<class 'str'>\n"
          ]
        }
      ]
    },
    {
      "cell_type": "code",
      "metadata": {
        "colab": {
          "base_uri": "https://localhost:8080/"
        },
        "id": "uN7fUip2vEip",
        "outputId": "cd202de6-8f7a-4e0e-e065-8ea1df554d89"
      },
      "source": [
        "ex2 = 4.0\n",
        "print(ex2)\n",
        "print(type(ex2))"
      ],
      "execution_count": null,
      "outputs": [
        {
          "output_type": "stream",
          "name": "stdout",
          "text": [
            "4.0\n",
            "<class 'float'>\n"
          ]
        }
      ]
    },
    {
      "cell_type": "code",
      "metadata": {
        "colab": {
          "base_uri": "https://localhost:8080/"
        },
        "id": "NsBYQTM5vElS",
        "outputId": "ba36d1f6-b7c6-4d21-e471-8199aee0c69c"
      },
      "source": [
        "width = 10\n",
        "length = 5 \n",
        "area = width * length\n",
        "\n",
        "print(area)\n",
        "print(type(area))"
      ],
      "execution_count": null,
      "outputs": [
        {
          "output_type": "stream",
          "name": "stdout",
          "text": [
            "50\n",
            "<class 'int'>\n"
          ]
        }
      ]
    },
    {
      "cell_type": "code",
      "metadata": {
        "colab": {
          "base_uri": "https://localhost:8080/"
        },
        "id": "ycLgzl_2vEoG",
        "outputId": "779cb953-1380-4a9c-e6fa-d4e3943fd64e"
      },
      "source": [
        "#You can also redefine variables \n",
        "\n",
        "var1 = 3.0\n",
        "print(var1)"
      ],
      "execution_count": null,
      "outputs": [
        {
          "output_type": "stream",
          "name": "stdout",
          "text": [
            "3.0\n"
          ]
        }
      ]
    },
    {
      "cell_type": "code",
      "metadata": {
        "colab": {
          "base_uri": "https://localhost:8080/"
        },
        "id": "F4404Ivfzc5r",
        "outputId": "22ea0669-a9f7-401b-c153-ae43ba92b4b7"
      },
      "source": [
        "var1 = 3.5\n",
        "print(var1)"
      ],
      "execution_count": null,
      "outputs": [
        {
          "output_type": "stream",
          "name": "stdout",
          "text": [
            "3.5\n"
          ]
        }
      ]
    },
    {
      "cell_type": "code",
      "metadata": {
        "colab": {
          "base_uri": "https://localhost:8080/"
        },
        "id": "or3MXBFFzc8d",
        "outputId": "9bb0d5a0-51eb-4f5c-ebe6-99fffbada9e1"
      },
      "source": [
        "#We can reassign variables to another data type. This can be done with casting \n",
        "#5 is an integer, but lets turn it into a float\n",
        "\n",
        "ex3 = 5\n",
        "print(type(ex3))\n",
        "print(ex3)"
      ],
      "execution_count": null,
      "outputs": [
        {
          "output_type": "stream",
          "name": "stdout",
          "text": [
            "<class 'int'>\n",
            "5\n"
          ]
        }
      ]
    },
    {
      "cell_type": "code",
      "metadata": {
        "colab": {
          "base_uri": "https://localhost:8080/"
        },
        "id": "Q3CHX_Vyzc-8",
        "outputId": "27d91cad-e57b-4a90-8f8a-ff6d57025859"
      },
      "source": [
        "ex4 = float(ex3)\n",
        "print(type(ex4))\n",
        "print(ex4)"
      ],
      "execution_count": null,
      "outputs": [
        {
          "output_type": "stream",
          "name": "stdout",
          "text": [
            "<class 'float'>\n",
            "5.0\n"
          ]
        }
      ]
    },
    {
      "cell_type": "code",
      "metadata": {
        "colab": {
          "base_uri": "https://localhost:8080/"
        },
        "id": "X_67pmIUzdBh",
        "outputId": "864d7a29-5d20-44f6-94d5-cb39ac2bc419"
      },
      "source": [
        "#Another example\n",
        "num = 55\n",
        "print(type(num))\n",
        "print(num)"
      ],
      "execution_count": null,
      "outputs": [
        {
          "output_type": "stream",
          "name": "stdout",
          "text": [
            "<class 'int'>\n",
            "55\n"
          ]
        }
      ]
    },
    {
      "cell_type": "code",
      "metadata": {
        "colab": {
          "base_uri": "https://localhost:8080/"
        },
        "id": "JiHOmCSuzdEJ",
        "outputId": "f6d90448-07b3-4a6e-fdf3-fe5fb9eef5bc"
      },
      "source": [
        "num2 = str(num)\n",
        "print(type(num2))\n",
        "print(num2)"
      ],
      "execution_count": null,
      "outputs": [
        {
          "output_type": "stream",
          "name": "stdout",
          "text": [
            "<class 'str'>\n",
            "55\n"
          ]
        }
      ]
    },
    {
      "cell_type": "code",
      "metadata": {
        "colab": {
          "base_uri": "https://localhost:8080/"
        },
        "id": "WEn0iu2ezdG5",
        "outputId": "9fdb0e89-78a7-401f-93ba-cbdf5a9ddfbe"
      },
      "source": [
        "#You can also do this without variables\n",
        "\n",
        "print(type(4))\n",
        "print(type(str(4)))"
      ],
      "execution_count": null,
      "outputs": [
        {
          "output_type": "stream",
          "name": "stdout",
          "text": [
            "<class 'int'>\n",
            "<class 'str'>\n"
          ]
        }
      ]
    },
    {
      "cell_type": "code",
      "metadata": {
        "colab": {
          "base_uri": "https://localhost:8080/"
        },
        "id": "y_CmG2pkzdJl",
        "outputId": "7102c497-088b-4f5f-f9ae-b9745ccdddfd"
      },
      "source": [
        "print(type(10.45))\n",
        "print(type(int(10.45)))"
      ],
      "execution_count": null,
      "outputs": [
        {
          "output_type": "stream",
          "name": "stdout",
          "text": [
            "<class 'float'>\n",
            "<class 'int'>\n"
          ]
        }
      ]
    },
    {
      "cell_type": "code",
      "metadata": {
        "colab": {
          "base_uri": "https://localhost:8080/"
        },
        "id": "D1MIuMHbhxHj",
        "outputId": "c41167b8-02c5-4181-ca2a-ebae80f4dffd"
      },
      "source": [
        "print(bool(\"Hi\"))\n",
        "\n",
        "print(type(bool(\"Hi\")))\n",
        "\n",
        "print(bool(\"\"))"
      ],
      "execution_count": null,
      "outputs": [
        {
          "output_type": "stream",
          "name": "stdout",
          "text": [
            "True\n",
            "<class 'bool'>\n",
            "False\n"
          ]
        }
      ]
    },
    {
      "cell_type": "code",
      "metadata": {
        "colab": {
          "base_uri": "https://localhost:8080/"
        },
        "id": "KfDJNMKsinib",
        "outputId": "d9f2e9dd-b084-4fda-e831-05b77120321d"
      },
      "source": [
        "print(bool(10.323234))\n",
        "\n",
        "print(type(bool(0)))\n",
        "\n",
        "print(bool(0))"
      ],
      "execution_count": null,
      "outputs": [
        {
          "output_type": "stream",
          "name": "stdout",
          "text": [
            "True\n",
            "<class 'bool'>\n",
            "False\n"
          ]
        }
      ]
    },
    {
      "cell_type": "code",
      "metadata": {
        "colab": {
          "base_uri": "https://localhost:8080/"
        },
        "id": "VWnUZWe1hoPy",
        "outputId": "f3e9d279-eabe-4669-d1af-a849ea425144"
      },
      "source": [
        "print(type(True))\n",
        "\n",
        "print(str(True))\n",
        "\n",
        "print(type(str(True)))"
      ],
      "execution_count": null,
      "outputs": [
        {
          "output_type": "stream",
          "name": "stdout",
          "text": [
            "<class 'bool'>\n",
            "True\n",
            "<class 'str'>\n"
          ]
        }
      ]
    },
    {
      "cell_type": "code",
      "metadata": {
        "colab": {
          "base_uri": "https://localhost:8080/"
        },
        "id": "DaYq9vqIhFdk",
        "outputId": "b90f5220-0592-4089-c7d6-06b890f8f86c"
      },
      "source": [
        "print(type(True))\n",
        "\n",
        "print(float(True))\n",
        "\n",
        "print(type(float(True)))"
      ],
      "execution_count": null,
      "outputs": [
        {
          "output_type": "stream",
          "name": "stdout",
          "text": [
            "<class 'bool'>\n",
            "1.0\n",
            "<class 'float'>\n"
          ]
        }
      ]
    },
    {
      "cell_type": "code",
      "metadata": {
        "colab": {
          "base_uri": "https://localhost:8080/"
        },
        "id": "U5hLkAr8hsur",
        "outputId": "8654a34b-0c57-4905-e8e8-e699fff9c172"
      },
      "source": [
        "print(type(False))\n",
        "\n",
        "print(int(False))\n",
        "\n",
        "print(type(int(False)))"
      ],
      "execution_count": null,
      "outputs": [
        {
          "output_type": "stream",
          "name": "stdout",
          "text": [
            "<class 'bool'>\n",
            "0\n",
            "<class 'int'>\n"
          ]
        }
      ]
    },
    {
      "cell_type": "code",
      "metadata": {
        "colab": {
          "base_uri": "https://localhost:8080/",
          "height": 204
        },
        "id": "CbqJE71vzdMa",
        "outputId": "40cb40cf-bf83-4e7e-c940-5d02206037ef"
      },
      "source": [
        "#It won't work for some things, like you can't change a string into an integer unless it's a number in the string\n",
        "\n",
        "print(type(int(\"David\")))"
      ],
      "execution_count": null,
      "outputs": [
        {
          "output_type": "error",
          "ename": "ValueError",
          "evalue": "ignored",
          "traceback": [
            "\u001b[0;31m---------------------------------------------------------------------------\u001b[0m",
            "\u001b[0;31mValueError\u001b[0m                                Traceback (most recent call last)",
            "\u001b[0;32m<ipython-input-99-d06722094a31>\u001b[0m in \u001b[0;36m<module>\u001b[0;34m()\u001b[0m\n\u001b[1;32m      1\u001b[0m \u001b[0;31m#It won't work for some things, like you can't change a string into an integer unless it's a number in the string\u001b[0m\u001b[0;34m\u001b[0m\u001b[0;34m\u001b[0m\u001b[0;34m\u001b[0m\u001b[0m\n\u001b[1;32m      2\u001b[0m \u001b[0;34m\u001b[0m\u001b[0m\n\u001b[0;32m----> 3\u001b[0;31m \u001b[0mprint\u001b[0m\u001b[0;34m(\u001b[0m\u001b[0mtype\u001b[0m\u001b[0;34m(\u001b[0m\u001b[0mint\u001b[0m\u001b[0;34m(\u001b[0m\u001b[0;34m\"David\"\u001b[0m\u001b[0;34m)\u001b[0m\u001b[0;34m)\u001b[0m\u001b[0;34m)\u001b[0m\u001b[0;34m\u001b[0m\u001b[0;34m\u001b[0m\u001b[0m\n\u001b[0m",
            "\u001b[0;31mValueError\u001b[0m: invalid literal for int() with base 10: 'David'"
          ]
        }
      ]
    },
    {
      "cell_type": "code",
      "metadata": {
        "colab": {
          "base_uri": "https://localhost:8080/"
        },
        "id": "aIKughKXzdPO",
        "outputId": "ab4f5eb3-e71a-4136-b146-40cbb7d3c675"
      },
      "source": [
        "#This will work because there's a number in the string\n",
        "\n",
        "print(int(\"55\"))\n",
        "\n",
        "print(type(int(\"55\")))"
      ],
      "execution_count": null,
      "outputs": [
        {
          "output_type": "stream",
          "name": "stdout",
          "text": [
            "55\n",
            "<class 'int'>\n"
          ]
        }
      ]
    },
    {
      "cell_type": "markdown",
      "metadata": {
        "id": "aFW-8pW_1gZ0"
      },
      "source": [
        "##Input function"
      ]
    },
    {
      "cell_type": "code",
      "metadata": {
        "colab": {
          "base_uri": "https://localhost:8080/",
          "height": 53
        },
        "id": "6nQwpKouzdSG",
        "outputId": "a131f86f-4ac7-4d3c-97bc-73646c0b4d36"
      },
      "source": [
        "#Input functions allows a user to input information into our program. \n",
        "\n",
        "input(\"Enter your first and last name: \")"
      ],
      "execution_count": null,
      "outputs": [
        {
          "name": "stdout",
          "output_type": "stream",
          "text": [
            "Enter your first and last name: David Mena\n"
          ]
        },
        {
          "output_type": "execute_result",
          "data": {
            "application/vnd.google.colaboratory.intrinsic+json": {
              "type": "string"
            },
            "text/plain": [
              "'David Mena'"
            ]
          },
          "metadata": {},
          "execution_count": 101
        }
      ]
    },
    {
      "cell_type": "code",
      "metadata": {
        "colab": {
          "base_uri": "https://localhost:8080/"
        },
        "id": "-9t4PA48zdU-",
        "outputId": "71e52470-6671-4857-941f-f53f4025c8a5"
      },
      "source": [
        "#We'll be able take this information, assign it to a variable, and then do something with that variable.\n",
        "\n",
        "name = input(\"Enter your first and last name: \")\n",
        "\n",
        "print(\"Hey \" + name + \"!\")"
      ],
      "execution_count": null,
      "outputs": [
        {
          "output_type": "stream",
          "name": "stdout",
          "text": [
            "Enter your first and last name: David Mena\n",
            "Hey David Mena!\n"
          ]
        }
      ]
    },
    {
      "cell_type": "code",
      "metadata": {
        "colab": {
          "base_uri": "https://localhost:8080/",
          "height": 204
        },
        "id": "l4SDlsDHzdXp",
        "outputId": "3d0bd576-82c2-4f1b-89dc-6fd51fa38b51"
      },
      "source": [
        "'''The print statement above uses concatenation to combine the elements. \n",
        "NOTE: You can only concatenate a string with another string. \n",
        "For example, if I want to combine a variable that holds an integer with a string, it will give me an error. '''\n",
        "\n",
        "print(\"David is \" + 21)"
      ],
      "execution_count": null,
      "outputs": [
        {
          "output_type": "error",
          "ename": "TypeError",
          "evalue": "ignored",
          "traceback": [
            "\u001b[0;31m---------------------------------------------------------------------------\u001b[0m",
            "\u001b[0;31mTypeError\u001b[0m                                 Traceback (most recent call last)",
            "\u001b[0;32m<ipython-input-104-a7de7baa6794>\u001b[0m in \u001b[0;36m<module>\u001b[0;34m()\u001b[0m\n\u001b[1;32m      3\u001b[0m For example, if I want to combine a variable that holds an integer with a string, it will give me an error. '''\n\u001b[1;32m      4\u001b[0m \u001b[0;34m\u001b[0m\u001b[0m\n\u001b[0;32m----> 5\u001b[0;31m \u001b[0mprint\u001b[0m\u001b[0;34m(\u001b[0m\u001b[0;34m\"David is \"\u001b[0m \u001b[0;34m+\u001b[0m \u001b[0;36m21\u001b[0m\u001b[0;34m)\u001b[0m\u001b[0;34m\u001b[0m\u001b[0;34m\u001b[0m\u001b[0m\n\u001b[0m",
            "\u001b[0;31mTypeError\u001b[0m: can only concatenate str (not \"int\") to str"
          ]
        }
      ]
    },
    {
      "cell_type": "code",
      "metadata": {
        "colab": {
          "base_uri": "https://localhost:8080/"
        },
        "id": "eaqMv2n3zdam",
        "outputId": "f5a84616-5141-4e88-b3ab-fe6fd35c30a3"
      },
      "source": [
        "#You can get around this by turning the element into a string. \n",
        "\n",
        "print(\"David is \" + str(21))"
      ],
      "execution_count": null,
      "outputs": [
        {
          "output_type": "stream",
          "name": "stdout",
          "text": [
            "David is 21\n"
          ]
        }
      ]
    },
    {
      "cell_type": "code",
      "metadata": {
        "colab": {
          "base_uri": "https://localhost:8080/"
        },
        "id": "rBO05eoIzddf",
        "outputId": "3830f212-3754-4e4a-cb0c-9924d2bfceb8"
      },
      "source": [
        "#You can also combine variables with a comma. For example:\n",
        "\n",
        "x = 21\n",
        "a = \"David\" \n",
        "print(a, \"is\", x)"
      ],
      "execution_count": null,
      "outputs": [
        {
          "output_type": "stream",
          "name": "stdout",
          "text": [
            "David is 21\n"
          ]
        }
      ]
    },
    {
      "cell_type": "code",
      "metadata": {
        "colab": {
          "base_uri": "https://localhost:8080/"
        },
        "id": "LYQ2dpi6zdgZ",
        "outputId": "8f63ee36-61cd-4188-91ab-aeae36f72e0c"
      },
      "source": [
        "#if you did this with concatenation, you'd have to turn x into a string, for example:\n",
        "\n",
        "print(a + \" is \" + str(x))"
      ],
      "execution_count": null,
      "outputs": [
        {
          "output_type": "stream",
          "name": "stdout",
          "text": [
            "David is 21\n"
          ]
        }
      ]
    },
    {
      "cell_type": "markdown",
      "metadata": {
        "id": "N5LOSEFI2Yjw"
      },
      "source": [
        "## Lists\n"
      ]
    },
    {
      "cell_type": "code",
      "metadata": {
        "id": "ngTNembVzdjn"
      },
      "source": [
        "'''We make a list the same way we make variables. \n",
        "When we make a list, we use open and close square brackets []. Python will know you're making a list when it sees this. \n",
        "For example: '''\n",
        "\n",
        "coworkers = [\"Jim\", \"Dwight\", \"Michael\", \"Pam\", \"Kevin\"]"
      ],
      "execution_count": null,
      "outputs": []
    },
    {
      "cell_type": "code",
      "metadata": {
        "id": "T4dC1ZCBzdmW"
      },
      "source": [
        "#You can put any data type into a list (strings, integers, booleans, etc).\n",
        "#We can make this list below and python will accept it.\n",
        "\n",
        "whatever = [\"David\", 1234, False]"
      ],
      "execution_count": null,
      "outputs": []
    },
    {
      "cell_type": "code",
      "metadata": {
        "colab": {
          "base_uri": "https://localhost:8080/"
        },
        "id": "LjvD5yIKzdpU",
        "outputId": "87d32426-ccf5-4856-e6ee-45ecb708c034"
      },
      "source": [
        "#Let's go back to the original list we made and work on it. print(coworkers) will print the list.\n",
        "\n",
        "print(coworkers) "
      ],
      "execution_count": null,
      "outputs": [
        {
          "output_type": "stream",
          "name": "stdout",
          "text": [
            "['Jim', 'Dwight', 'Michael', 'Pam', 'Kevin']\n"
          ]
        }
      ]
    },
    {
      "cell_type": "code",
      "metadata": {
        "colab": {
          "base_uri": "https://localhost:8080/"
        },
        "id": "V356Vn6kzdsQ",
        "outputId": "494850fe-314e-4c6f-eaa8-5bf8ff7603f9"
      },
      "source": [
        "'''We can access specific elements through indexing.\n",
        "Each element in the list has a specific index and they start from 0. \n",
        "Lets say we want to get Jim from the list.'''\n",
        "\n",
        "print(coworkers[0])"
      ],
      "execution_count": null,
      "outputs": [
        {
          "output_type": "stream",
          "name": "stdout",
          "text": [
            "Jim\n"
          ]
        }
      ]
    },
    {
      "cell_type": "code",
      "metadata": {
        "colab": {
          "base_uri": "https://localhost:8080/"
        },
        "id": "6p4m7Kj0zdvN",
        "outputId": "5e055d89-ea3d-4c35-aec3-caef72a9a817"
      },
      "source": [
        "#The code below will give us Michael\n",
        "\n",
        "print(coworkers[2]) "
      ],
      "execution_count": null,
      "outputs": [
        {
          "output_type": "stream",
          "name": "stdout",
          "text": [
            "Michael\n"
          ]
        }
      ]
    },
    {
      "cell_type": "code",
      "metadata": {
        "colab": {
          "base_uri": "https://localhost:8080/"
        },
        "id": "xs6fKPcuzdxu",
        "outputId": "297e9bf0-1090-449c-fe64-de3e7249574a"
      },
      "source": [
        "'''You can also access elements backwards through negative indexing.\n",
        "When we perform negative indexing, we start from -1, not 0.'''\n",
        "\n",
        "print(coworkers[-1])"
      ],
      "execution_count": null,
      "outputs": [
        {
          "output_type": "stream",
          "name": "stdout",
          "text": [
            "Kevin\n"
          ]
        }
      ]
    },
    {
      "cell_type": "code",
      "metadata": {
        "colab": {
          "base_uri": "https://localhost:8080/"
        },
        "id": "KlTw75Tu4KgR",
        "outputId": "dadf44ee-eb20-4e2b-dfc8-878c289c67bb"
      },
      "source": [
        "#if you want Pam you can do \n",
        "\n",
        "print(coworkers[-2])"
      ],
      "execution_count": null,
      "outputs": [
        {
          "output_type": "stream",
          "name": "stdout",
          "text": [
            "Pam\n"
          ]
        }
      ]
    },
    {
      "cell_type": "code",
      "metadata": {
        "colab": {
          "base_uri": "https://localhost:8080/"
        },
        "id": "HK8dJOauwnlB",
        "outputId": "7977d781-392b-4e93-c331-e1b8e9ad16b3"
      },
      "source": [
        "#for reference\n",
        "print(coworkers)"
      ],
      "execution_count": null,
      "outputs": [
        {
          "output_type": "stream",
          "name": "stdout",
          "text": [
            "['Jim', 'Dwight', 'Michael', 'Pam', 'Kevin']\n"
          ]
        }
      ]
    },
    {
      "cell_type": "code",
      "metadata": {
        "colab": {
          "base_uri": "https://localhost:8080/"
        },
        "id": "TCwnHuN34LKP",
        "outputId": "fbdd932b-f380-4a5a-9bbe-76c006a66029"
      },
      "source": [
        "'''Another way we can access elements is through slicing. We can achieve this by using a colon (:). \n",
        "There is a special case we MUST make note of when slicing lists, the index number we put after the colon.  \n",
        "When slicing, python will grab all the elements up to but NOT including the index after the colon.\n",
        "For example: '''\n",
        "\n",
        "print(coworkers[1:4])\n",
        "\n",
        "#The statement above grabbed index 1, 2, and 3, but not 4. "
      ],
      "execution_count": null,
      "outputs": [
        {
          "output_type": "stream",
          "name": "stdout",
          "text": [
            "['Dwight', 'Michael', 'Pam']\n"
          ]
        }
      ]
    },
    {
      "cell_type": "code",
      "metadata": {
        "colab": {
          "base_uri": "https://localhost:8080/"
        },
        "id": "9-53pBjn4LEq",
        "outputId": "b46b1fea-247d-4619-ba37-353b7d2cdaf3"
      },
      "source": [
        "#Leaving the number blank before or after the colon means it will get everything. For example:\n",
        "\n",
        "print(coworkers[:])"
      ],
      "execution_count": null,
      "outputs": [
        {
          "output_type": "stream",
          "name": "stdout",
          "text": [
            "['Jim', 'Dwight', 'Michael', 'Pam', 'Kevin']\n"
          ]
        }
      ]
    },
    {
      "cell_type": "code",
      "metadata": {
        "colab": {
          "base_uri": "https://localhost:8080/"
        },
        "id": "wxHnl7UA4LBu",
        "outputId": "3d905864-b0fb-40f8-ec9c-a64a5e3235c5"
      },
      "source": [
        "#Lets say I want to get the last 2 elements of the list, we can do \n",
        "#This will get the third element of the list and all of the elements after. \n",
        "\n",
        "print(coworkers[3:])"
      ],
      "execution_count": null,
      "outputs": [
        {
          "output_type": "stream",
          "name": "stdout",
          "text": [
            "['Pam', 'Kevin']\n"
          ]
        }
      ]
    },
    {
      "cell_type": "code",
      "metadata": {
        "colab": {
          "base_uri": "https://localhost:8080/"
        },
        "id": "xE-iapxV4LHg",
        "outputId": "0757ed79-79ef-4d94-c21a-544d8f6ae017"
      },
      "source": [
        "print(coworkers[:3])"
      ],
      "execution_count": null,
      "outputs": [
        {
          "output_type": "stream",
          "name": "stdout",
          "text": [
            "['Jim', 'Dwight', 'Michael']\n"
          ]
        }
      ]
    },
    {
      "cell_type": "code",
      "metadata": {
        "colab": {
          "base_uri": "https://localhost:8080/"
        },
        "id": "vPW46FRi4LQC",
        "outputId": "597d1754-8ed3-4be2-a9f4-0bb195f67e28"
      },
      "source": [
        "#We can also modify elements in a list. All we'll have to do is access the element and set it equal to whatever you want.\n",
        "#This works because lists are mutable, which means we can change them.\n",
        "\n",
        "coworkers[1] = \"Oscar\" \n",
        "print(coworkers)\n",
        "\n",
        "#Now Dwight was replaced with Oscar in the list."
      ],
      "execution_count": null,
      "outputs": [
        {
          "output_type": "stream",
          "name": "stdout",
          "text": [
            "['Jim', 'Oscar', 'Michael', 'Pam', 'Kevin']\n"
          ]
        }
      ]
    },
    {
      "cell_type": "markdown",
      "metadata": {
        "id": "nw_5W0dn56yU"
      },
      "source": [
        "##List functions"
      ]
    },
    {
      "cell_type": "code",
      "metadata": {
        "id": "cRMwAqOA4LV3"
      },
      "source": [
        "#There are functions already in python that let us do certain things to our lists.\n",
        "#Let's bring back our coworkers list and make a list of numbers.\n",
        "\n",
        "numbers = [10, 3, 100, 46, 58, 23]\n",
        "coworkers = [\"Jim\", \"Dwight\", \"Michael\", \"Pam\", \"Kevin\"]"
      ],
      "execution_count": null,
      "outputs": []
    },
    {
      "cell_type": "code",
      "metadata": {
        "colab": {
          "base_uri": "https://localhost:8080/"
        },
        "id": "_NneKbNG4LYy",
        "outputId": "1c9e7bb0-c621-483d-e411-b0622c6c0336"
      },
      "source": [
        "#One is called the .extend() function which lets you extend a list with another list.\n",
        "\n",
        "coworkers.extend(numbers)\n",
        "print(coworkers)"
      ],
      "execution_count": null,
      "outputs": [
        {
          "output_type": "stream",
          "name": "stdout",
          "text": [
            "['Jim', 'Dwight', 'Michael', 'Pam', 'Kevin', 10, 3, 100, 46, 58, 23]\n"
          ]
        }
      ]
    },
    {
      "cell_type": "code",
      "metadata": {
        "id": "CEJrYTRi4Lbm"
      },
      "source": [
        "#Another function is .append() which lets you add an individual element to the end of a list.\n",
        "#We'll run the original coworkers list to get rid of the numbers from the extend function.\n",
        "\n",
        "coworkers = [\"Jim\", \"Dwight\", \"Michael\", \"Pam\", \"Kevin\"]"
      ],
      "execution_count": null,
      "outputs": []
    },
    {
      "cell_type": "code",
      "metadata": {
        "colab": {
          "base_uri": "https://localhost:8080/"
        },
        "id": "HB_GGlf84Leq",
        "outputId": "20ccada5-5ba9-422a-f0c9-97f6cae2acf6"
      },
      "source": [
        "#Now lets append it with another coworker\n",
        "coworkers.append(\"Andy\")\n",
        "print(coworkers)"
      ],
      "execution_count": null,
      "outputs": [
        {
          "output_type": "stream",
          "name": "stdout",
          "text": [
            "['Jim', 'Dwight', 'Michael', 'Pam', 'Kevin', 'Andy']\n"
          ]
        }
      ]
    },
    {
      "cell_type": "code",
      "metadata": {
        "colab": {
          "base_uri": "https://localhost:8080/"
        },
        "id": "n4Ags1qa4LhY",
        "outputId": "8d2f9a22-bdfb-4c69-edb1-8c17854c79c2"
      },
      "source": [
        "#.insert() takes 2 arguments (index, element) and replaces the element at the index position with the element of your choice.\n",
        "#It doesn't replace the element at the original index, it moves the original element over to a new index position.\n",
        "\n",
        "coworkers.insert(3, \"Kelly\")\n",
        "print(coworkers)"
      ],
      "execution_count": null,
      "outputs": [
        {
          "output_type": "stream",
          "name": "stdout",
          "text": [
            "['Jim', 'Dwight', 'Michael', 'Kelly', 'Pam', 'Kevin', 'Andy']\n"
          ]
        }
      ]
    },
    {
      "cell_type": "code",
      "metadata": {
        "colab": {
          "base_uri": "https://localhost:8080/"
        },
        "id": "bqJ4S5Li4LkP",
        "outputId": "4825df31-1cd2-4b29-d69e-2a24786acb5d"
      },
      "source": [
        "#.remove() removes the element of your choice. The element you want to remove is the argument.\n",
        "\n",
        "coworkers.remove(\"Kevin\")\n",
        "print(coworkers)"
      ],
      "execution_count": null,
      "outputs": [
        {
          "output_type": "stream",
          "name": "stdout",
          "text": [
            "['Jim', 'Dwight', 'Michael', 'Kelly', 'Pam', 'Andy']\n"
          ]
        }
      ]
    },
    {
      "cell_type": "code",
      "metadata": {
        "colab": {
          "base_uri": "https://localhost:8080/"
        },
        "id": "jp66ze0T4LnW",
        "outputId": "c77bba13-4a13-48c3-cdf8-b9dffb734102"
      },
      "source": [
        "#.pop() removes the last element in the list. It can take no arguments or take an index position argument and will remove the element at the index position.\n",
        "\n",
        "coworkers.pop()\n",
        "print(coworkers)\n",
        "\n",
        "coworkers.pop(0)\n",
        "print(coworkers)"
      ],
      "execution_count": null,
      "outputs": [
        {
          "output_type": "stream",
          "name": "stdout",
          "text": [
            "['Jim', 'Dwight', 'Michael', 'Kelly', 'Pam']\n",
            "['Dwight', 'Michael', 'Kelly', 'Pam']\n"
          ]
        }
      ]
    },
    {
      "cell_type": "code",
      "metadata": {
        "id": "nXBqtmVQ0WPJ"
      },
      "source": [
        "#we'll run the original coworkers list again to get our elements back\n",
        "\n",
        "coworkers = [\"Jim\", \"Dwight\", \"Michael\", \"Pam\", \"Kevin\"]"
      ],
      "execution_count": null,
      "outputs": []
    },
    {
      "cell_type": "code",
      "metadata": {
        "colab": {
          "base_uri": "https://localhost:8080/"
        },
        "id": "RFW27uHE4LqS",
        "outputId": "106ba26d-111b-430f-8091-c188a7625b0a"
      },
      "source": [
        "#.index() tells you the index of the element you’re trying to find in the list. Accepts the element as the argument.\n",
        "\n",
        "coworkers.index(\"Dwight\")"
      ],
      "execution_count": null,
      "outputs": [
        {
          "output_type": "execute_result",
          "data": {
            "text/plain": [
              "1"
            ]
          },
          "metadata": {},
          "execution_count": 9
        }
      ]
    },
    {
      "cell_type": "code",
      "metadata": {
        "colab": {
          "base_uri": "https://localhost:8080/"
        },
        "id": "BxZXiFCg4LtR",
        "outputId": "286dc21f-3a41-4bc3-be35-97aba07d5279"
      },
      "source": [
        "'''.copy() will copy the list you choose to put before the dot.\n",
        "Lets make a variable called coworkers2.\n",
        "When we use .copy(), coworkers2 will have all the same attributes as coworkers since it's a copy.'''\n",
        "\n",
        "coworkers2 = coworkers.copy()\n",
        "print(coworkers2)"
      ],
      "execution_count": null,
      "outputs": [
        {
          "output_type": "stream",
          "name": "stdout",
          "text": [
            "['Jim', 'Dwight', 'Michael', 'Pam', 'Kevin']\n"
          ]
        }
      ]
    },
    {
      "cell_type": "code",
      "metadata": {
        "colab": {
          "base_uri": "https://localhost:8080/"
        },
        "id": "SJeBL35F4LwH",
        "outputId": "43ee88aa-5b9a-4418-8435-921253083d5c"
      },
      "source": [
        "#Let's use the numbers list we made along with the coworkers list for these remaining functions.\n",
        "\n",
        "#.sort() will sort a list in ascending or alphabetical order. For example:\n",
        "\n",
        "print(coworkers)\n",
        "coworkers.sort()\n",
        "print(coworkers)"
      ],
      "execution_count": null,
      "outputs": [
        {
          "output_type": "stream",
          "name": "stdout",
          "text": [
            "['Jim', 'Dwight', 'Michael', 'Pam', 'Kevin']\n",
            "['Dwight', 'Jim', 'Kevin', 'Michael', 'Pam']\n"
          ]
        }
      ]
    },
    {
      "cell_type": "code",
      "metadata": {
        "colab": {
          "base_uri": "https://localhost:8080/"
        },
        "id": "kEebQkAC4LzP",
        "outputId": "445e77f3-e176-4e0b-ac63-e68f3f6d9b94"
      },
      "source": [
        "#Another example\n",
        "\n",
        "print(numbers)\n",
        "numbers.sort()\n",
        "print(numbers)"
      ],
      "execution_count": null,
      "outputs": [
        {
          "output_type": "stream",
          "name": "stdout",
          "text": [
            "[10, 3, 100, 46, 58, 23]\n",
            "[3, 10, 23, 46, 58, 100]\n"
          ]
        }
      ]
    },
    {
      "cell_type": "code",
      "metadata": {
        "colab": {
          "base_uri": "https://localhost:8080/"
        },
        "id": "P9UPOSeu4L2e",
        "outputId": "d6f7db21-a56e-4265-e567-dbe01f15dc33"
      },
      "source": [
        "#.reverse() will reverse the order of the list. For example:\n",
        "\n",
        "print(coworkers)\n",
        "coworkers.reverse()\n",
        "print(coworkers)"
      ],
      "execution_count": null,
      "outputs": [
        {
          "output_type": "stream",
          "name": "stdout",
          "text": [
            "['Dwight', 'Jim', 'Kevin', 'Michael', 'Pam']\n",
            "['Pam', 'Michael', 'Kevin', 'Jim', 'Dwight']\n"
          ]
        }
      ]
    },
    {
      "cell_type": "code",
      "metadata": {
        "colab": {
          "base_uri": "https://localhost:8080/"
        },
        "id": "3Qeao5RL4L5G",
        "outputId": "2d130f79-8514-494d-fe8f-c55c192b13d7"
      },
      "source": [
        "#Another example\n",
        "\n",
        "print(numbers)\n",
        "numbers.reverse()\n",
        "print(numbers)"
      ],
      "execution_count": null,
      "outputs": [
        {
          "output_type": "stream",
          "name": "stdout",
          "text": [
            "[3, 10, 23, 46, 58, 100]\n",
            "[100, 58, 46, 23, 10, 3]\n"
          ]
        }
      ]
    },
    {
      "cell_type": "code",
      "metadata": {
        "colab": {
          "base_uri": "https://localhost:8080/"
        },
        "id": "2OKqfdK-4L8C",
        "outputId": "8f25a65a-2249-4c2e-b004-e96b9eb2d32a"
      },
      "source": [
        "#.clear() removes everything from the list\n",
        "\n",
        "print(coworkers)\n",
        "coworkers.clear()\n",
        "print(coworkers)"
      ],
      "execution_count": null,
      "outputs": [
        {
          "output_type": "stream",
          "name": "stdout",
          "text": [
            "['Pam', 'Michael', 'Kevin', 'Jim', 'Dwight']\n",
            "[]\n"
          ]
        }
      ]
    },
    {
      "cell_type": "code",
      "metadata": {
        "colab": {
          "base_uri": "https://localhost:8080/"
        },
        "id": "Q5m3YbUM4L_B",
        "outputId": "403c7377-762c-4b37-c6a9-828186f89631"
      },
      "source": [
        "#Another example\n",
        "\n",
        "print(numbers)\n",
        "numbers.clear()\n",
        "print(numbers)"
      ],
      "execution_count": null,
      "outputs": [
        {
          "output_type": "stream",
          "name": "stdout",
          "text": [
            "[100, 58, 46, 23, 10, 3]\n",
            "[]\n"
          ]
        }
      ]
    },
    {
      "cell_type": "markdown",
      "source": [
        "##Dictionaries"
      ],
      "metadata": {
        "id": "_7sMgm9VgbD_"
      }
    },
    {
      "cell_type": "code",
      "source": [
        "#Dictionaries are created using curly brackets, semi-colons, and commas\n",
        "#let's make a dictionary with employees as our key and the amount of clients they sign on in a quarter as the value\n",
        "\n",
        "sales = {\n",
        "    \"Jim\": 8,\n",
        "    \"Dwight\": 10,\n",
        "    \"Andy\": 2,\n",
        "    \"Pam\": 0,\n",
        "    }\n",
        "\n",
        "print(sales)"
      ],
      "metadata": {
        "colab": {
          "base_uri": "https://localhost:8080/"
        },
        "id": "AUFVbRHSgd9C",
        "outputId": "a1f187af-693c-4111-a307-5caeb781ce7d"
      },
      "execution_count": 2,
      "outputs": [
        {
          "output_type": "stream",
          "name": "stdout",
          "text": [
            "{'Jim': 8, 'Dwight': 10, 'Andy': 2, 'Pam': 0}\n"
          ]
        }
      ]
    },
    {
      "cell_type": "code",
      "source": [
        "#If you want a value from a specific key\n",
        "\n",
        "print(sales[\"Jim\"])"
      ],
      "metadata": {
        "colab": {
          "base_uri": "https://localhost:8080/"
        },
        "id": "CDNhQoNBizlN",
        "outputId": "6cdc5800-3dea-4a43-dd39-1412f675d992"
      },
      "execution_count": 3,
      "outputs": [
        {
          "output_type": "stream",
          "name": "stdout",
          "text": [
            "8\n"
          ]
        }
      ]
    },
    {
      "cell_type": "code",
      "source": [
        "#What if we wanted to remove a key-value pair from our dictionary?\n",
        "\n",
        "sales.pop('Pam')\n",
        "\n",
        "#Another way would be to use the del keyword\n",
        "#del sales['Pam']\n",
        "\n",
        "print(sales)"
      ],
      "metadata": {
        "colab": {
          "base_uri": "https://localhost:8080/"
        },
        "id": "ad6gfV5RmEvG",
        "outputId": "e985fc03-60df-4d23-db9a-58b88f96b816"
      },
      "execution_count": 4,
      "outputs": [
        {
          "output_type": "stream",
          "name": "stdout",
          "text": [
            "{'Jim': 8, 'Dwight': 10, 'Andy': 2}\n"
          ]
        }
      ]
    },
    {
      "cell_type": "code",
      "source": [
        "#What if we wanted to add more key-value pairs to an existing dictionary?\n",
        "#dict_name[‘key’] = value\n",
        "\n",
        "sales[\"Phyllis\"] = 6\n",
        "sales[\"Stanley\"] = 5\n",
        "\n",
        "print(sales)"
      ],
      "metadata": {
        "colab": {
          "base_uri": "https://localhost:8080/"
        },
        "id": "7sUuc6sKk7F6",
        "outputId": "b6019218-88f8-4f63-c8c0-f5aa6410a67e"
      },
      "execution_count": 5,
      "outputs": [
        {
          "output_type": "stream",
          "name": "stdout",
          "text": [
            "{'Jim': 8, 'Dwight': 10, 'Andy': 2, 'Phyllis': 6, 'Stanley': 5}\n"
          ]
        }
      ]
    },
    {
      "cell_type": "code",
      "source": [
        "#Let's say Andy forgot to log 2 of his sales, let's update the dictionary\n",
        "\n",
        "sales['Andy'] = 4\n",
        "\n",
        "print(sales)"
      ],
      "metadata": {
        "colab": {
          "base_uri": "https://localhost:8080/"
        },
        "id": "U0SRk-Vxk-7u",
        "outputId": "e844e248-e66f-4c9b-8c7d-68243a394847"
      },
      "execution_count": 6,
      "outputs": [
        {
          "output_type": "stream",
          "name": "stdout",
          "text": [
            "{'Jim': 8, 'Dwight': 10, 'Andy': 4, 'Phyllis': 6, 'Stanley': 5}\n"
          ]
        }
      ]
    },
    {
      "cell_type": "code",
      "source": [
        "#Another example\n",
        "#Let's say Dwight increased his sales by 5\n",
        "\n",
        "# We can assign 15 to Dwight\n",
        "\n",
        "sales[\"Dwight\"] = 15\n",
        "print(sales[\"Dwight\"])"
      ],
      "metadata": {
        "id": "WnFjnZYZnkw1",
        "colab": {
          "base_uri": "https://localhost:8080/"
        },
        "outputId": "dc6475bf-8034-4b56-f897-08094ff30135"
      },
      "execution_count": 7,
      "outputs": [
        {
          "output_type": "stream",
          "name": "stdout",
          "text": [
            "15\n",
            "15\n"
          ]
        }
      ]
    },
    {
      "cell_type": "code",
      "source": [
        "# Let's change Dwight's sales back to 10\n",
        "\n",
        "sales[\"Dwight\"] = 10"
      ],
      "metadata": {
        "id": "EnuciSzraGlb"
      },
      "execution_count": 8,
      "outputs": []
    },
    {
      "cell_type": "code",
      "source": [
        "# We can add 5 to Dwight's original sales value\n",
        "\n",
        "sales[\"Dwight\"] += 5\n",
        "print(sales[\"Dwight\"])"
      ],
      "metadata": {
        "id": "ecKB7W0aaIdJ"
      },
      "execution_count": null,
      "outputs": []
    },
    {
      "cell_type": "code",
      "source": [
        "#Method to see all of the keys in your dictionary\n",
        "\n",
        "sales.keys()"
      ],
      "metadata": {
        "colab": {
          "base_uri": "https://localhost:8080/"
        },
        "id": "ukhEjqXZk-33",
        "outputId": "2fd7dba2-5069-4cdd-e0fc-b848db7d76e7"
      },
      "execution_count": null,
      "outputs": [
        {
          "output_type": "execute_result",
          "data": {
            "text/plain": [
              "dict_keys(['Jim', 'Dwight', 'Andy', 'Phyllis', 'Stanley'])"
            ]
          },
          "metadata": {},
          "execution_count": 66
        }
      ]
    },
    {
      "cell_type": "code",
      "source": [
        "#Method to see all of the values in your dictionary\n",
        "\n",
        "sales.values()"
      ],
      "metadata": {
        "colab": {
          "base_uri": "https://localhost:8080/"
        },
        "id": "-12f9vJ7nkzG",
        "outputId": "7781c0bc-1933-4274-8d59-dcc5f693a768"
      },
      "execution_count": null,
      "outputs": [
        {
          "output_type": "execute_result",
          "data": {
            "text/plain": [
              "dict_values([8, 10, 4, 6, 5])"
            ]
          },
          "metadata": {},
          "execution_count": 67
        }
      ]
    },
    {
      "cell_type": "code",
      "source": [
        "#.update() method can combine two dictionaries\n",
        "\n",
        "print(sales)\n",
        "\n",
        "sales2 = {\n",
        "    'Karen': 6,\n",
        "    'Tony': 4,\n",
        "    'Martin': 3\n",
        "  }\n",
        "\n",
        "print(sales2)\n",
        "\n",
        "sales.update(sales2)\n",
        "print(sales)"
      ],
      "metadata": {
        "colab": {
          "base_uri": "https://localhost:8080/"
        },
        "id": "RcmVvqyUoFzu",
        "outputId": "bca28cc2-c461-4b74-921b-c2f3307d3d85"
      },
      "execution_count": null,
      "outputs": [
        {
          "output_type": "stream",
          "name": "stdout",
          "text": [
            "{'Jim': 8, 'Dwight': 15, 'Andy': 4, 'Phyllis': 6, 'Stanley': 5}\n",
            "{'Karen': 6, 'Tony': 4, 'Martin': 3}\n",
            "{'Jim': 8, 'Dwight': 15, 'Andy': 4, 'Phyllis': 6, 'Stanley': 5, 'Karen': 6, 'Tony': 4, 'Martin': 3}\n"
          ]
        }
      ]
    },
    {
      "cell_type": "code",
      "source": [
        "#.copy() method will copy the entire dictionary\n",
        "\n",
        "dictCopy = sales.copy()\n",
        "\n",
        "print(dictCopy)"
      ],
      "metadata": {
        "colab": {
          "base_uri": "https://localhost:8080/"
        },
        "id": "fDuNq11doFxi",
        "outputId": "cd68fe18-9451-4943-a422-540f4ddf0ebe"
      },
      "execution_count": null,
      "outputs": [
        {
          "output_type": "stream",
          "name": "stdout",
          "text": [
            "{'Jim': 8, 'Dwight': 15, 'Andy': 4, 'Phyllis': 6, 'Stanley': 5, 'Karen': 6, 'Tony': 4, 'Martin': 3}\n"
          ]
        }
      ]
    },
    {
      "cell_type": "code",
      "source": [
        "#What if you look for a key that isn't there?\n",
        "\n",
        "print(sales['Michael'])"
      ],
      "metadata": {
        "colab": {
          "base_uri": "https://localhost:8080/",
          "height": 200
        },
        "id": "aF0u-61_k_C1",
        "outputId": "a8db38fa-e1d9-4801-b12f-cfe0e74dbe3a"
      },
      "execution_count": null,
      "outputs": [
        {
          "output_type": "error",
          "ename": "KeyError",
          "evalue": "ignored",
          "traceback": [
            "\u001b[0;31m---------------------------------------------------------------------------\u001b[0m",
            "\u001b[0;31mKeyError\u001b[0m                                  Traceback (most recent call last)",
            "\u001b[0;32m<ipython-input-71-fe9e74d021c3>\u001b[0m in \u001b[0;36m<module>\u001b[0;34m()\u001b[0m\n\u001b[1;32m      1\u001b[0m \u001b[0;31m#What if you look for a key that isn't there?\u001b[0m\u001b[0;34m\u001b[0m\u001b[0;34m\u001b[0m\u001b[0;34m\u001b[0m\u001b[0m\n\u001b[1;32m      2\u001b[0m \u001b[0;34m\u001b[0m\u001b[0m\n\u001b[0;32m----> 3\u001b[0;31m \u001b[0mprint\u001b[0m\u001b[0;34m(\u001b[0m\u001b[0msales\u001b[0m\u001b[0;34m[\u001b[0m\u001b[0;34m'Michael'\u001b[0m\u001b[0;34m]\u001b[0m\u001b[0;34m)\u001b[0m\u001b[0;34m\u001b[0m\u001b[0;34m\u001b[0m\u001b[0m\n\u001b[0m",
            "\u001b[0;31mKeyError\u001b[0m: 'Michael'"
          ]
        }
      ]
    },
    {
      "cell_type": "code",
      "source": [
        "#If you use .get() it'll give you a null value, so you don't have to deal with errors\n",
        "\n",
        "print(sales.get('Michael'))"
      ],
      "metadata": {
        "colab": {
          "base_uri": "https://localhost:8080/"
        },
        "id": "TEy0gEMclv75",
        "outputId": "7984c8f6-f6ba-4640-a7de-6ad9d14c929f"
      },
      "execution_count": null,
      "outputs": [
        {
          "output_type": "stream",
          "name": "stdout",
          "text": [
            "None\n"
          ]
        }
      ]
    },
    {
      "cell_type": "code",
      "source": [
        "#.clear() method will clear the entire dictionary\n",
        "\n",
        "sales.clear()\n",
        "print(sales)"
      ],
      "metadata": {
        "colab": {
          "base_uri": "https://localhost:8080/"
        },
        "id": "eRamCILTnkqQ",
        "outputId": "65727b42-3805-4f62-b498-dca426be6772"
      },
      "execution_count": null,
      "outputs": [
        {
          "output_type": "stream",
          "name": "stdout",
          "text": [
            "{}\n"
          ]
        }
      ]
    },
    {
      "cell_type": "markdown",
      "source": [
        "##Functions"
      ],
      "metadata": {
        "id": "XcuItvagqzUX"
      }
    },
    {
      "cell_type": "code",
      "source": [
        "def greeting():\n",
        "  print(\"Hello, Dundler Mufflin\")\n",
        "\n",
        "greeting()"
      ],
      "metadata": {
        "colab": {
          "base_uri": "https://localhost:8080/"
        },
        "id": "fM_OtTgNq3rK",
        "outputId": "c0bcb37d-1dcd-4185-d201-71ef31eb664b"
      },
      "execution_count": null,
      "outputs": [
        {
          "output_type": "stream",
          "name": "stdout",
          "text": [
            "Hello, Dundler Mufflin\n"
          ]
        }
      ]
    },
    {
      "cell_type": "code",
      "source": [
        "#Let's talk about arguments\n",
        "\n",
        "def greeting(name):\n",
        "    print('Hey', name)\n",
        "\n",
        "greeting('Michael')"
      ],
      "metadata": {
        "colab": {
          "base_uri": "https://localhost:8080/"
        },
        "id": "xI9X-ywCsTmY",
        "outputId": "44f71150-2be3-46b5-ecb3-e9f94f8014fb"
      },
      "execution_count": null,
      "outputs": [
        {
          "output_type": "stream",
          "name": "stdout",
          "text": [
            "Hey Michael\n"
          ]
        }
      ]
    },
    {
      "cell_type": "code",
      "source": [
        "#What if you call the function without an argument\n",
        "\n",
        "greeting()"
      ],
      "metadata": {
        "colab": {
          "base_uri": "https://localhost:8080/",
          "height": 200
        },
        "id": "BGvKOtnRs-tn",
        "outputId": "c10949ff-1faa-42ae-b729-45750a639a90"
      },
      "execution_count": null,
      "outputs": [
        {
          "output_type": "error",
          "ename": "TypeError",
          "evalue": "ignored",
          "traceback": [
            "\u001b[0;31m---------------------------------------------------------------------------\u001b[0m",
            "\u001b[0;31mTypeError\u001b[0m                                 Traceback (most recent call last)",
            "\u001b[0;32m<ipython-input-78-0b57304a08f1>\u001b[0m in \u001b[0;36m<module>\u001b[0;34m()\u001b[0m\n\u001b[1;32m      1\u001b[0m \u001b[0;31m#What if you call the function without an argument\u001b[0m\u001b[0;34m\u001b[0m\u001b[0;34m\u001b[0m\u001b[0;34m\u001b[0m\u001b[0m\n\u001b[1;32m      2\u001b[0m \u001b[0;34m\u001b[0m\u001b[0m\n\u001b[0;32m----> 3\u001b[0;31m \u001b[0mgreeting\u001b[0m\u001b[0;34m(\u001b[0m\u001b[0;34m)\u001b[0m\u001b[0;34m\u001b[0m\u001b[0;34m\u001b[0m\u001b[0m\n\u001b[0m",
            "\u001b[0;31mTypeError\u001b[0m: greeting() missing 1 required positional argument: 'name'"
          ]
        }
      ]
    },
    {
      "cell_type": "code",
      "source": [
        "#We can give a default value to the argument in the function\n",
        "\n",
        "def greeting(name = 'Employee'):\n",
        "    print('Hey', name)\n",
        "\n",
        "greeting()"
      ],
      "metadata": {
        "colab": {
          "base_uri": "https://localhost:8080/"
        },
        "id": "tuZUGd0EtFa3",
        "outputId": "ec2dad93-23c7-4a01-b305-b2e4fa089fef"
      },
      "execution_count": null,
      "outputs": [
        {
          "output_type": "stream",
          "name": "stdout",
          "text": [
            "Hey Employee\n"
          ]
        }
      ]
    },
    {
      "cell_type": "code",
      "source": [
        "#We can also have multiple arguments in a function\n",
        "\n",
        "def staff(name, role):\n",
        "    print(name, \"is\", role)\n",
        "\n",
        "greeting(\"Michael\", \"Branch Manager\")"
      ],
      "metadata": {
        "colab": {
          "base_uri": "https://localhost:8080/"
        },
        "id": "cf5WWy-WtTSw",
        "outputId": "7b39f471-092f-4dd6-cfbf-d29b1eca5d57"
      },
      "execution_count": null,
      "outputs": [
        {
          "output_type": "stream",
          "name": "stdout",
          "text": [
            "Michael is Branch Manager\n"
          ]
        }
      ]
    },
    {
      "cell_type": "code",
      "source": [
        "#Let's create a function that calculates the area of a triangle\n",
        "\n",
        "def area(base, height):\n",
        "    triangle = 0.5 * base * height\n",
        "    return triangle\n",
        "\n",
        "area(5, 10)"
      ],
      "metadata": {
        "colab": {
          "base_uri": "https://localhost:8080/"
        },
        "id": "Pmrm47hut5fX",
        "outputId": "118823de-c7c6-4260-e35f-bec2a63e9f05"
      },
      "execution_count": null,
      "outputs": [
        {
          "output_type": "execute_result",
          "data": {
            "text/plain": [
              "25.0"
            ]
          },
          "metadata": {},
          "execution_count": 90
        }
      ]
    },
    {
      "cell_type": "code",
      "source": [
        "#Let's create a function to find volume \n",
        "\n",
        "def volume(length):\n",
        "  areaVar = area(5, 10)\n",
        "  volVar = areaVar * length \n",
        "  return volVar\n",
        "\n",
        "print(\"The volume of the object is\", volume(20))"
      ],
      "metadata": {
        "colab": {
          "base_uri": "https://localhost:8080/"
        },
        "id": "fPivtBkIukUy",
        "outputId": "df2bacb5-475a-4019-d416-d928396e3dea"
      },
      "execution_count": null,
      "outputs": [
        {
          "output_type": "stream",
          "name": "stdout",
          "text": [
            "The volume of the object is 500.0\n"
          ]
        }
      ]
    },
    {
      "cell_type": "markdown",
      "metadata": {
        "id": "M4e9wAocnXY1"
      },
      "source": [
        "#Thank you for joining our Python Workshop #1"
      ]
    }
  ]
}